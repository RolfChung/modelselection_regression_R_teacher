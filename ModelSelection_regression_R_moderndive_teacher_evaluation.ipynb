{
 "cells": [
  {
   "cell_type": "markdown",
   "metadata": {},
   "source": [
    "### Summary\n",
    "\n",
    "In this project data modeling and model selection are the main goals. The models applied here are regression models.In general regression models trying to explore the connection between an response and a predictor variables. The models are applied here to the teacher evaluation score data set. The goal is to make predictions like the prediction of the teacher evaluation score based on age. On the way different cleaning techniques and exploration methods are applied and helper functions written. Also the train-test-working flow is applied to increase accuracy, validity and repeatability. Besides other packages the moderndive packages are used in the tidyverse.\n"
   ]
  },
  {
   "cell_type": "markdown",
   "metadata": {},
   "source": [
    "### Install and call packages"
   ]
  },
  {
   "cell_type": "code",
   "execution_count": 187,
   "metadata": {},
   "outputs": [
    {
     "name": "stderr",
     "output_type": "stream",
     "text": [
      "Installing package into 'C:/Users/gamarandor/Documents/R/win-library/3.5'\n",
      "(as 'lib' is unspecified)\n",
      "Warning message:\n",
      "\"package 'tidyverse' is in use and will not be installed\""
     ]
    }
   ],
   "source": [
    "install.packages(\"tidyverse\", repos='http://cran.us.r-project.org')"
   ]
  },
  {
   "cell_type": "code",
   "execution_count": 188,
   "metadata": {},
   "outputs": [],
   "source": [
    "# Which packages were installed\n",
    "library(tidyverse)"
   ]
  },
  {
   "cell_type": "code",
   "execution_count": 189,
   "metadata": {},
   "outputs": [
    {
     "data": {
      "text/html": [
       "<ol class=list-inline>\n",
       "\t<li>'broom'</li>\n",
       "\t<li>'cli'</li>\n",
       "\t<li>'crayon'</li>\n",
       "\t<li>'dplyr'</li>\n",
       "\t<li>'dbplyr'</li>\n",
       "\t<li>'forcats'</li>\n",
       "\t<li>'ggplot2'</li>\n",
       "\t<li>'haven'</li>\n",
       "\t<li>'hms'</li>\n",
       "\t<li>'httr'</li>\n",
       "\t<li>'jsonlite'</li>\n",
       "\t<li>'lubridate'</li>\n",
       "\t<li>'magrittr'</li>\n",
       "\t<li>'modelr'</li>\n",
       "\t<li>'purrr'</li>\n",
       "\t<li>'readr'</li>\n",
       "\t<li>'readxl\\n(&gt;='</li>\n",
       "\t<li>'reprex'</li>\n",
       "\t<li>'rlang'</li>\n",
       "\t<li>'rstudioapi'</li>\n",
       "\t<li>'rvest'</li>\n",
       "\t<li>'stringr'</li>\n",
       "\t<li>'tibble'</li>\n",
       "\t<li>'tidyr'</li>\n",
       "\t<li>'xml2'</li>\n",
       "\t<li>'tidyverse'</li>\n",
       "</ol>\n"
      ],
      "text/latex": [
       "\\begin{enumerate*}\n",
       "\\item 'broom'\n",
       "\\item 'cli'\n",
       "\\item 'crayon'\n",
       "\\item 'dplyr'\n",
       "\\item 'dbplyr'\n",
       "\\item 'forcats'\n",
       "\\item 'ggplot2'\n",
       "\\item 'haven'\n",
       "\\item 'hms'\n",
       "\\item 'httr'\n",
       "\\item 'jsonlite'\n",
       "\\item 'lubridate'\n",
       "\\item 'magrittr'\n",
       "\\item 'modelr'\n",
       "\\item 'purrr'\n",
       "\\item 'readr'\n",
       "\\item 'readxl\\textbackslash{}n(>='\n",
       "\\item 'reprex'\n",
       "\\item 'rlang'\n",
       "\\item 'rstudioapi'\n",
       "\\item 'rvest'\n",
       "\\item 'stringr'\n",
       "\\item 'tibble'\n",
       "\\item 'tidyr'\n",
       "\\item 'xml2'\n",
       "\\item 'tidyverse'\n",
       "\\end{enumerate*}\n"
      ],
      "text/markdown": [
       "1. 'broom'\n",
       "2. 'cli'\n",
       "3. 'crayon'\n",
       "4. 'dplyr'\n",
       "5. 'dbplyr'\n",
       "6. 'forcats'\n",
       "7. 'ggplot2'\n",
       "8. 'haven'\n",
       "9. 'hms'\n",
       "10. 'httr'\n",
       "11. 'jsonlite'\n",
       "12. 'lubridate'\n",
       "13. 'magrittr'\n",
       "14. 'modelr'\n",
       "15. 'purrr'\n",
       "16. 'readr'\n",
       "17. 'readxl\\n(&gt;='\n",
       "18. 'reprex'\n",
       "19. 'rlang'\n",
       "20. 'rstudioapi'\n",
       "21. 'rvest'\n",
       "22. 'stringr'\n",
       "23. 'tibble'\n",
       "24. 'tidyr'\n",
       "25. 'xml2'\n",
       "26. 'tidyverse'\n",
       "\n",
       "\n"
      ],
      "text/plain": [
       " [1] \"broom\"       \"cli\"         \"crayon\"      \"dplyr\"       \"dbplyr\"     \n",
       " [6] \"forcats\"     \"ggplot2\"     \"haven\"       \"hms\"         \"httr\"       \n",
       "[11] \"jsonlite\"    \"lubridate\"   \"magrittr\"    \"modelr\"      \"purrr\"      \n",
       "[16] \"readr\"       \"readxl\\n(>=\" \"reprex\"      \"rlang\"       \"rstudioapi\" \n",
       "[21] \"rvest\"       \"stringr\"     \"tibble\"      \"tidyr\"       \"xml2\"       \n",
       "[26] \"tidyverse\"  "
      ]
     },
     "metadata": {},
     "output_type": "display_data"
    }
   ],
   "source": [
    "tidyverse_packages()"
   ]
  },
  {
   "cell_type": "code",
   "execution_count": 190,
   "metadata": {},
   "outputs": [
    {
     "name": "stderr",
     "output_type": "stream",
     "text": [
      "Installing package into 'C:/Users/gamarandor/Documents/R/win-library/3.5'\n",
      "(as 'lib' is unspecified)\n",
      "Warning message:\n",
      "\"package 'moderndive' is in use and will not be installed\""
     ]
    }
   ],
   "source": [
    "install.packages(\"moderndive\", repos='http://cran.us.r-project.org')"
   ]
  },
  {
   "cell_type": "code",
   "execution_count": 191,
   "metadata": {},
   "outputs": [],
   "source": [
    "# Description\n",
    "# Datasets and wrapper functions for tidyverse-friendly introductory linear regression, used in ModernDive:\n",
    "# An Introduction to Statistical and Data Sciences via R available at <http://moderndive.com/> \n",
    "# https://cran.r-project.org/web/packages/moderndive/moderndive.pdf\n",
    "\n",
    "library(moderndive)\n",
    "library(Metrics)"
   ]
  },
  {
   "cell_type": "markdown",
   "metadata": {},
   "source": [
    "### Teacher Evaluations dataset (evals)"
   ]
  },
  {
   "cell_type": "markdown",
   "metadata": {},
   "source": [
    "<p>\n",
    "The data are gathered from end of semester student evaluations for a large sample of professors\n",
    "from the University of Texas at Austin. In addition, six students rate the \n",
    "professors' physical appearance. The result is a data frame where each row contains a different course \n",
    "and each column has information on either the course or the professor.\n",
    "The data are gathered from end of semester student evaluations for a large sample of professors \n",
    "from the University of Texas at Austin. In addition, six students rate the professors' physical appearance. \n",
    "The result is a data frame where each row contains a different course and each column has information \n",
    "on either the course or the professor.\n",
    "</p>"
   ]
  },
  {
   "cell_type": "markdown",
   "metadata": {},
   "source": [
    "####  Looking at the whole data"
   ]
  },
  {
   "cell_type": "code",
   "execution_count": 192,
   "metadata": {},
   "outputs": [
    {
     "name": "stdout",
     "output_type": "stream",
     "text": [
      "Observations: 463\n",
      "Variables: 13\n",
      "$ ID           <int> 1, 2, 3, 4, 5, 6, 7, 8, 9, 10, 11, 12, 13, 14, 15, 16,...\n",
      "$ score        <dbl> 4.7, 4.1, 3.9, 4.8, 4.6, 4.3, 2.8, 4.1, 3.4, 4.5, 3.8,...\n",
      "$ age          <int> 36, 36, 36, 36, 59, 59, 59, 51, 51, 40, 40, 40, 40, 40...\n",
      "$ bty_avg      <dbl> 5.000, 5.000, 5.000, 5.000, 3.000, 3.000, 3.000, 3.333...\n",
      "$ gender       <fct> female, female, female, female, male, male, male, male...\n",
      "$ ethnicity    <fct> minority, minority, minority, minority, not minority, ...\n",
      "$ language     <fct> english, english, english, english, english, english, ...\n",
      "$ rank         <fct> tenure track, tenure track, tenure track, tenure track...\n",
      "$ pic_outfit   <fct> not formal, not formal, not formal, not formal, not fo...\n",
      "$ pic_color    <fct> color, color, color, color, color, color, color, color...\n",
      "$ cls_did_eval <int> 24, 86, 76, 77, 17, 35, 39, 55, 111, 40, 24, 24, 17, 1...\n",
      "$ cls_students <int> 43, 125, 125, 123, 20, 40, 44, 55, 195, 46, 27, 25, 20...\n",
      "$ cls_level    <fct> upper, upper, upper, upper, upper, upper, upper, upper...\n"
     ]
    }
   ],
   "source": [
    "# dataset: evals\n",
    "# The data are gathered from end of semester student evaluations for a large sample of professors from\n",
    "# the University of Texas at Austin. In addition, six students rate the professors’ physical appearance.\n",
    "# The result is a data frame where each row contains a different course and each column has information \n",
    "# on either the course or the professor\n",
    "# https://www.openintro.org/stat/data/?data=evals\n",
    "\n",
    "glimpse(evals)"
   ]
  },
  {
   "cell_type": "code",
   "execution_count": 193,
   "metadata": {},
   "outputs": [
    {
     "data": {
      "text/html": [
       "<table>\n",
       "<thead><tr><th scope=col>ID</th><th scope=col>score</th><th scope=col>age</th><th scope=col>bty_avg</th><th scope=col>gender</th><th scope=col>ethnicity</th><th scope=col>language</th><th scope=col>rank</th><th scope=col>pic_outfit</th><th scope=col>pic_color</th><th scope=col>cls_did_eval</th><th scope=col>cls_students</th><th scope=col>cls_level</th></tr></thead>\n",
       "<tbody>\n",
       "\t<tr><td>1           </td><td>4.7         </td><td>36          </td><td>5           </td><td>female      </td><td>minority    </td><td>english     </td><td>tenure track</td><td>not formal  </td><td>color       </td><td>24          </td><td> 43         </td><td>upper       </td></tr>\n",
       "\t<tr><td>2           </td><td>4.1         </td><td>36          </td><td>5           </td><td>female      </td><td>minority    </td><td>english     </td><td>tenure track</td><td>not formal  </td><td>color       </td><td>86          </td><td>125         </td><td>upper       </td></tr>\n",
       "\t<tr><td>3           </td><td>3.9         </td><td>36          </td><td>5           </td><td>female      </td><td>minority    </td><td>english     </td><td>tenure track</td><td>not formal  </td><td>color       </td><td>76          </td><td>125         </td><td>upper       </td></tr>\n",
       "\t<tr><td>4           </td><td>4.8         </td><td>36          </td><td>5           </td><td>female      </td><td>minority    </td><td>english     </td><td>tenure track</td><td>not formal  </td><td>color       </td><td>77          </td><td>123         </td><td>upper       </td></tr>\n",
       "\t<tr><td>5           </td><td>4.6         </td><td>59          </td><td>3           </td><td>male        </td><td>not minority</td><td>english     </td><td>tenured     </td><td>not formal  </td><td>color       </td><td>17          </td><td> 20         </td><td>upper       </td></tr>\n",
       "\t<tr><td>6           </td><td>4.3         </td><td>59          </td><td>3           </td><td>male        </td><td>not minority</td><td>english     </td><td>tenured     </td><td>not formal  </td><td>color       </td><td>35          </td><td> 40         </td><td>upper       </td></tr>\n",
       "</tbody>\n",
       "</table>\n"
      ],
      "text/latex": [
       "\\begin{tabular}{r|lllllllllllll}\n",
       " ID & score & age & bty\\_avg & gender & ethnicity & language & rank & pic\\_outfit & pic\\_color & cls\\_did\\_eval & cls\\_students & cls\\_level\\\\\n",
       "\\hline\n",
       "\t 1            & 4.7          & 36           & 5            & female       & minority     & english      & tenure track & not formal   & color        & 24           &  43          & upper       \\\\\n",
       "\t 2            & 4.1          & 36           & 5            & female       & minority     & english      & tenure track & not formal   & color        & 86           & 125          & upper       \\\\\n",
       "\t 3            & 3.9          & 36           & 5            & female       & minority     & english      & tenure track & not formal   & color        & 76           & 125          & upper       \\\\\n",
       "\t 4            & 4.8          & 36           & 5            & female       & minority     & english      & tenure track & not formal   & color        & 77           & 123          & upper       \\\\\n",
       "\t 5            & 4.6          & 59           & 3            & male         & not minority & english      & tenured      & not formal   & color        & 17           &  20          & upper       \\\\\n",
       "\t 6            & 4.3          & 59           & 3            & male         & not minority & english      & tenured      & not formal   & color        & 35           &  40          & upper       \\\\\n",
       "\\end{tabular}\n"
      ],
      "text/markdown": [
       "\n",
       "| ID | score | age | bty_avg | gender | ethnicity | language | rank | pic_outfit | pic_color | cls_did_eval | cls_students | cls_level |\n",
       "|---|---|---|---|---|---|---|---|---|---|---|---|---|\n",
       "| 1            | 4.7          | 36           | 5            | female       | minority     | english      | tenure track | not formal   | color        | 24           |  43          | upper        |\n",
       "| 2            | 4.1          | 36           | 5            | female       | minority     | english      | tenure track | not formal   | color        | 86           | 125          | upper        |\n",
       "| 3            | 3.9          | 36           | 5            | female       | minority     | english      | tenure track | not formal   | color        | 76           | 125          | upper        |\n",
       "| 4            | 4.8          | 36           | 5            | female       | minority     | english      | tenure track | not formal   | color        | 77           | 123          | upper        |\n",
       "| 5            | 4.6          | 59           | 3            | male         | not minority | english      | tenured      | not formal   | color        | 17           |  20          | upper        |\n",
       "| 6            | 4.3          | 59           | 3            | male         | not minority | english      | tenured      | not formal   | color        | 35           |  40          | upper        |\n",
       "\n"
      ],
      "text/plain": [
       "  ID score age bty_avg gender ethnicity    language rank         pic_outfit\n",
       "1 1  4.7   36  5       female minority     english  tenure track not formal\n",
       "2 2  4.1   36  5       female minority     english  tenure track not formal\n",
       "3 3  3.9   36  5       female minority     english  tenure track not formal\n",
       "4 4  4.8   36  5       female minority     english  tenure track not formal\n",
       "5 5  4.6   59  3       male   not minority english  tenured      not formal\n",
       "6 6  4.3   59  3       male   not minority english  tenured      not formal\n",
       "  pic_color cls_did_eval cls_students cls_level\n",
       "1 color     24            43          upper    \n",
       "2 color     86           125          upper    \n",
       "3 color     76           125          upper    \n",
       "4 color     77           123          upper    \n",
       "5 color     17            20          upper    \n",
       "6 color     35            40          upper    "
      ]
     },
     "metadata": {},
     "output_type": "display_data"
    }
   ],
   "source": [
    "head(evals)"
   ]
  },
  {
   "cell_type": "code",
   "execution_count": 194,
   "metadata": {},
   "outputs": [
    {
     "data": {
      "text/html": [
       "<table>\n",
       "<thead><tr><th scope=col>ID</th><th scope=col>score</th><th scope=col>age</th><th scope=col>bty_avg</th><th scope=col>gender</th><th scope=col>ethnicity</th><th scope=col>language</th><th scope=col>rank</th><th scope=col>pic_outfit</th><th scope=col>pic_color</th><th scope=col>cls_did_eval</th><th scope=col>cls_students</th><th scope=col>cls_level</th></tr></thead>\n",
       "<tbody>\n",
       "\t<tr><td>458         </td><td>4.1         </td><td>32          </td><td>6.833       </td><td>male        </td><td>not minority</td><td>english     </td><td>tenure track</td><td>not formal  </td><td>color       </td><td> 9          </td><td>21          </td><td>lower       </td></tr>\n",
       "\t<tr><td>459         </td><td>4.5         </td><td>32          </td><td>6.833       </td><td>male        </td><td>not minority</td><td>english     </td><td>tenure track</td><td>not formal  </td><td>color       </td><td>52          </td><td>86          </td><td>upper       </td></tr>\n",
       "\t<tr><td>460         </td><td>3.5         </td><td>42          </td><td>5.333       </td><td>female      </td><td>minority    </td><td>non-english </td><td>tenure track</td><td>not formal  </td><td>color       </td><td>48          </td><td>84          </td><td>upper       </td></tr>\n",
       "\t<tr><td>461         </td><td>4.4         </td><td>42          </td><td>5.333       </td><td>female      </td><td>minority    </td><td>non-english </td><td>tenure track</td><td>not formal  </td><td>color       </td><td>52          </td><td>67          </td><td>upper       </td></tr>\n",
       "\t<tr><td>462         </td><td>4.4         </td><td>42          </td><td>5.333       </td><td>female      </td><td>minority    </td><td>non-english </td><td>tenure track</td><td>not formal  </td><td>color       </td><td>54          </td><td>66          </td><td>upper       </td></tr>\n",
       "\t<tr><td>463         </td><td>4.1         </td><td>42          </td><td>5.333       </td><td>female      </td><td>minority    </td><td>non-english </td><td>tenure track</td><td>not formal  </td><td>color       </td><td>28          </td><td>35          </td><td>lower       </td></tr>\n",
       "</tbody>\n",
       "</table>\n"
      ],
      "text/latex": [
       "\\begin{tabular}{r|lllllllllllll}\n",
       " ID & score & age & bty\\_avg & gender & ethnicity & language & rank & pic\\_outfit & pic\\_color & cls\\_did\\_eval & cls\\_students & cls\\_level\\\\\n",
       "\\hline\n",
       "\t 458          & 4.1          & 32           & 6.833        & male         & not minority & english      & tenure track & not formal   & color        &  9           & 21           & lower       \\\\\n",
       "\t 459          & 4.5          & 32           & 6.833        & male         & not minority & english      & tenure track & not formal   & color        & 52           & 86           & upper       \\\\\n",
       "\t 460          & 3.5          & 42           & 5.333        & female       & minority     & non-english  & tenure track & not formal   & color        & 48           & 84           & upper       \\\\\n",
       "\t 461          & 4.4          & 42           & 5.333        & female       & minority     & non-english  & tenure track & not formal   & color        & 52           & 67           & upper       \\\\\n",
       "\t 462          & 4.4          & 42           & 5.333        & female       & minority     & non-english  & tenure track & not formal   & color        & 54           & 66           & upper       \\\\\n",
       "\t 463          & 4.1          & 42           & 5.333        & female       & minority     & non-english  & tenure track & not formal   & color        & 28           & 35           & lower       \\\\\n",
       "\\end{tabular}\n"
      ],
      "text/markdown": [
       "\n",
       "| ID | score | age | bty_avg | gender | ethnicity | language | rank | pic_outfit | pic_color | cls_did_eval | cls_students | cls_level |\n",
       "|---|---|---|---|---|---|---|---|---|---|---|---|---|\n",
       "| 458          | 4.1          | 32           | 6.833        | male         | not minority | english      | tenure track | not formal   | color        |  9           | 21           | lower        |\n",
       "| 459          | 4.5          | 32           | 6.833        | male         | not minority | english      | tenure track | not formal   | color        | 52           | 86           | upper        |\n",
       "| 460          | 3.5          | 42           | 5.333        | female       | minority     | non-english  | tenure track | not formal   | color        | 48           | 84           | upper        |\n",
       "| 461          | 4.4          | 42           | 5.333        | female       | minority     | non-english  | tenure track | not formal   | color        | 52           | 67           | upper        |\n",
       "| 462          | 4.4          | 42           | 5.333        | female       | minority     | non-english  | tenure track | not formal   | color        | 54           | 66           | upper        |\n",
       "| 463          | 4.1          | 42           | 5.333        | female       | minority     | non-english  | tenure track | not formal   | color        | 28           | 35           | lower        |\n",
       "\n"
      ],
      "text/plain": [
       "  ID  score age bty_avg gender ethnicity    language    rank         pic_outfit\n",
       "1 458 4.1   32  6.833   male   not minority english     tenure track not formal\n",
       "2 459 4.5   32  6.833   male   not minority english     tenure track not formal\n",
       "3 460 3.5   42  5.333   female minority     non-english tenure track not formal\n",
       "4 461 4.4   42  5.333   female minority     non-english tenure track not formal\n",
       "5 462 4.4   42  5.333   female minority     non-english tenure track not formal\n",
       "6 463 4.1   42  5.333   female minority     non-english tenure track not formal\n",
       "  pic_color cls_did_eval cls_students cls_level\n",
       "1 color      9           21           lower    \n",
       "2 color     52           86           upper    \n",
       "3 color     48           84           upper    \n",
       "4 color     52           67           upper    \n",
       "5 color     54           66           upper    \n",
       "6 color     28           35           lower    "
      ]
     },
     "metadata": {},
     "output_type": "display_data"
    }
   ],
   "source": [
    "tail(evals)"
   ]
  },
  {
   "cell_type": "code",
   "execution_count": 195,
   "metadata": {},
   "outputs": [
    {
     "data": {
      "text/html": [
       "463"
      ],
      "text/latex": [
       "463"
      ],
      "text/markdown": [
       "463"
      ],
      "text/plain": [
       "[1] 463"
      ]
     },
     "metadata": {},
     "output_type": "display_data"
    },
    {
     "data": {
      "text/html": [
       "13"
      ],
      "text/latex": [
       "13"
      ],
      "text/markdown": [
       "13"
      ],
      "text/plain": [
       "[1] 13"
      ]
     },
     "metadata": {},
     "output_type": "display_data"
    },
    {
     "data": {
      "text/html": [
       "<ol class=list-inline>\n",
       "\t<li>463</li>\n",
       "\t<li>13</li>\n",
       "</ol>\n"
      ],
      "text/latex": [
       "\\begin{enumerate*}\n",
       "\\item 463\n",
       "\\item 13\n",
       "\\end{enumerate*}\n"
      ],
      "text/markdown": [
       "1. 463\n",
       "2. 13\n",
       "\n",
       "\n"
      ],
      "text/plain": [
       "[1] 463  13"
      ]
     },
     "metadata": {},
     "output_type": "display_data"
    }
   ],
   "source": [
    "nrow(evals)\n",
    "ncol(evals)\n",
    "dim(evals)"
   ]
  },
  {
   "cell_type": "code",
   "execution_count": 196,
   "metadata": {},
   "outputs": [
    {
     "data": {
      "text/html": [
       "<ol class=list-inline>\n",
       "\t<li>'ID'</li>\n",
       "\t<li>'score'</li>\n",
       "\t<li>'age'</li>\n",
       "\t<li>'bty_avg'</li>\n",
       "\t<li>'gender'</li>\n",
       "\t<li>'ethnicity'</li>\n",
       "\t<li>'language'</li>\n",
       "\t<li>'rank'</li>\n",
       "\t<li>'pic_outfit'</li>\n",
       "\t<li>'pic_color'</li>\n",
       "\t<li>'cls_did_eval'</li>\n",
       "\t<li>'cls_students'</li>\n",
       "\t<li>'cls_level'</li>\n",
       "</ol>\n"
      ],
      "text/latex": [
       "\\begin{enumerate*}\n",
       "\\item 'ID'\n",
       "\\item 'score'\n",
       "\\item 'age'\n",
       "\\item 'bty\\_avg'\n",
       "\\item 'gender'\n",
       "\\item 'ethnicity'\n",
       "\\item 'language'\n",
       "\\item 'rank'\n",
       "\\item 'pic\\_outfit'\n",
       "\\item 'pic\\_color'\n",
       "\\item 'cls\\_did\\_eval'\n",
       "\\item 'cls\\_students'\n",
       "\\item 'cls\\_level'\n",
       "\\end{enumerate*}\n"
      ],
      "text/markdown": [
       "1. 'ID'\n",
       "2. 'score'\n",
       "3. 'age'\n",
       "4. 'bty_avg'\n",
       "5. 'gender'\n",
       "6. 'ethnicity'\n",
       "7. 'language'\n",
       "8. 'rank'\n",
       "9. 'pic_outfit'\n",
       "10. 'pic_color'\n",
       "11. 'cls_did_eval'\n",
       "12. 'cls_students'\n",
       "13. 'cls_level'\n",
       "\n",
       "\n"
      ],
      "text/plain": [
       " [1] \"ID\"           \"score\"        \"age\"          \"bty_avg\"      \"gender\"      \n",
       " [6] \"ethnicity\"    \"language\"     \"rank\"         \"pic_outfit\"   \"pic_color\"   \n",
       "[11] \"cls_did_eval\" \"cls_students\" \"cls_level\"   "
      ]
     },
     "metadata": {},
     "output_type": "display_data"
    },
    {
     "data": {
      "text/html": [
       "13"
      ],
      "text/latex": [
       "13"
      ],
      "text/markdown": [
       "13"
      ],
      "text/plain": [
       "[1] 13"
      ]
     },
     "metadata": {},
     "output_type": "display_data"
    }
   ],
   "source": [
    "names(evals)\n",
    "length(names(evals))"
   ]
  },
  {
   "cell_type": "code",
   "execution_count": 197,
   "metadata": {},
   "outputs": [
    {
     "data": {
      "text/plain": [
       "       ID            score            age           bty_avg         gender   \n",
       " Min.   :  1.0   Min.   :2.300   Min.   :29.00   Min.   :1.667   female:195  \n",
       " 1st Qu.:116.5   1st Qu.:3.800   1st Qu.:42.00   1st Qu.:3.167   male  :268  \n",
       " Median :232.0   Median :4.300   Median :48.00   Median :4.333               \n",
       " Mean   :232.0   Mean   :4.175   Mean   :48.37   Mean   :4.418               \n",
       " 3rd Qu.:347.5   3rd Qu.:4.600   3rd Qu.:57.00   3rd Qu.:5.500               \n",
       " Max.   :463.0   Max.   :5.000   Max.   :73.00   Max.   :8.167               \n",
       "        ethnicity          language             rank          pic_outfit \n",
       " minority    : 64   english    :435   teaching    :102   formal    : 77  \n",
       " not minority:399   non-english: 28   tenure track:108   not formal:386  \n",
       "                                      tenured     :253                   \n",
       "                                                                         \n",
       "                                                                         \n",
       "                                                                         \n",
       "       pic_color    cls_did_eval     cls_students    cls_level  \n",
       " black&white: 78   Min.   :  5.00   Min.   :  8.00   lower:157  \n",
       " color      :385   1st Qu.: 15.00   1st Qu.: 19.00   upper:306  \n",
       "                   Median : 23.00   Median : 29.00              \n",
       "                   Mean   : 36.62   Mean   : 55.18              \n",
       "                   3rd Qu.: 40.00   3rd Qu.: 60.00              \n",
       "                   Max.   :380.00   Max.   :581.00              "
      ]
     },
     "metadata": {},
     "output_type": "display_data"
    }
   ],
   "source": [
    "summary(evals)"
   ]
  },
  {
   "cell_type": "code",
   "execution_count": 198,
   "metadata": {},
   "outputs": [
    {
     "data": {
      "text/html": [
       "<ol class=list-inline>\n",
       "\t<li>'tbl_df'</li>\n",
       "\t<li>'tbl'</li>\n",
       "\t<li>'data.frame'</li>\n",
       "</ol>\n"
      ],
      "text/latex": [
       "\\begin{enumerate*}\n",
       "\\item 'tbl\\_df'\n",
       "\\item 'tbl'\n",
       "\\item 'data.frame'\n",
       "\\end{enumerate*}\n"
      ],
      "text/markdown": [
       "1. 'tbl_df'\n",
       "2. 'tbl'\n",
       "3. 'data.frame'\n",
       "\n",
       "\n"
      ],
      "text/plain": [
       "[1] \"tbl_df\"     \"tbl\"        \"data.frame\""
      ]
     },
     "metadata": {},
     "output_type": "display_data"
    }
   ],
   "source": [
    "class(evals)"
   ]
  },
  {
   "cell_type": "code",
   "execution_count": 199,
   "metadata": {},
   "outputs": [
    {
     "data": {
      "text/html": [
       "0"
      ],
      "text/latex": [
       "0"
      ],
      "text/markdown": [
       "0"
      ],
      "text/plain": [
       "[1] 0"
      ]
     },
     "metadata": {},
     "output_type": "display_data"
    }
   ],
   "source": [
    "# None missing values are occuring\n",
    "sum(is.na(evals))"
   ]
  },
  {
   "cell_type": "markdown",
   "metadata": {},
   "source": [
    "#### Univariate EDA - Looking at the teaching score variable"
   ]
  },
  {
   "cell_type": "code",
   "execution_count": 200,
   "metadata": {},
   "outputs": [
    {
     "data": {
      "text/html": [
       "<ol class=list-inline>\n",
       "\t<li>4.7</li>\n",
       "\t<li>4.1</li>\n",
       "\t<li>3.9</li>\n",
       "\t<li>4.8</li>\n",
       "\t<li>4.6</li>\n",
       "\t<li>4.3</li>\n",
       "\t<li>2.8</li>\n",
       "\t<li>3.4</li>\n",
       "\t<li>4.5</li>\n",
       "\t<li>3.8</li>\n",
       "\t<li>4.9</li>\n",
       "\t<li>4.4</li>\n",
       "\t<li>4.2</li>\n",
       "\t<li>3.5</li>\n",
       "\t<li>2.5</li>\n",
       "\t<li>4</li>\n",
       "\t<li>5</li>\n",
       "\t<li>3.6</li>\n",
       "\t<li>3.7</li>\n",
       "\t<li>2.9</li>\n",
       "\t<li>3.3</li>\n",
       "\t<li>3.2</li>\n",
       "\t<li>2.3</li>\n",
       "\t<li>3</li>\n",
       "\t<li>3.1</li>\n",
       "\t<li>2.7</li>\n",
       "\t<li>2.4</li>\n",
       "</ol>\n"
      ],
      "text/latex": [
       "\\begin{enumerate*}\n",
       "\\item 4.7\n",
       "\\item 4.1\n",
       "\\item 3.9\n",
       "\\item 4.8\n",
       "\\item 4.6\n",
       "\\item 4.3\n",
       "\\item 2.8\n",
       "\\item 3.4\n",
       "\\item 4.5\n",
       "\\item 3.8\n",
       "\\item 4.9\n",
       "\\item 4.4\n",
       "\\item 4.2\n",
       "\\item 3.5\n",
       "\\item 2.5\n",
       "\\item 4\n",
       "\\item 5\n",
       "\\item 3.6\n",
       "\\item 3.7\n",
       "\\item 2.9\n",
       "\\item 3.3\n",
       "\\item 3.2\n",
       "\\item 2.3\n",
       "\\item 3\n",
       "\\item 3.1\n",
       "\\item 2.7\n",
       "\\item 2.4\n",
       "\\end{enumerate*}\n"
      ],
      "text/markdown": [
       "1. 4.7\n",
       "2. 4.1\n",
       "3. 3.9\n",
       "4. 4.8\n",
       "5. 4.6\n",
       "6. 4.3\n",
       "7. 2.8\n",
       "8. 3.4\n",
       "9. 4.5\n",
       "10. 3.8\n",
       "11. 4.9\n",
       "12. 4.4\n",
       "13. 4.2\n",
       "14. 3.5\n",
       "15. 2.5\n",
       "16. 4\n",
       "17. 5\n",
       "18. 3.6\n",
       "19. 3.7\n",
       "20. 2.9\n",
       "21. 3.3\n",
       "22. 3.2\n",
       "23. 2.3\n",
       "24. 3\n",
       "25. 3.1\n",
       "26. 2.7\n",
       "27. 2.4\n",
       "\n",
       "\n"
      ],
      "text/plain": [
       " [1] 4.7 4.1 3.9 4.8 4.6 4.3 2.8 3.4 4.5 3.8 4.9 4.4 4.2 3.5 2.5 4.0 5.0 3.6 3.7\n",
       "[20] 2.9 3.3 3.2 2.3 3.0 3.1 2.7 2.4"
      ]
     },
     "metadata": {},
     "output_type": "display_data"
    },
    {
     "name": "stdout",
     "output_type": "stream",
     "text": [
      " num [1:463] 4.7 4.1 3.9 4.8 4.6 4.3 2.8 4.1 3.4 4.5 ...\n"
     ]
    },
    {
     "data": {
      "text/html": [
       "'numeric'"
      ],
      "text/latex": [
       "'numeric'"
      ],
      "text/markdown": [
       "'numeric'"
      ],
      "text/plain": [
       "[1] \"numeric\""
      ]
     },
     "metadata": {},
     "output_type": "display_data"
    },
    {
     "data": {
      "text/plain": [
       "NULL"
      ]
     },
     "metadata": {},
     "output_type": "display_data"
    },
    {
     "data": {
      "text/plain": [
       "   Min. 1st Qu.  Median    Mean 3rd Qu.    Max. \n",
       "  2.300   3.800   4.300   4.175   4.600   5.000 "
      ]
     },
     "metadata": {},
     "output_type": "display_data"
    },
    {
     "data": {
      "text/html": [
       "<table>\n",
       "<thead><tr><th scope=col>score</th><th scope=col>n</th></tr></thead>\n",
       "<tbody>\n",
       "\t<tr><td>2.3</td><td>1  </td></tr>\n",
       "\t<tr><td>2.4</td><td>1  </td></tr>\n",
       "\t<tr><td>2.5</td><td>2  </td></tr>\n",
       "\t<tr><td>2.7</td><td>2  </td></tr>\n",
       "\t<tr><td>2.8</td><td>3  </td></tr>\n",
       "</tbody>\n",
       "</table>\n"
      ],
      "text/latex": [
       "\\begin{tabular}{r|ll}\n",
       " score & n\\\\\n",
       "\\hline\n",
       "\t 2.3 & 1  \\\\\n",
       "\t 2.4 & 1  \\\\\n",
       "\t 2.5 & 2  \\\\\n",
       "\t 2.7 & 2  \\\\\n",
       "\t 2.8 & 3  \\\\\n",
       "\\end{tabular}\n"
      ],
      "text/markdown": [
       "\n",
       "| score | n |\n",
       "|---|---|\n",
       "| 2.3 | 1   |\n",
       "| 2.4 | 1   |\n",
       "| 2.5 | 2   |\n",
       "| 2.7 | 2   |\n",
       "| 2.8 | 3   |\n",
       "\n"
      ],
      "text/plain": [
       "  score n\n",
       "1 2.3   1\n",
       "2 2.4   1\n",
       "3 2.5   2\n",
       "4 2.7   2\n",
       "5 2.8   3"
      ]
     },
     "metadata": {},
     "output_type": "display_data"
    },
    {
     "data": {
      "text/plain": [
       "\n",
       "2.3 2.4 2.5 2.7 2.8 2.9   3 3.1 3.2 3.3 3.4 3.5 3.6 3.7 3.8 3.9   4 4.1 4.2 4.3 \n",
       "  1   1   2   2   3   2   5   6   4  11  11  17  20  19  19  26  24  28  22  26 \n",
       "4.4 4.5 4.6 4.7 4.8 4.9   5 \n",
       " 43  41  34  25  35  25  11 "
      ]
     },
     "metadata": {},
     "output_type": "display_data"
    }
   ],
   "source": [
    "unique(evals$score)\n",
    "str(evals$score)\n",
    "class(evals$score)\n",
    "dim(evals$score)\n",
    "summary(evals$score)\n",
    "frequencies <- count(evals, score)\n",
    "frequencies[1:5,1:2]\n",
    "table(evals$score)"
   ]
  },
  {
   "cell_type": "markdown",
   "metadata": {},
   "source": [
    "#### Visualize data"
   ]
  },
  {
   "cell_type": "code",
   "execution_count": 201,
   "metadata": {},
   "outputs": [
    {
     "name": "stderr",
     "output_type": "stream",
     "text": [
      "`stat_bin()` using `bins = 30`. Pick better value with `binwidth`.\n"
     ]
    },
    {
     "data": {
      "image/png": "[encoded data removed]",
      "text/plain": [
       "plot without title"
      ]
     },
     "metadata": {},
     "output_type": "display_data"
    }
   ],
   "source": [
    "# Average professor evaluation score: (1) very unsatisfactory - (5) excellent.\n",
    "evals %>%\n",
    "ggplot(aes(x=score)) +\n",
    "geom_histogram(color=\"green\", size=0.8, fill=\"blue\", aes(y =..density..)) +\n",
    "labs(x=\"Teaching_Scores\", y=\"Count\")+\n",
    "stat_function(fun = dnorm, args = list(mean = mean(evals$score), sd = sd(evals$score)), color=\"red\", size=1.5)\n",
    "\n",
    "# This stat makes it easy to superimpose a function on top of an existing plot. \n",
    "# The function is called with a grid of evenly spaced values along the x axis, and the results are drawn \n",
    "# (by default) with a line.\n",
    "# https://www.rdocumentation.org/packages/ggplot2/versions/3.1.0/topics/stat_function\n",
    "\n"
   ]
  },
  {
   "cell_type": "markdown",
   "metadata": {},
   "source": [
    "#### Data transformation of teaching scores\n",
    "\n",
    "<p>\n",
    "Data transformation changes a variable with the output of a function of that variable.\n",
    "For example the logarithm of basis 10 is a function used for changing the variable.\n",
    "As this is done over all values of a variable the distribution of that variable is changed.\n",
    "Making the distribution more normal is one major goal of data transformation,\n",
    "because(predictive) modeling fits better with distribution similar to the normal distribution.\n",
    "Having a normal distribution reduces skewness, make better linear relationships, allows for \n",
    "additive relationships or make spreads more equal.\n",
    "All this will hopefully in better predictions or increase model performance.\n",
    "</p>\n",
    "<p>\n",
    "More information on <a href= \"http://fmwww.bc.edu/repec/bocode/t/transint.html\">\n",
    "Transformations</a> here.\n",
    "</p>"
   ]
  },
  {
   "cell_type": "code",
   "execution_count": 202,
   "metadata": {},
   "outputs": [
    {
     "name": "stdout",
     "output_type": "stream",
     "text": [
      "Observations: 27\n",
      "Variables: 2\n",
      "$ score <dbl> 2.3, 2.4, 2.5, 2.7, 2.8, 2.9, 3.0, 3.1, 3.2, 3.3, 3.4, 3.5, 3...\n",
      "$ n     <int> 1, 1, 2, 2, 3, 2, 5, 6, 4, 11, 11, 17, 20, 19, 19, 26, 24, 28...\n"
     ]
    },
    {
     "data": {
      "text/html": [
       "43"
      ],
      "text/latex": [
       "43"
      ],
      "text/markdown": [
       "43"
      ],
      "text/plain": [
       "[1] 43"
      ]
     },
     "metadata": {},
     "output_type": "display_data"
    },
    {
     "data": {
      "text/html": [
       "<table>\n",
       "<thead><tr><th scope=col>score</th><th scope=col>n</th></tr></thead>\n",
       "<tbody>\n",
       "\t<tr><td>4.2</td><td>22 </td></tr>\n",
       "\t<tr><td>4.3</td><td>26 </td></tr>\n",
       "\t<tr><td>4.4</td><td>43 </td></tr>\n",
       "\t<tr><td>4.5</td><td>41 </td></tr>\n",
       "\t<tr><td>4.6</td><td>34 </td></tr>\n",
       "</tbody>\n",
       "</table>\n"
      ],
      "text/latex": [
       "\\begin{tabular}{r|ll}\n",
       " score & n\\\\\n",
       "\\hline\n",
       "\t 4.2 & 22 \\\\\n",
       "\t 4.3 & 26 \\\\\n",
       "\t 4.4 & 43 \\\\\n",
       "\t 4.5 & 41 \\\\\n",
       "\t 4.6 & 34 \\\\\n",
       "\\end{tabular}\n"
      ],
      "text/markdown": [
       "\n",
       "| score | n |\n",
       "|---|---|\n",
       "| 4.2 | 22  |\n",
       "| 4.3 | 26  |\n",
       "| 4.4 | 43  |\n",
       "| 4.5 | 41  |\n",
       "| 4.6 | 34  |\n",
       "\n"
      ],
      "text/plain": [
       "  score n \n",
       "1 4.2   22\n",
       "2 4.3   26\n",
       "3 4.4   43\n",
       "4 4.5   41\n",
       "5 4.6   34"
      ]
     },
     "metadata": {},
     "output_type": "display_data"
    },
    {
     "data": {
      "text/html": [
       "<table>\n",
       "<thead><tr><th scope=col>row</th><th scope=col>col</th></tr></thead>\n",
       "<tbody>\n",
       "\t<tr><td>21</td><td>2 </td></tr>\n",
       "</tbody>\n",
       "</table>\n"
      ],
      "text/latex": [
       "\\begin{tabular}{ll}\n",
       " row & col\\\\\n",
       "\\hline\n",
       "\t 21 & 2 \\\\\n",
       "\\end{tabular}\n"
      ],
      "text/markdown": [
       "\n",
       "| row | col |\n",
       "|---|---|\n",
       "| 21 | 2  |\n",
       "\n"
      ],
      "text/plain": [
       "     row col\n",
       "[1,] 21  2  "
      ]
     },
     "metadata": {},
     "output_type": "display_data"
    }
   ],
   "source": [
    "frequency_table_score <- count(evals, score)\n",
    "glimpse(frequency_table_score)\n",
    "frequency_table_score_max<-max(frequency_table_score)\n",
    "frequency_table_score_max\n",
    "frequency_table_score[19:23,1:2]\n",
    "which(frequency_table_score==frequency_table_score_max,  arr.ind = TRUE)\n"
   ]
  },
  {
   "cell_type": "code",
   "execution_count": 203,
   "metadata": {
    "scrolled": true
   },
   "outputs": [
    {
     "data": {
      "image/png": "[encoded data removed]",
      "text/plain": [
       "plot without title"
      ]
     },
     "metadata": {},
     "output_type": "display_data"
    }
   ],
   "source": [
    "density_score <- density(evals$score)\n",
    "ggplot(evals, aes(x=score)) +\n",
    "geom_density(fill=\"darkblue\", alpha=0.8)+\n",
    "geom_vline(xintercept=4.5-0.01, linetype=\"dashed\", size=1.5, color=\"red\")+\n",
    "geom_text(aes(x=4.7, label=\"Median\", y=0.7), size=5, colour=\"red\")+\n",
    "geom_vline(xintercept=4.175, linetype=\"dashed\", size=1.5, color=\"green\")+\n",
    "geom_text(aes(x=4.0, label=\"Mean\", y=0.7), size=5, colour=\"green\")\n",
    "\n",
    "\n",
    "\n"
   ]
  },
  {
   "cell_type": "code",
   "execution_count": 204,
   "metadata": {},
   "outputs": [
    {
     "data": {
      "image/png": "[encoded data removed]",
      "text/plain": [
       "Plot with title \"Normal Q-Q Plot\""
      ]
     },
     "metadata": {},
     "output_type": "display_data"
    }
   ],
   "source": [
    "# Assesment of normality with quantile-quantile plot\n",
    "qqnorm(evals$score,\n",
    "       ylab=\"Sample Quantiles for Scores\")\n",
    "qqline(evals$score,\n",
    "       col=\"red\")"
   ]
  },
  {
   "cell_type": "markdown",
   "metadata": {},
   "source": [
    "### Picking up the optimal number of bins with the Freedman_Diaconis rule"
   ]
  },
  {
   "cell_type": "code",
   "execution_count": 205,
   "metadata": {},
   "outputs": [
    {
     "data": {
      "text/html": [
       "<span style=white-space:pre-wrap>'Freedman Diaconis rule for teaching scores version 1:  14'</span>"
      ],
      "text/latex": [
       "'Freedman Diaconis rule for teaching scores version 1:  14'"
      ],
      "text/markdown": [
       "<span style=white-space:pre-wrap>'Freedman Diaconis rule for teaching scores version 1:  14'</span>"
      ],
      "text/plain": [
       "[1] \"Freedman Diaconis rule for teaching scores version 1:  14\""
      ]
     },
     "metadata": {},
     "output_type": "display_data"
    },
    {
     "data": {
      "text/html": [
       "<span style=white-space:pre-wrap>'Freedman Diaconis rule for teaching scores version 1:  13.0548167044157'</span>"
      ],
      "text/latex": [
       "'Freedman Diaconis rule for teaching scores version 1:  13.0548167044157'"
      ],
      "text/markdown": [
       "<span style=white-space:pre-wrap>'Freedman Diaconis rule for teaching scores version 1:  13.0548167044157'</span>"
      ],
      "text/plain": [
       "[1] \"Freedman Diaconis rule for teaching scores version 1:  13.0548167044157\""
      ]
     },
     "metadata": {},
     "output_type": "display_data"
    },
    {
     "data": {
      "image/png": "[encoded data removed]",
      "text/plain": [
       "plot without title"
      ]
     },
     "metadata": {},
     "output_type": "display_data"
    }
   ],
   "source": [
    "# If you use too few bins, the histogram doesn't really portray the data very well. \n",
    "# If you have too many bins, you get a broken comb look, which also doesn't give a sense of the distribution.\n",
    "# https://stats.stackexchange.com/questions/798/calculating-optimal-number-of-bins-in-a-histogram#862\n",
    "# applying the Freedman-Diaconis for finding optimal number of bins\n",
    "# In statistics, the Freedman–Diaconis rule can be used to select the size of the bins to be used in a histogram.\n",
    "# https://en.wikipedia.org/wiki/Freedman%E2%80%93Diaconis_rule\n",
    "\n",
    "Freedman_Diaconis <- function (x) \n",
    "{\n",
    "    h <- stats::IQR(x)\n",
    "    if (h == 0) \n",
    "        h <- stats::mad(x, constant = 2)\n",
    "    if (h > 0) \n",
    "        ceiling(diff(range(x))/(2 * h * length(x)^(-1/3)))\n",
    "    else 1L\n",
    "}\n",
    "        \n",
    "number_of_bins_score_1 <- Freedman_Diaconis(evals$score)\n",
    "paste(\"Freedman Diaconis rule for teaching scores version 1: \", number_of_bins_score_1)\n",
    "\n",
    "x_score =evals$score\n",
    "\n",
    "number_of_bins_score_2 <- diff(range(x_score)) / (2 * IQR(x_score) / length(x_score)^(1/3))\n",
    "paste(\"Freedman Diaconis rule for teaching scores version 1: \", number_of_bins_score_2)\n",
    "\n",
    "evals %>%\n",
    "ggplot(aes(x=score)) +\n",
    "geom_histogram(color=\"red\", size=0.8, fill=\"green\", bins = number_of_bins_score_1, aes(y =..density..) ) +\n",
    "labs(x=\"Teaching_Scores\", y=\"Count\")+\n",
    "stat_function(fun = dnorm, args = list(mean = mean(evals$score), sd = sd(evals$score)), color=\"black\", size=1.5)+\n",
    "geom_text(aes(x=3.3, label=\"Normal Distribution\", y=0.5), colour=\"black\", angle=0, size=4)+\n",
    "geom_vline(xintercept=4.5-0.01, linetype=\"solid\", size=1.5, color=\"blue\")+\n",
    "geom_text(aes(x=4.7, label=\"Median\", y=0.83), colour=\"blue\", angle=0, size=4)+\n",
    "geom_vline(xintercept=4.175, linetype=\"solid\", size=1.5, color=\"red\")+\n",
    "geom_text(aes(x=4.0, label=\"Mean\", y=0.78), size=4, colour=\"red\")\n",
    "        \n",
    "# distribution is left-skewed\n",
    "# tail on the left\n",
    "# mode > median > mean\n",
    "# Transformations?\n",
    "# https://www.analyticsvidhya.com/blog/2016/01/guide-data-exploration/\n",
    "# https://stats.stackexchange.com/questions/88218/transforming-extremely-skewed-distributions\n",
    "# https://www.isixsigma.com/tools-templates/normality/tips-recognizing-and-transforming-non-normal-data/"
   ]
  },
  {
   "cell_type": "markdown",
   "metadata": {},
   "source": [
    "#### Trying out normalizing the data with different transformations\n",
    "\n",
    "<p>\n",
    "http://rcompanion.org/handbook/I_12.html\n",
    "</p>"
   ]
  },
  {
   "cell_type": "code",
   "execution_count": 206,
   "metadata": {},
   "outputs": [
    {
     "data": {
      "image/png": "[encoded data removed]",
      "text/plain": [
       "plot without title"
      ]
     },
     "metadata": {},
     "output_type": "display_data"
    }
   ],
   "source": [
    "# square root transformation\n",
    "number_of_bins_score_sqrt <- Freedman_Diaconis(sqrt(evals$score))\n",
    "x_score_sqrt = sqrt(evals$score)\n",
    "evals %>%\n",
    "ggplot(aes(x=sqrt(score))) +\n",
    "geom_histogram(color=\"red\", size=0.8, fill=\"lightblue\", bins = number_of_bins_score_sqrt, aes(y =..density..)  ) +\n",
    "labs(x=\"Teaching_Scores\", y=\"Count\")+\n",
    "stat_function(fun = dnorm, args = list(mean = mean(x_score_sqrt), sd = sd(x_score_sqrt)), color=\"black\", size=1.5)"
   ]
  },
  {
   "cell_type": "code",
   "execution_count": 207,
   "metadata": {},
   "outputs": [
    {
     "data": {
      "image/png": "[encoded data removed]",
      "text/plain": [
       "plot without title"
      ]
     },
     "metadata": {},
     "output_type": "display_data"
    }
   ],
   "source": [
    "\n",
    "score_cube <- sign(evals$score) * abs(evals$score)^(1/3)\n",
    "\n",
    "number_of_bins_score_sqrt <- Freedman_Diaconis(score_cube)\n",
    "\n",
    "evals %>%\n",
    "ggplot(aes(x=score_cube)) +\n",
    "geom_histogram(color=\"red\", size=0.8, fill=\"yellow\", bins = number_of_bins_score_sqrt, aes(y=..density..)  ) +\n",
    "labs(x=\"Teaching_Scores\", y=\"Count\")+\n",
    "stat_function(fun = dnorm, args = list(mean = mean(score_cube), sd = sd(score_cube)), color=\"black\", size=1.5)\n",
    "\n",
    " "
   ]
  },
  {
   "cell_type": "code",
   "execution_count": 208,
   "metadata": {},
   "outputs": [
    {
     "data": {
      "text/html": [
       "<table>\n",
       "<thead><tr><th scope=col>Primary</th><th scope=col>Cube.Transformed</th><th scope=col>Reversed</th></tr></thead>\n",
       "<tbody>\n",
       "\t<tr><td>4.7     </td><td>1.675069</td><td>4.7     </td></tr>\n",
       "\t<tr><td>4.1     </td><td>1.600521</td><td>4.1     </td></tr>\n",
       "\t<tr><td>3.9     </td><td>1.574061</td><td>3.9     </td></tr>\n",
       "\t<tr><td>4.8     </td><td>1.686865</td><td>4.8     </td></tr>\n",
       "\t<tr><td>4.6     </td><td>1.663103</td><td>4.6     </td></tr>\n",
       "\t<tr><td>4.3     </td><td>1.626133</td><td>4.3     </td></tr>\n",
       "</tbody>\n",
       "</table>\n"
      ],
      "text/latex": [
       "\\begin{tabular}{r|lll}\n",
       " Primary & Cube.Transformed & Reversed\\\\\n",
       "\\hline\n",
       "\t 4.7      & 1.675069 & 4.7     \\\\\n",
       "\t 4.1      & 1.600521 & 4.1     \\\\\n",
       "\t 3.9      & 1.574061 & 3.9     \\\\\n",
       "\t 4.8      & 1.686865 & 4.8     \\\\\n",
       "\t 4.6      & 1.663103 & 4.6     \\\\\n",
       "\t 4.3      & 1.626133 & 4.3     \\\\\n",
       "\\end{tabular}\n"
      ],
      "text/markdown": [
       "\n",
       "| Primary | Cube.Transformed | Reversed |\n",
       "|---|---|---|\n",
       "| 4.7      | 1.675069 | 4.7      |\n",
       "| 4.1      | 1.600521 | 4.1      |\n",
       "| 3.9      | 1.574061 | 3.9      |\n",
       "| 4.8      | 1.686865 | 4.8      |\n",
       "| 4.6      | 1.663103 | 4.6      |\n",
       "| 4.3      | 1.626133 | 4.3      |\n",
       "\n"
      ],
      "text/plain": [
       "  Primary Cube.Transformed Reversed\n",
       "1 4.7     1.675069         4.7     \n",
       "2 4.1     1.600521         4.1     \n",
       "3 3.9     1.574061         3.9     \n",
       "4 4.8     1.686865         4.8     \n",
       "5 4.6     1.663103         4.6     \n",
       "6 4.3     1.626133         4.3     "
      ]
     },
     "metadata": {},
     "output_type": "display_data"
    }
   ],
   "source": [
    "# Square root transformation\n",
    "# Cube root t = x^(1/3)\n",
    "# Reverse the square cube transformation\n",
    "# the undoing of a log transformation is done with the reverse of 10^x\n",
    "# cube x = t^3\n",
    "# score_cube <- sign(evals$score) * abs(evals$score)^(1/3)\n",
    "# More information: http://fmwww.bc.edu/repec/bocode/t/transint.html\n",
    "\n",
    "square_cube_inverse <- score_cube^3\n",
    "\n",
    "cube_comparisons <- \n",
    "data.frame(\"Primary\"=evals$score, \"Cube Transformed\"=score_cube, \"Reversed\"=square_cube_inverse)\n",
    "\n",
    "head(cube_comparisons)\n",
    "\n"
   ]
  },
  {
   "cell_type": "code",
   "execution_count": 209,
   "metadata": {},
   "outputs": [
    {
     "data": {
      "text/html": [
       "<ol class=list-inline>\n",
       "\t<li>'ID'</li>\n",
       "\t<li>'score'</li>\n",
       "\t<li>'age'</li>\n",
       "\t<li>'bty_avg'</li>\n",
       "\t<li>'gender'</li>\n",
       "\t<li>'ethnicity'</li>\n",
       "\t<li>'language'</li>\n",
       "\t<li>'rank'</li>\n",
       "\t<li>'pic_outfit'</li>\n",
       "\t<li>'pic_color'</li>\n",
       "\t<li>'cls_did_eval'</li>\n",
       "\t<li>'cls_students'</li>\n",
       "\t<li>'cls_level'</li>\n",
       "\t<li>'LogTransformed_Scores'</li>\n",
       "</ol>\n"
      ],
      "text/latex": [
       "\\begin{enumerate*}\n",
       "\\item 'ID'\n",
       "\\item 'score'\n",
       "\\item 'age'\n",
       "\\item 'bty\\_avg'\n",
       "\\item 'gender'\n",
       "\\item 'ethnicity'\n",
       "\\item 'language'\n",
       "\\item 'rank'\n",
       "\\item 'pic\\_outfit'\n",
       "\\item 'pic\\_color'\n",
       "\\item 'cls\\_did\\_eval'\n",
       "\\item 'cls\\_students'\n",
       "\\item 'cls\\_level'\n",
       "\\item 'LogTransformed\\_Scores'\n",
       "\\end{enumerate*}\n"
      ],
      "text/markdown": [
       "1. 'ID'\n",
       "2. 'score'\n",
       "3. 'age'\n",
       "4. 'bty_avg'\n",
       "5. 'gender'\n",
       "6. 'ethnicity'\n",
       "7. 'language'\n",
       "8. 'rank'\n",
       "9. 'pic_outfit'\n",
       "10. 'pic_color'\n",
       "11. 'cls_did_eval'\n",
       "12. 'cls_students'\n",
       "13. 'cls_level'\n",
       "14. 'LogTransformed_Scores'\n",
       "\n",
       "\n"
      ],
      "text/plain": [
       " [1] \"ID\"                    \"score\"                 \"age\"                  \n",
       " [4] \"bty_avg\"               \"gender\"                \"ethnicity\"            \n",
       " [7] \"language\"              \"rank\"                  \"pic_outfit\"           \n",
       "[10] \"pic_color\"             \"cls_did_eval\"          \"cls_students\"         \n",
       "[13] \"cls_level\"             \"LogTransformed_Scores\""
      ]
     },
     "metadata": {},
     "output_type": "display_data"
    },
    {
     "data": {
      "image/png": "[encoded data removed]",
      "text/plain": [
       "plot without title"
      ]
     },
     "metadata": {},
     "output_type": "display_data"
    }
   ],
   "source": [
    "score_log <- log10(evals$score)\n",
    "number_of_bins_score_log <- Freedman_Diaconis(score_log)\n",
    "\n",
    "\n",
    "\n",
    "evals_LogTransformed_Scores <- \n",
    "evals %>% mutate(LogTransformed_Scores=score_log)\n",
    "names(evals_LogTransformed_Scores )\n",
    "\n",
    "LogTransformed_Scores_vector <- \n",
    "evals_LogTransformed_Scores$LogTransformed_Scores\n",
    "\n",
    "evals_LogTransformed_Scores %>%\n",
    "ggplot(aes(x=LogTransformed_Scores)) +\n",
    "geom_histogram(color=\"red\", size=0.8, fill=\"pink\", bins = number_of_bins_score_log, aes(y=..density..) ) +\n",
    "geom_density(color=\"green\", size=0.8)+\n",
    "labs(x=\"Teaching_Scores\", y=\"Count\")+\n",
    "stat_function(fun = dnorm, args = list(mean = mean(LogTransformed_Scores_vector), sd = sd(LogTransformed_Scores_vector)),\n",
    "              color=\"black\", size=1.5)+ geom_density()\n",
    "\n",
    "\n"
   ]
  },
  {
   "cell_type": "code",
   "execution_count": 210,
   "metadata": {},
   "outputs": [
    {
     "data": {
      "text/html": [
       "<table>\n",
       "<thead><tr><th scope=col>Logarithms.of.score.by.basis.10</th><th scope=col>Logarithms.reversed.by.exponentiation</th><th scope=col>Original.values</th></tr></thead>\n",
       "<tbody>\n",
       "\t<tr><td>0.6720979</td><td>4.7      </td><td>4.7      </td></tr>\n",
       "\t<tr><td>0.6127839</td><td>4.1      </td><td>4.1      </td></tr>\n",
       "\t<tr><td>0.5910646</td><td>3.9      </td><td>3.9      </td></tr>\n",
       "\t<tr><td>0.6812412</td><td>4.8      </td><td>4.8      </td></tr>\n",
       "\t<tr><td>0.6627578</td><td>4.6      </td><td>4.6      </td></tr>\n",
       "\t<tr><td>0.6334685</td><td>4.3      </td><td>4.3      </td></tr>\n",
       "</tbody>\n",
       "</table>\n"
      ],
      "text/latex": [
       "\\begin{tabular}{r|lll}\n",
       " Logarithms.of.score.by.basis.10 & Logarithms.reversed.by.exponentiation & Original.values\\\\\n",
       "\\hline\n",
       "\t 0.6720979 & 4.7       & 4.7      \\\\\n",
       "\t 0.6127839 & 4.1       & 4.1      \\\\\n",
       "\t 0.5910646 & 3.9       & 3.9      \\\\\n",
       "\t 0.6812412 & 4.8       & 4.8      \\\\\n",
       "\t 0.6627578 & 4.6       & 4.6      \\\\\n",
       "\t 0.6334685 & 4.3       & 4.3      \\\\\n",
       "\\end{tabular}\n"
      ],
      "text/markdown": [
       "\n",
       "| Logarithms.of.score.by.basis.10 | Logarithms.reversed.by.exponentiation | Original.values |\n",
       "|---|---|---|\n",
       "| 0.6720979 | 4.7       | 4.7       |\n",
       "| 0.6127839 | 4.1       | 4.1       |\n",
       "| 0.5910646 | 3.9       | 3.9       |\n",
       "| 0.6812412 | 4.8       | 4.8       |\n",
       "| 0.6627578 | 4.6       | 4.6       |\n",
       "| 0.6334685 | 4.3       | 4.3       |\n",
       "\n"
      ],
      "text/plain": [
       "  Logarithms.of.score.by.basis.10 Logarithms.reversed.by.exponentiation\n",
       "1 0.6720979                       4.7                                  \n",
       "2 0.6127839                       4.1                                  \n",
       "3 0.5910646                       3.9                                  \n",
       "4 0.6812412                       4.8                                  \n",
       "5 0.6627578                       4.6                                  \n",
       "6 0.6334685                       4.3                                  \n",
       "  Original.values\n",
       "1 4.7            \n",
       "2 4.1            \n",
       "3 3.9            \n",
       "4 4.8            \n",
       "5 4.6            \n",
       "6 4.3            "
      ]
     },
     "metadata": {},
     "output_type": "display_data"
    }
   ],
   "source": [
    "# Reverse the log transformation\n",
    "# the undoing of a log transformation is done with the reverse of 10^x\n",
    "score_log_undone <- 10^(score_log)\n",
    "\n",
    "\n",
    "compare_score_logs <- data.frame(\"Logarithms of score by basis 10\"= score_log, \n",
    "                                 \"Logarithms reversed by exponentiation\"= score_log_undone,\n",
    "                                \"Original values\"= evals$score)\n",
    "\n",
    "head(compare_score_logs)"
   ]
  },
  {
   "cell_type": "code",
   "execution_count": 211,
   "metadata": {},
   "outputs": [
    {
     "name": "stderr",
     "output_type": "stream",
     "text": [
      "Installing package into 'C:/Users/gamarandor/Documents/R/win-library/3.5'\n",
      "(as 'lib' is unspecified)\n",
      "Warning message:\n",
      "\"package 'rcompanion' is in use and will not be installed\""
     ]
    }
   ],
   "source": [
    "library(utils)\n",
    "\n",
    "\n",
    "install.packages(\"rcompanion\", repos='http://cran.us.r-project.org', dependencies=TRUE)\n",
    "\n"
   ]
  },
  {
   "cell_type": "code",
   "execution_count": 212,
   "metadata": {},
   "outputs": [
    {
     "name": "stderr",
     "output_type": "stream",
     "text": [
      "Installing package into 'C:/Users/gamarandor/Documents/R/win-library/3.5'\n",
      "(as 'lib' is unspecified)\n"
     ]
    },
    {
     "name": "stdout",
     "output_type": "stream",
     "text": [
      "package 'mvtnorm' successfully unpacked and MD5 sums checked\n"
     ]
    },
    {
     "name": "stderr",
     "output_type": "stream",
     "text": [
      "Warning message:\n",
      "\"cannot remove prior installation of package 'mvtnorm'\""
     ]
    },
    {
     "name": "stdout",
     "output_type": "stream",
     "text": [
      "\n",
      "The downloaded binary packages are in\n",
      "\tC:\\Users\\gamarandor\\AppData\\Local\\Temp\\Rtmps7eLkf\\downloaded_packages\n"
     ]
    }
   ],
   "source": [
    "install.packages('mvtnorm', repos='http://cran.us.r-project.org', dependencies=TRUE)"
   ]
  },
  {
   "cell_type": "markdown",
   "metadata": {},
   "source": [
    "#### Power transform\n",
    "<p>\n",
    "In statistics, a power transform is a family of functions that are applied to create \n",
    "a monotonic transformation of data using power functions. This is a useful data transformation technique \n",
    "used to stabilize variance, make the data more normal distribution-like, improve the validity of measures of association such as the Pearson correlation between variables and for \n",
    "other data stabilization procedures. \n",
    "</p>\n",
    "<a href=\"https://en.wikipedia.org/wiki/Power_transform\",  target=\"_blank\">Wikipedia</p>"
   ]
  },
  {
   "cell_type": "code",
   "execution_count": 213,
   "metadata": {},
   "outputs": [
    {
     "name": "stdout",
     "output_type": "stream",
     "text": [
      "\n",
      "    lambda      W Shapiro.p.value\n",
      "524  3.075 0.9754       4.793e-07\n",
      "\n",
      "if (lambda >  0){TRANS = x ^ lambda} \n",
      "if (lambda == 0){TRANS = log(x)} \n",
      "if (lambda <  0){TRANS = -1 * x ^ lambda} \n",
      "\n"
     ]
    },
    {
     "data": {
      "text/html": [
       "<ol class=list-inline>\n",
       "\t<li>116.600634350657</li>\n",
       "\t<li>76.6143919956495</li>\n",
       "\t<li>65.6936914867636</li>\n",
       "\t<li>124.398975853847</li>\n",
       "\t<li>109.139091030115</li>\n",
       "\t<li>88.6983418120617</li>\n",
       "\t<li>23.7143347680676</li>\n",
       "\t<li>76.6143919956495</li>\n",
       "\t<li>43.0821799009891</li>\n",
       "\t<li>102.006648760569</li>\n",
       "</ol>\n"
      ],
      "text/latex": [
       "\\begin{enumerate*}\n",
       "\\item 116.600634350657\n",
       "\\item 76.6143919956495\n",
       "\\item 65.6936914867636\n",
       "\\item 124.398975853847\n",
       "\\item 109.139091030115\n",
       "\\item 88.6983418120617\n",
       "\\item 23.7143347680676\n",
       "\\item 76.6143919956495\n",
       "\\item 43.0821799009891\n",
       "\\item 102.006648760569\n",
       "\\end{enumerate*}\n"
      ],
      "text/markdown": [
       "1. 116.600634350657\n",
       "2. 76.6143919956495\n",
       "3. 65.6936914867636\n",
       "4. 124.398975853847\n",
       "5. 109.139091030115\n",
       "6. 88.6983418120617\n",
       "7. 23.7143347680676\n",
       "8. 76.6143919956495\n",
       "9. 43.0821799009891\n",
       "10. 102.006648760569\n",
       "\n",
       "\n"
      ],
      "text/plain": [
       " [1] 116.60063  76.61439  65.69369 124.39898 109.13909  88.69834  23.71433\n",
       " [8]  76.61439  43.08218 102.00665"
      ]
     },
     "metadata": {},
     "output_type": "display_data"
    },
    {
     "data": {
      "text/html": [
       "11"
      ],
      "text/latex": [
       "11"
      ],
      "text/markdown": [
       "11"
      ],
      "text/plain": [
       "[1] 11"
      ]
     },
     "metadata": {},
     "output_type": "display_data"
    },
    {
     "data": {
      "image/png": "[encoded data removed]",
      "text/plain": [
       "plot without title"
      ]
     },
     "metadata": {},
     "output_type": "display_data"
    }
   ],
   "source": [
    "# Tukey’s Ladder of Powers transformation\n",
    "\n",
    "\n",
    "library(\"rcompanion\")\n",
    "library(MASS)\n",
    "score_T_tuk_score = transformTukey(evals$score, plotit=FALSE)\n",
    "score_T_tuk_score[1:10]\n",
    "\n",
    "\n",
    "number_of_bins_score_log <- Freedman_Diaconis(score_T_tuk_score)\n",
    "number_of_bins_score_log\n",
    "\n",
    "evals %>%\n",
    "ggplot(aes(x=score_T_tuk_score)) +\n",
    "geom_histogram(color=\"black\", size=0.8, fill=\"lightgreen\", bins = number_of_bins_score_log, aes(y=..density..) ) +\n",
    "labs(x=\"Teaching_Scores\", y=\"Count\")+\n",
    "stat_function(fun = dnorm, args = list(mean = mean(score_T_tuk_score), sd = sd(score_T_tuk_score)), color=\"black\", size=1.5)"
   ]
  },
  {
   "cell_type": "code",
   "execution_count": 214,
   "metadata": {},
   "outputs": [
    {
     "data": {
      "image/png": "[encoded data removed]",
      "text/plain": [
       "plot without title"
      ]
     },
     "metadata": {},
     "output_type": "display_data"
    }
   ],
   "source": [
    "Box = boxcox(evals$score ~ 1,            \n",
    "             lambda = seq(-6,6,0.1)      # Try values -6 to 6 by 0.1\n",
    "             )"
   ]
  },
  {
   "cell_type": "code",
   "execution_count": 215,
   "metadata": {},
   "outputs": [
    {
     "data": {
      "text/html": [
       "<table>\n",
       "<thead><tr><th></th><th scope=col>Box.x</th><th scope=col>Box.y</th></tr></thead>\n",
       "<tbody>\n",
       "\t<tr><th scope=row>92</th><td>3.1      </td><td>-460.1083</td></tr>\n",
       "</tbody>\n",
       "</table>\n"
      ],
      "text/latex": [
       "\\begin{tabular}{r|ll}\n",
       "  & Box.x & Box.y\\\\\n",
       "\\hline\n",
       "\t92 & 3.1       & -460.1083\\\\\n",
       "\\end{tabular}\n"
      ],
      "text/markdown": [
       "\n",
       "| <!--/--> | Box.x | Box.y |\n",
       "|---|---|---|\n",
       "| 92 | 3.1       | -460.1083 |\n",
       "\n"
      ],
      "text/plain": [
       "   Box.x Box.y    \n",
       "92 3.1   -460.1083"
      ]
     },
     "metadata": {},
     "output_type": "display_data"
    },
    {
     "data": {
      "text/html": [
       "<ol class=list-inline>\n",
       "\t<li>38.7742601452801</li>\n",
       "\t<li>25.279087390624</li>\n",
       "\t<li>21.602368159388</li>\n",
       "\t<li>41.4110474953133</li>\n",
       "\t<li>36.2526930260091</li>\n",
       "</ol>\n"
      ],
      "text/latex": [
       "\\begin{enumerate*}\n",
       "\\item 38.7742601452801\n",
       "\\item 25.279087390624\n",
       "\\item 21.602368159388\n",
       "\\item 41.4110474953133\n",
       "\\item 36.2526930260091\n",
       "\\end{enumerate*}\n"
      ],
      "text/markdown": [
       "1. 38.7742601452801\n",
       "2. 25.279087390624\n",
       "3. 21.602368159388\n",
       "4. 41.4110474953133\n",
       "5. 36.2526930260091\n",
       "\n",
       "\n"
      ],
      "text/plain": [
       "[1] 38.77426 25.27909 21.60237 41.41105 36.25269"
      ]
     },
     "metadata": {},
     "output_type": "display_data"
    }
   ],
   "source": [
    "Cox = data.frame(Box$x, Box$y) \n",
    "# Order the new data frame by decreasing y\n",
    "Cox2 = Cox[with(Cox, order(-Cox$Box.y)),]\n",
    "#    log likelihood\n",
    "Cox2[1,] \n",
    "# Extract that lambda\n",
    "lambda = Cox2[1, \"Box.x\"]   \n",
    " # Transform the original data\n",
    "Score_box = (evals$score^ lambda - 1)/lambda  \n",
    "Score_box[1:5]"
   ]
  },
  {
   "cell_type": "code",
   "execution_count": 216,
   "metadata": {},
   "outputs": [
    {
     "data": {
      "image/png": "[encoded data removed]",
      "text/plain": [
       "plot without title"
      ]
     },
     "metadata": {},
     "output_type": "display_data"
    }
   ],
   "source": [
    "evals_Cox <-\n",
    "evals %>% mutate(Score_box=Score_box)\n",
    "\n",
    "\n",
    "evals_Cox %>%\n",
    "ggplot(aes(x=Score_box)) +\n",
    "geom_histogram(color=\"black\", size=0.8, fill=\"brown\", bins = number_of_bins_score_log, aes(y=..density..) ) +\n",
    "labs(x=\"Teaching_Scores\", y=\"Count\")+\n",
    "stat_function(fun = dnorm, args = list(mean = mean(Score_box), sd = sd(Score_box)), color=\"black\", size=1.5)"
   ]
  },
  {
   "cell_type": "markdown",
   "metadata": {},
   "source": [
    "#### Compute summary statistics of teaching scores"
   ]
  },
  {
   "cell_type": "code",
   "execution_count": 217,
   "metadata": {},
   "outputs": [
    {
     "data": {
      "text/html": [
       "<table>\n",
       "<thead><tr><th scope=col>mean_score</th><th scope=col>median_score</th><th scope=col>standard_deviation_score</th><th scope=col>maximum</th><th scope=col>minimum</th></tr></thead>\n",
       "<tbody>\n",
       "\t<tr><td>4.17473  </td><td>4.3      </td><td>0.5438645</td><td>5        </td><td>2.3      </td></tr>\n",
       "</tbody>\n",
       "</table>\n"
      ],
      "text/latex": [
       "\\begin{tabular}{r|lllll}\n",
       " mean\\_score & median\\_score & standard\\_deviation\\_score & maximum & minimum\\\\\n",
       "\\hline\n",
       "\t 4.17473   & 4.3       & 0.5438645 & 5         & 2.3      \\\\\n",
       "\\end{tabular}\n"
      ],
      "text/markdown": [
       "\n",
       "| mean_score | median_score | standard_deviation_score | maximum | minimum |\n",
       "|---|---|---|---|---|\n",
       "| 4.17473   | 4.3       | 0.5438645 | 5         | 2.3       |\n",
       "\n"
      ],
      "text/plain": [
       "  mean_score median_score standard_deviation_score maximum minimum\n",
       "1 4.17473    4.3          0.5438645                5       2.3    "
      ]
     },
     "metadata": {},
     "output_type": "display_data"
    }
   ],
   "source": [
    "\n",
    "evals %>%\n",
    "summarize(mean_score=mean(score),\n",
    "          median_score=median(score),\n",
    "          standard_deviation_score=sd(score),\n",
    "          maximum=max(score),\n",
    "          minimum=min(score))"
   ]
  },
  {
   "cell_type": "markdown",
   "metadata": {},
   "source": [
    "#### Univariate EDA of the age variable"
   ]
  },
  {
   "cell_type": "code",
   "execution_count": 218,
   "metadata": {},
   "outputs": [
    {
     "name": "stdout",
     "output_type": "stream",
     "text": [
      " int [1:463] 36 36 36 36 59 59 59 51 51 40 ...\n"
     ]
    },
    {
     "data": {
      "text/html": [
       "<ol class=list-inline>\n",
       "\t<li>36</li>\n",
       "\t<li>59</li>\n",
       "\t<li>51</li>\n",
       "\t<li>40</li>\n",
       "\t<li>31</li>\n",
       "\t<li>62</li>\n",
       "\t<li>33</li>\n",
       "\t<li>47</li>\n",
       "\t<li>35</li>\n",
       "\t<li>37</li>\n",
       "\t<li>42</li>\n",
       "\t<li>49</li>\n",
       "\t<li>45</li>\n",
       "\t<li>56</li>\n",
       "\t<li>48</li>\n",
       "\t<li>46</li>\n",
       "\t<li>57</li>\n",
       "\t<li>52</li>\n",
       "\t<li>29</li>\n",
       "\t<li>64</li>\n",
       "\t<li>34</li>\n",
       "\t<li>58</li>\n",
       "\t<li>73</li>\n",
       "\t<li>70</li>\n",
       "\t<li>41</li>\n",
       "\t<li>63</li>\n",
       "\t<li>39</li>\n",
       "\t<li>54</li>\n",
       "\t<li>44</li>\n",
       "\t<li>60</li>\n",
       "\t<li>61</li>\n",
       "\t<li>50</li>\n",
       "\t<li>38</li>\n",
       "\t<li>32</li>\n",
       "\t<li>43</li>\n",
       "</ol>\n"
      ],
      "text/latex": [
       "\\begin{enumerate*}\n",
       "\\item 36\n",
       "\\item 59\n",
       "\\item 51\n",
       "\\item 40\n",
       "\\item 31\n",
       "\\item 62\n",
       "\\item 33\n",
       "\\item 47\n",
       "\\item 35\n",
       "\\item 37\n",
       "\\item 42\n",
       "\\item 49\n",
       "\\item 45\n",
       "\\item 56\n",
       "\\item 48\n",
       "\\item 46\n",
       "\\item 57\n",
       "\\item 52\n",
       "\\item 29\n",
       "\\item 64\n",
       "\\item 34\n",
       "\\item 58\n",
       "\\item 73\n",
       "\\item 70\n",
       "\\item 41\n",
       "\\item 63\n",
       "\\item 39\n",
       "\\item 54\n",
       "\\item 44\n",
       "\\item 60\n",
       "\\item 61\n",
       "\\item 50\n",
       "\\item 38\n",
       "\\item 32\n",
       "\\item 43\n",
       "\\end{enumerate*}\n"
      ],
      "text/markdown": [
       "1. 36\n",
       "2. 59\n",
       "3. 51\n",
       "4. 40\n",
       "5. 31\n",
       "6. 62\n",
       "7. 33\n",
       "8. 47\n",
       "9. 35\n",
       "10. 37\n",
       "11. 42\n",
       "12. 49\n",
       "13. 45\n",
       "14. 56\n",
       "15. 48\n",
       "16. 46\n",
       "17. 57\n",
       "18. 52\n",
       "19. 29\n",
       "20. 64\n",
       "21. 34\n",
       "22. 58\n",
       "23. 73\n",
       "24. 70\n",
       "25. 41\n",
       "26. 63\n",
       "27. 39\n",
       "28. 54\n",
       "29. 44\n",
       "30. 60\n",
       "31. 61\n",
       "32. 50\n",
       "33. 38\n",
       "34. 32\n",
       "35. 43\n",
       "\n",
       "\n"
      ],
      "text/plain": [
       " [1] 36 59 51 40 31 62 33 47 35 37 42 49 45 56 48 46 57 52 29 64 34 58 73 70 41\n",
       "[26] 63 39 54 44 60 61 50 38 32 43"
      ]
     },
     "metadata": {},
     "output_type": "display_data"
    },
    {
     "data": {
      "text/html": [
       "'integer'"
      ],
      "text/latex": [
       "'integer'"
      ],
      "text/markdown": [
       "'integer'"
      ],
      "text/plain": [
       "[1] \"integer\""
      ]
     },
     "metadata": {},
     "output_type": "display_data"
    },
    {
     "data": {
      "text/plain": [
       "\n",
       "29 31 32 33 34 35 36 37 38 39 40 41 42 43 44 45 46 47 48 49 50 51 52 54 56 57 \n",
       " 1  6 11 23 11 12  4 10 17 10  8  1 22 25  4 10  9 41  8  7 19 19 47  8  8 28 \n",
       "58 59 60 61 62 63 64 70 73 \n",
       "14  3 18  6 25  7 13  4  4 "
      ]
     },
     "metadata": {},
     "output_type": "display_data"
    }
   ],
   "source": [
    "#  Look at the data age of professor\n",
    "\n",
    "glimpse(evals$age)\n",
    "unique(evals$age)\n",
    "class(evals$age)\n",
    "table(evals$age)"
   ]
  },
  {
   "cell_type": "code",
   "execution_count": 219,
   "metadata": {},
   "outputs": [
    {
     "data": {
      "text/html": [
       "<ol class=list-inline>\n",
       "\t<li>36</li>\n",
       "\t<li>59</li>\n",
       "\t<li>51</li>\n",
       "\t<li>40</li>\n",
       "\t<li>31</li>\n",
       "\t<li>62</li>\n",
       "\t<li>33</li>\n",
       "\t<li>47</li>\n",
       "\t<li>35</li>\n",
       "\t<li>37</li>\n",
       "\t<li>42</li>\n",
       "\t<li>49</li>\n",
       "\t<li>45</li>\n",
       "\t<li>56</li>\n",
       "\t<li>48</li>\n",
       "\t<li>46</li>\n",
       "\t<li>57</li>\n",
       "\t<li>52</li>\n",
       "\t<li>29</li>\n",
       "\t<li>64</li>\n",
       "\t<li>34</li>\n",
       "\t<li>58</li>\n",
       "\t<li>73</li>\n",
       "\t<li>70</li>\n",
       "\t<li>41</li>\n",
       "\t<li>63</li>\n",
       "\t<li>39</li>\n",
       "\t<li>54</li>\n",
       "\t<li>44</li>\n",
       "\t<li>60</li>\n",
       "\t<li>61</li>\n",
       "\t<li>50</li>\n",
       "\t<li>38</li>\n",
       "\t<li>32</li>\n",
       "\t<li>43</li>\n",
       "</ol>\n"
      ],
      "text/latex": [
       "\\begin{enumerate*}\n",
       "\\item 36\n",
       "\\item 59\n",
       "\\item 51\n",
       "\\item 40\n",
       "\\item 31\n",
       "\\item 62\n",
       "\\item 33\n",
       "\\item 47\n",
       "\\item 35\n",
       "\\item 37\n",
       "\\item 42\n",
       "\\item 49\n",
       "\\item 45\n",
       "\\item 56\n",
       "\\item 48\n",
       "\\item 46\n",
       "\\item 57\n",
       "\\item 52\n",
       "\\item 29\n",
       "\\item 64\n",
       "\\item 34\n",
       "\\item 58\n",
       "\\item 73\n",
       "\\item 70\n",
       "\\item 41\n",
       "\\item 63\n",
       "\\item 39\n",
       "\\item 54\n",
       "\\item 44\n",
       "\\item 60\n",
       "\\item 61\n",
       "\\item 50\n",
       "\\item 38\n",
       "\\item 32\n",
       "\\item 43\n",
       "\\end{enumerate*}\n"
      ],
      "text/markdown": [
       "1. 36\n",
       "2. 59\n",
       "3. 51\n",
       "4. 40\n",
       "5. 31\n",
       "6. 62\n",
       "7. 33\n",
       "8. 47\n",
       "9. 35\n",
       "10. 37\n",
       "11. 42\n",
       "12. 49\n",
       "13. 45\n",
       "14. 56\n",
       "15. 48\n",
       "16. 46\n",
       "17. 57\n",
       "18. 52\n",
       "19. 29\n",
       "20. 64\n",
       "21. 34\n",
       "22. 58\n",
       "23. 73\n",
       "24. 70\n",
       "25. 41\n",
       "26. 63\n",
       "27. 39\n",
       "28. 54\n",
       "29. 44\n",
       "30. 60\n",
       "31. 61\n",
       "32. 50\n",
       "33. 38\n",
       "34. 32\n",
       "35. 43\n",
       "\n",
       "\n"
      ],
      "text/plain": [
       " [1] 36 59 51 40 31 62 33 47 35 37 42 49 45 56 48 46 57 52 29 64 34 58 73 70 41\n",
       "[26] 63 39 54 44 60 61 50 38 32 43"
      ]
     },
     "metadata": {},
     "output_type": "display_data"
    },
    {
     "data": {
      "text/html": [
       "<span style=white-space:pre-wrap>'Freedman Diaconis rule for teaching scores version 1:  12'</span>"
      ],
      "text/latex": [
       "'Freedman Diaconis rule for teaching scores version 1:  12'"
      ],
      "text/markdown": [
       "<span style=white-space:pre-wrap>'Freedman Diaconis rule for teaching scores version 1:  12'</span>"
      ],
      "text/plain": [
       "[1] \"Freedman Diaconis rule for teaching scores version 1:  12\""
      ]
     },
     "metadata": {},
     "output_type": "display_data"
    },
    {
     "data": {
      "text/html": [
       "463"
      ],
      "text/latex": [
       "463"
      ],
      "text/markdown": [
       "463"
      ],
      "text/plain": [
       "[1] 463"
      ]
     },
     "metadata": {},
     "output_type": "display_data"
    },
    {
     "data": {
      "image/png": "[encoded data removed]",
      "text/plain": [
       "plot without title"
      ]
     },
     "metadata": {},
     "output_type": "display_data"
    }
   ],
   "source": [
    "# Age of professor\n",
    "unique(evals$age)\n",
    "number_of_bins_score_age <- Freedman_Diaconis(evals$age)\n",
    "paste(\"Freedman Diaconis rule for teaching scores version 1: \", number_of_bins_score_age)\n",
    "length_age <- length(evals$age)\n",
    "length_age\n",
    "evals %>%\n",
    "ggplot(aes(x=age)) +\n",
    "geom_histogram(color=\"red\", size=0.8, fill=\"gold\", bins = number_of_bins_score_age, aes(y=..density..) ) +\n",
    "labs(x=\"Age\", y=\"Count\")+\n",
    "stat_function(fun=dnorm, args=list(mean=mean(evals$age), sd=sd(evals$age)), color=\"black\", size=1.5)\n"
   ]
  },
  {
   "cell_type": "code",
   "execution_count": 220,
   "metadata": {},
   "outputs": [
    {
     "data": {
      "text/html": [
       "<table>\n",
       "<thead><tr><th scope=col>mean_score</th><th scope=col>median_score</th><th scope=col>standard_deviation_score</th><th scope=col>maximum</th><th scope=col>minimum</th></tr></thead>\n",
       "<tbody>\n",
       "\t<tr><td>48.36501</td><td>48      </td><td>9.802742</td><td>73      </td><td>29      </td></tr>\n",
       "</tbody>\n",
       "</table>\n"
      ],
      "text/latex": [
       "\\begin{tabular}{r|lllll}\n",
       " mean\\_score & median\\_score & standard\\_deviation\\_score & maximum & minimum\\\\\n",
       "\\hline\n",
       "\t 48.36501 & 48       & 9.802742 & 73       & 29      \\\\\n",
       "\\end{tabular}\n"
      ],
      "text/markdown": [
       "\n",
       "| mean_score | median_score | standard_deviation_score | maximum | minimum |\n",
       "|---|---|---|---|---|\n",
       "| 48.36501 | 48       | 9.802742 | 73       | 29       |\n",
       "\n"
      ],
      "text/plain": [
       "  mean_score median_score standard_deviation_score maximum minimum\n",
       "1 48.36501   48           9.802742                 73      29     "
      ]
     },
     "metadata": {},
     "output_type": "display_data"
    }
   ],
   "source": [
    "# Summary statistics\n",
    "\n",
    "evals %>%\n",
    "summarize(mean_score=mean(age),\n",
    "          median_score=median(age),\n",
    "          standard_deviation_score=sd(age),\n",
    "          maximum=max(age),\n",
    "          minimum=min(age))"
   ]
  },
  {
   "cell_type": "markdown",
   "metadata": {},
   "source": [
    "#### Bivariate EDA of the relationship between age and teaching scores"
   ]
  },
  {
   "cell_type": "code",
   "execution_count": 221,
   "metadata": {},
   "outputs": [
    {
     "data": {
      "image/png": "[encoded data removed]",
      "text/plain": [
       "plot without title"
      ]
     },
     "metadata": {},
     "output_type": "display_data"
    }
   ],
   "source": [
    "ggplot(evals, aes(x=age, y=score)) +\n",
    "geom_point(color=\"violet\", alpha=0.5, na.rm=TRUE)+\n",
    "labs(x=\"Age\", y=\"Teaching Scores\", title=\"Age over teaching scores\")\n",
    "# Is there a relationship between age and teaching scores?\n",
    "# No, the data points are evenly distributed"
   ]
  },
  {
   "cell_type": "code",
   "execution_count": 222,
   "metadata": {},
   "outputs": [
    {
     "data": {
      "image/png": "[encoded data removed]",
      "text/plain": [
       "plot without title"
      ]
     },
     "metadata": {},
     "output_type": "display_data"
    }
   ],
   "source": [
    "# Overplotting?\n",
    "ggplot(evals, aes(x=age, y=score)) +\n",
    "geom_jitter(color=\"violet\", alpha=0.5, na.rm=TRUE)+\n",
    "labs(x=\"Age\", y=\"Teaching Scores\", title=\"Age over teaching scores with geom_jitter\")\n",
    "# Is there a relationship between age and teaching scores?\n",
    "# No, it seems the data points are evenly distributed"
   ]
  },
  {
   "cell_type": "code",
   "execution_count": 223,
   "metadata": {},
   "outputs": [
    {
     "data": {
      "text/html": [
       "<table>\n",
       "<thead><tr><th scope=col>Correlation_age_scores</th></tr></thead>\n",
       "<tbody>\n",
       "\t<tr><td>-0.107032</td></tr>\n",
       "</tbody>\n",
       "</table>\n"
      ],
      "text/latex": [
       "\\begin{tabular}{r|l}\n",
       " Correlation\\_age\\_scores\\\\\n",
       "\\hline\n",
       "\t -0.107032\\\\\n",
       "\\end{tabular}\n"
      ],
      "text/markdown": [
       "\n",
       "| Correlation_age_scores |\n",
       "|---|\n",
       "| -0.107032 |\n",
       "\n"
      ],
      "text/plain": [
       "  Correlation_age_scores\n",
       "1 -0.107032             "
      ]
     },
     "metadata": {},
     "output_type": "display_data"
    }
   ],
   "source": [
    "evals %>% summarize(Correlation_age_scores=cor(age, score))\n",
    "# the relationship between age and teaching scores is very weakly negative\n",
    "# the older the lower the teaching scores"
   ]
  },
  {
   "cell_type": "code",
   "execution_count": 224,
   "metadata": {},
   "outputs": [
    {
     "data": {
      "image/png": "[encoded data removed]",
      "text/plain": [
       "plot without title"
      ]
     },
     "metadata": {},
     "output_type": "display_data"
    }
   ],
   "source": [
    "# visualizing the relationship age and teach scores with a regression line\n",
    "# x: age - independent variable\n",
    "# y: score - dependent variable\n",
    "\n",
    "plot_age_score_reg <- \n",
    "evals %>% ggplot(aes(x=age,y=score))+\n",
    "geom_jitter(alpha=0.6, width=0.3, color=\"green\")+\n",
    "geom_smooth(method=\"lm\", se=FALSE, color=\"red\", size=1)+\n",
    "labs(x=\"Age - independent variable\", y=\"Teaching score - dependent variable\")\n",
    "\n",
    "plot_age_score_reg "
   ]
  },
  {
   "cell_type": "code",
   "execution_count": 225,
   "metadata": {},
   "outputs": [
    {
     "data": {
      "text/plain": [
       "\n",
       "Call:\n",
       "lm(formula = score ~ age, data = evals)\n",
       "\n",
       "Coefficients:\n",
       "(Intercept)          age  \n",
       "   4.461932    -0.005938  \n"
      ]
     },
     "metadata": {},
     "output_type": "display_data"
    },
    {
     "data": {
      "text/plain": [
       "\n",
       "Call:\n",
       "lm(formula = score ~ age, data = evals)\n",
       "\n",
       "Residuals:\n",
       "    Min      1Q  Median      3Q     Max \n",
       "-1.9185 -0.3531  0.1172  0.4172  0.8825 \n",
       "\n",
       "Coefficients:\n",
       "             Estimate Std. Error t value Pr(>|t|)    \n",
       "(Intercept)  4.461932   0.126778  35.195   <2e-16 ***\n",
       "age         -0.005938   0.002569  -2.311   0.0213 *  \n",
       "---\n",
       "Signif. codes:  0 '***' 0.001 '**' 0.01 '*' 0.05 '.' 0.1 ' ' 1\n",
       "\n",
       "Residual standard error: 0.5413 on 461 degrees of freedom\n",
       "Multiple R-squared:  0.01146,\tAdjusted R-squared:  0.009311 \n",
       "F-statistic: 5.342 on 1 and 461 DF,  p-value: 0.02125\n"
      ]
     },
     "metadata": {},
     "output_type": "display_data"
    }
   ],
   "source": [
    "# simple linear regression model of the bivariate relationship between age and scores\n",
    "\n",
    "reg_score_age <- \n",
    "lm(score~age, data=evals)\n",
    "\n",
    "reg_score_age\n",
    "summary(reg_score_age)\n",
    "\n",
    "# When age is 0 the beauty score is 4.461932\n",
    "# (given all other variables are not changing)\n",
    "# Meaning every teacher has on average a beauty score of 4.461932 independent of the age\n",
    "# for every unit of age (month) teaching scores decrease by -0.005938\n",
    "# 0-hypothesis: a relationship between teaching score and age exists not\n",
    "# Alternative hypothesis: a relationship between teaching score and age exists\n",
    "# Given a significant level of 0.05 and a p-value below of 0.0213\n",
    "# age influences the teaching scores\n",
    "# The 0-hypothesis is rejected, and the alternative hypothesis is not rejected\n",
    "# the slope of age is with -0.005938 slightly negative\n",
    "# Assumption: as age increases scores decrease"
   ]
  },
  {
   "cell_type": "code",
   "execution_count": 226,
   "metadata": {},
   "outputs": [
    {
     "data": {
      "text/html": [
       "<table>\n",
       "<thead><tr><th scope=col>term</th><th scope=col>estimate</th><th scope=col>std_error</th><th scope=col>statistic</th><th scope=col>p_value</th><th scope=col>lower_ci</th><th scope=col>upper_ci</th></tr></thead>\n",
       "<tbody>\n",
       "\t<tr><td>intercept</td><td> 4.462   </td><td>0.127    </td><td>35.195   </td><td>0.000    </td><td> 4.213   </td><td> 4.711   </td></tr>\n",
       "\t<tr><td>age      </td><td>-0.006   </td><td>0.003    </td><td>-2.311   </td><td>0.021    </td><td>-0.011   </td><td>-0.001   </td></tr>\n",
       "</tbody>\n",
       "</table>\n"
      ],
      "text/latex": [
       "\\begin{tabular}{r|lllllll}\n",
       " term & estimate & std\\_error & statistic & p\\_value & lower\\_ci & upper\\_ci\\\\\n",
       "\\hline\n",
       "\t intercept &  4.462    & 0.127     & 35.195    & 0.000     &  4.213    &  4.711   \\\\\n",
       "\t age       & -0.006    & 0.003     & -2.311    & 0.021     & -0.011    & -0.001   \\\\\n",
       "\\end{tabular}\n"
      ],
      "text/markdown": [
       "\n",
       "| term | estimate | std_error | statistic | p_value | lower_ci | upper_ci |\n",
       "|---|---|---|---|---|---|---|\n",
       "| intercept |  4.462    | 0.127     | 35.195    | 0.000     |  4.213    |  4.711    |\n",
       "| age       | -0.006    | 0.003     | -2.311    | 0.021     | -0.011    | -0.001    |\n",
       "\n"
      ],
      "text/plain": [
       "  term      estimate std_error statistic p_value lower_ci upper_ci\n",
       "1 intercept  4.462   0.127     35.195    0.000    4.213    4.711  \n",
       "2 age       -0.006   0.003     -2.311    0.021   -0.011   -0.001  "
      ]
     },
     "metadata": {},
     "output_type": "display_data"
    }
   ],
   "source": [
    "# using get_regression_table from moderndive instead of summary\n",
    "get_regression_table(reg_score_age)"
   ]
  },
  {
   "cell_type": "markdown",
   "metadata": {},
   "source": [
    "#### Building regression models and using metrics (rmse, RSS and R-squared) for model assesment"
   ]
  },
  {
   "cell_type": "code",
   "execution_count": 227,
   "metadata": {},
   "outputs": [
    {
     "data": {
      "text/html": [
       "<table>\n",
       "<thead><tr><th scope=col>Actual_teaching_scores</th><th scope=col>Predicted_scores</th><th scope=col>Residuals</th></tr></thead>\n",
       "<tbody>\n",
       "\t<tr><td>4.7       </td><td>4.248156  </td><td> 0.4518438</td></tr>\n",
       "\t<tr><td>4.1       </td><td>4.248156  </td><td>-0.1481562</td></tr>\n",
       "\t<tr><td>3.9       </td><td>4.248156  </td><td>-0.3481562</td></tr>\n",
       "\t<tr><td>4.8       </td><td>4.248156  </td><td> 0.5518438</td></tr>\n",
       "\t<tr><td>4.6       </td><td>4.111577  </td><td> 0.4884229</td></tr>\n",
       "\t<tr><td>4.3       </td><td>4.111577  </td><td> 0.1884229</td></tr>\n",
       "</tbody>\n",
       "</table>\n"
      ],
      "text/latex": [
       "\\begin{tabular}{r|lll}\n",
       " Actual\\_teaching\\_scores & Predicted\\_scores & Residuals\\\\\n",
       "\\hline\n",
       "\t 4.7        & 4.248156   &  0.4518438\\\\\n",
       "\t 4.1        & 4.248156   & -0.1481562\\\\\n",
       "\t 3.9        & 4.248156   & -0.3481562\\\\\n",
       "\t 4.8        & 4.248156   &  0.5518438\\\\\n",
       "\t 4.6        & 4.111577   &  0.4884229\\\\\n",
       "\t 4.3        & 4.111577   &  0.1884229\\\\\n",
       "\\end{tabular}\n"
      ],
      "text/markdown": [
       "\n",
       "| Actual_teaching_scores | Predicted_scores | Residuals |\n",
       "|---|---|---|\n",
       "| 4.7        | 4.248156   |  0.4518438 |\n",
       "| 4.1        | 4.248156   | -0.1481562 |\n",
       "| 3.9        | 4.248156   | -0.3481562 |\n",
       "| 4.8        | 4.248156   |  0.5518438 |\n",
       "| 4.6        | 4.111577   |  0.4884229 |\n",
       "| 4.3        | 4.111577   |  0.1884229 |\n",
       "\n"
      ],
      "text/plain": [
       "  Actual_teaching_scores Predicted_scores Residuals \n",
       "1 4.7                    4.248156          0.4518438\n",
       "2 4.1                    4.248156         -0.1481562\n",
       "3 3.9                    4.248156         -0.3481562\n",
       "4 4.8                    4.248156          0.5518438\n",
       "5 4.6                    4.111577          0.4884229\n",
       "6 4.3                    4.111577          0.1884229"
      ]
     },
     "metadata": {},
     "output_type": "display_data"
    },
    {
     "name": "stdout",
     "output_type": "stream",
     "text": [
      "Observations: 463\n",
      "Variables: 3\n",
      "$ Actual_teaching_scores <dbl> 4.7, 4.1, 3.9, 4.8, 4.6, 4.3, 2.8, 4.1, 3.4,...\n",
      "$ Predicted_scores       <dbl> 4.248156, 4.248156, 4.248156, 4.248156, 4.11...\n",
      "$ Residuals              <dbl> 0.45184376, -0.14815624, -0.34815624, 0.5518...\n"
     ]
    },
    {
     "data": {
      "text/html": [
       "<table>\n",
       "<thead><tr><th scope=col>ID</th><th scope=col>score</th><th scope=col>age</th><th scope=col>score_hat</th><th scope=col>residual</th></tr></thead>\n",
       "<tbody>\n",
       "\t<tr><td>1     </td><td>4.7   </td><td>36    </td><td>4.248 </td><td> 0.452</td></tr>\n",
       "\t<tr><td>2     </td><td>4.1   </td><td>36    </td><td>4.248 </td><td>-0.148</td></tr>\n",
       "\t<tr><td>3     </td><td>3.9   </td><td>36    </td><td>4.248 </td><td>-0.348</td></tr>\n",
       "\t<tr><td>4     </td><td>4.8   </td><td>36    </td><td>4.248 </td><td> 0.552</td></tr>\n",
       "\t<tr><td>5     </td><td>4.6   </td><td>59    </td><td>4.112 </td><td> 0.488</td></tr>\n",
       "\t<tr><td>6     </td><td>4.3   </td><td>59    </td><td>4.112 </td><td> 0.188</td></tr>\n",
       "</tbody>\n",
       "</table>\n"
      ],
      "text/latex": [
       "\\begin{tabular}{r|lllll}\n",
       " ID & score & age & score\\_hat & residual\\\\\n",
       "\\hline\n",
       "\t 1      & 4.7    & 36     & 4.248  &  0.452\\\\\n",
       "\t 2      & 4.1    & 36     & 4.248  & -0.148\\\\\n",
       "\t 3      & 3.9    & 36     & 4.248  & -0.348\\\\\n",
       "\t 4      & 4.8    & 36     & 4.248  &  0.552\\\\\n",
       "\t 5      & 4.6    & 59     & 4.112  &  0.488\\\\\n",
       "\t 6      & 4.3    & 59     & 4.112  &  0.188\\\\\n",
       "\\end{tabular}\n"
      ],
      "text/markdown": [
       "\n",
       "| ID | score | age | score_hat | residual |\n",
       "|---|---|---|---|---|\n",
       "| 1      | 4.7    | 36     | 4.248  |  0.452 |\n",
       "| 2      | 4.1    | 36     | 4.248  | -0.148 |\n",
       "| 3      | 3.9    | 36     | 4.248  | -0.348 |\n",
       "| 4      | 4.8    | 36     | 4.248  |  0.552 |\n",
       "| 5      | 4.6    | 59     | 4.112  |  0.488 |\n",
       "| 6      | 4.3    | 59     | 4.112  |  0.188 |\n",
       "\n"
      ],
      "text/plain": [
       "  ID score age score_hat residual\n",
       "1 1  4.7   36  4.248      0.452  \n",
       "2 2  4.1   36  4.248     -0.148  \n",
       "3 3  3.9   36  4.248     -0.348  \n",
       "4 4  4.8   36  4.248      0.552  \n",
       "5 5  4.6   59  4.112      0.488  \n",
       "6 6  4.3   59  4.112      0.188  "
      ]
     },
     "metadata": {},
     "output_type": "display_data"
    }
   ],
   "source": [
    "# regression model: reg_score_age\n",
    "# predict teaching score with the model\n",
    "# model: independent variable is age, dependent variable is teaching score\n",
    "# building a linear regression models means finding the explanatory and response variables\n",
    "\n",
    "pred_score_age <-\n",
    "predict(reg_score_age)\n",
    "\n",
    "# Residual = Observed value - Predicted value \n",
    "df_model_score_age <- \n",
    "data.frame(Actual_teaching_scores=evals$score, \n",
    "           Predicted_scores=pred_score_age\n",
    "           )%>% \n",
    "mutate(Residuals=Actual_teaching_scores-Predicted_scores)\n",
    "\n",
    "\n",
    "head(df_model_score_age)\n",
    "glimpse(df_model_score_age)\n",
    "\n",
    "# Creating a similar table with get_regression\n",
    "head(get_regression_points(reg_score_age))\n"
   ]
  },
  {
   "cell_type": "code",
   "execution_count": 228,
   "metadata": {},
   "outputs": [
    {
     "data": {
      "text/html": [
       "<span style=white-space:pre-wrap>'Root Mean Square Error (of the simple linear regression model predicting teaching scores with age):  0.54'</span>"
      ],
      "text/latex": [
       "'Root Mean Square Error (of the simple linear regression model predicting teaching scores with age):  0.54'"
      ],
      "text/markdown": [
       "<span style=white-space:pre-wrap>'Root Mean Square Error (of the simple linear regression model predicting teaching scores with age):  0.54'</span>"
      ],
      "text/plain": [
       "[1] \"Root Mean Square Error (of the simple linear regression model predicting teaching scores with age):  0.54\""
      ]
     },
     "metadata": {},
     "output_type": "display_data"
    },
    {
     "data": {
      "text/html": [
       "<span style=white-space:pre-wrap>'RSS:  135.075843'</span>"
      ],
      "text/latex": [
       "'RSS:  135.075843'"
      ],
      "text/markdown": [
       "<span style=white-space:pre-wrap>'RSS:  135.075843'</span>"
      ],
      "text/plain": [
       "[1] \"RSS:  135.075843\""
      ]
     },
     "metadata": {},
     "output_type": "display_data"
    },
    {
     "data": {
      "text/html": [
       "<span style=white-space:pre-wrap>'R-squared_adjusted_extracted:  0.00931149520785357'</span>"
      ],
      "text/latex": [
       "'R-squared\\_adjusted\\_extracted:  0.00931149520785357'"
      ],
      "text/markdown": [
       "<span style=white-space:pre-wrap>'R-squared_adjusted_extracted:  0.00931149520785357'</span>"
      ],
      "text/plain": [
       "[1] \"R-squared_adjusted_extracted:  0.00931149520785357\""
      ]
     },
     "metadata": {},
     "output_type": "display_data"
    },
    {
     "data": {
      "text/html": [
       "<span style=white-space:pre-wrap>'R-squared_calculated:  0.0115510289554641'</span>"
      ],
      "text/latex": [
       "'R-squared\\_calculated:  0.0115510289554641'"
      ],
      "text/markdown": [
       "<span style=white-space:pre-wrap>'R-squared_calculated:  0.0115510289554641'</span>"
      ],
      "text/plain": [
       "[1] \"R-squared_calculated:  0.0115510289554641\""
      ]
     },
     "metadata": {},
     "output_type": "display_data"
    },
    {
     "data": {
      "text/plain": [
       "\n",
       "Call:\n",
       "lm(formula = score ~ age, data = evals)\n",
       "\n",
       "Residuals:\n",
       "    Min      1Q  Median      3Q     Max \n",
       "-1.9185 -0.3531  0.1172  0.4172  0.8825 \n",
       "\n",
       "Coefficients:\n",
       "             Estimate Std. Error t value Pr(>|t|)    \n",
       "(Intercept)  4.461932   0.126778  35.195   <2e-16 ***\n",
       "age         -0.005938   0.002569  -2.311   0.0213 *  \n",
       "---\n",
       "Signif. codes:  0 '***' 0.001 '**' 0.01 '*' 0.05 '.' 0.1 ' ' 1\n",
       "\n",
       "Residual standard error: 0.5413 on 461 degrees of freedom\n",
       "Multiple R-squared:  0.01146,\tAdjusted R-squared:  0.009311 \n",
       "F-statistic: 5.342 on 1 and 461 DF,  p-value: 0.02125\n"
      ]
     },
     "metadata": {},
     "output_type": "display_data"
    }
   ],
   "source": [
    "# Model assesment\n",
    "\n",
    "rmse_scores_age <- \n",
    "rmse(df_model_score_age$Actual_teaching_scores, df_model_score_age$Predicted_scores )\n",
    "\n",
    "paste(\"Root Mean Square Error (of the simple linear regression model predicting teaching scores with age): \", \n",
    "      round(rmse_scores_age, 2))\n",
    "\n",
    "\n",
    "# Interpretation: on average every prediction of a teaching score has a difference of 0.54 teaching scores\n",
    "# from the actual teaching score.\n",
    "\n",
    "# Sum of residuals squared\n",
    "\n",
    "RSS_reg_score_age <-\n",
    "get_regression_points(reg_score_age)  %>% mutate(RS=residual^2) %>% summarize(RSS=sum(RS))\n",
    "\n",
    "paste(\"RSS: \", RSS_reg_score_age)\n",
    "\n",
    "\n",
    "\n",
    "#R_squared_reg_model_price_yr_calculated <- 1- RSS_reg_model_price_yr_sf / TSS_squared_reg_model_price_yr \n",
    "\n",
    "# TSS_squared_reg_model_price_yr <-  sum((housesales_none_33$log10_prices - mean(housesales_none_33$log10_prices))^2)\n",
    "TSS_evals_scores <- sum((evals$score  - mean(evals$score ))^2)\n",
    "\n",
    "R_squared_evals_scores_age <-\n",
    "1- RSS_reg_score_age / TSS_evals_scores\n",
    "\n",
    "paste(\"R-squared_adjusted_extracted: \", summary(reg_score_age)$adj.r.squared)\n",
    "paste(\"R-squared_calculated: \", R_squared_evals_scores_age)\n",
    "\n",
    "summary(reg_score_age)\n"
   ]
  },
  {
   "cell_type": "markdown",
   "metadata": {},
   "source": [
    "#### Writing two functions calculating RSS and R-squared"
   ]
  },
  {
   "cell_type": "code",
   "execution_count": 229,
   "metadata": {},
   "outputs": [
    {
     "data": {
      "text/html": [
       "'numeric'"
      ],
      "text/latex": [
       "'numeric'"
      ],
      "text/markdown": [
       "'numeric'"
      ],
      "text/plain": [
       "[1] \"numeric\""
      ]
     },
     "metadata": {},
     "output_type": "display_data"
    },
    {
     "data": {
      "text/html": [
       "135.075843"
      ],
      "text/latex": [
       "135.075843"
      ],
      "text/markdown": [
       "135.075843"
      ],
      "text/plain": [
       "[1] 135.0758"
      ]
     },
     "metadata": {},
     "output_type": "display_data"
    },
    {
     "data": {
      "text/html": [
       "<span style=white-space:pre-wrap>'RSS:  135.075843'</span>"
      ],
      "text/latex": [
       "'RSS:  135.075843'"
      ],
      "text/markdown": [
       "<span style=white-space:pre-wrap>'RSS:  135.075843'</span>"
      ],
      "text/plain": [
       "[1] \"RSS:  135.075843\""
      ]
     },
     "metadata": {},
     "output_type": "display_data"
    },
    {
     "data": {
      "text/html": [
       "<span style=white-space:pre-wrap>'R-Squared:  0.0115510289554641'</span>"
      ],
      "text/latex": [
       "'R-Squared:  0.0115510289554641'"
      ],
      "text/markdown": [
       "<span style=white-space:pre-wrap>'R-Squared:  0.0115510289554641'</span>"
      ],
      "text/plain": [
       "[1] \"R-Squared:  0.0115510289554641\""
      ]
     },
     "metadata": {},
     "output_type": "display_data"
    }
   ],
   "source": [
    "# Calculating two functions\n",
    "\n",
    "\n",
    "# Writing a function calculating the Residual Sum of Square\n",
    "\n",
    "    \n",
    "RSS_calc_fun <-  function(regression_model) {\n",
    "    \n",
    "    \n",
    "    RSS <- get_regression_points(regression_model)  %>% mutate(RS=residual^2) %>% summarize(RSS=sum(RS))\n",
    "    # Sum of residuals squared\n",
    "    RSS <- as.numeric(RSS)\n",
    "    return(RSS)\n",
    "\n",
    "} \n",
    "\n",
    "RSS_reg_score_age_fun <- \n",
    "RSS_calc_fun(regression_model=reg_score_age)\n",
    "class(RSS_reg_score_age_fun)\n",
    "RSS_reg_score_age_fun \n",
    "\n",
    "\n",
    "paste(\"RSS: \", RSS_calc_fun(regression_model=reg_score_age))\n",
    "\n",
    "# Writing a function calculating the R-squared\n",
    "\n",
    "R_squared_calc <- function(regression_model, dependent_variable){\n",
    "    \n",
    "    RSS <- get_regression_points(regression_model)  %>% mutate(RS=residual^2) %>% summarize(RSS=sum(RS))\n",
    "    \n",
    "    RSS <- as.numeric(RSS)\n",
    "    # Total sum of square\n",
    "    Deviation_Mean <- (dependent_variable - mean(dependent_variable))^2\n",
    "    TSS <- sum(Deviation_Mean)\n",
    "    \n",
    "    R_squared <- 1- RSS / TSS\n",
    "    \n",
    "    return(R_squared)\n",
    "}\n",
    "\n",
    "R_squared_reg_score_age <-\n",
    "R_squared_calc(regression_model=reg_score_age, dependent_variable=evals$score)\n",
    "\n",
    "paste(\"R-Squared: \", R_squared_reg_score_age)"
   ]
  },
  {
   "cell_type": "code",
   "execution_count": 230,
   "metadata": {},
   "outputs": [
    {
     "data": {
      "text/html": [
       "<table>\n",
       "<thead><tr><th scope=col>term</th><th scope=col>estimate</th><th scope=col>std_error</th><th scope=col>statistic</th><th scope=col>p_value</th><th scope=col>lower_ci</th><th scope=col>upper_ci</th></tr></thead>\n",
       "<tbody>\n",
       "\t<tr><td>intercept</td><td>3.880    </td><td>0.076    </td><td>50.961   </td><td>0        </td><td>3.731    </td><td>4.030    </td></tr>\n",
       "\t<tr><td>bty_avg  </td><td>0.067    </td><td>0.016    </td><td> 4.090   </td><td>0        </td><td>0.035    </td><td>0.099    </td></tr>\n",
       "</tbody>\n",
       "</table>\n"
      ],
      "text/latex": [
       "\\begin{tabular}{r|lllllll}\n",
       " term & estimate & std\\_error & statistic & p\\_value & lower\\_ci & upper\\_ci\\\\\n",
       "\\hline\n",
       "\t intercept & 3.880     & 0.076     & 50.961    & 0         & 3.731     & 4.030    \\\\\n",
       "\t bty\\_avg   & 0.067       & 0.016       &  4.090      & 0           & 0.035       & 0.099      \\\\\n",
       "\\end{tabular}\n"
      ],
      "text/markdown": [
       "\n",
       "| term | estimate | std_error | statistic | p_value | lower_ci | upper_ci |\n",
       "|---|---|---|---|---|---|---|\n",
       "| intercept | 3.880     | 0.076     | 50.961    | 0         | 3.731     | 4.030     |\n",
       "| bty_avg   | 0.067     | 0.016     |  4.090    | 0         | 0.035     | 0.099     |\n",
       "\n"
      ],
      "text/plain": [
       "  term      estimate std_error statistic p_value lower_ci upper_ci\n",
       "1 intercept 3.880    0.076     50.961    0       3.731    4.030   \n",
       "2 bty_avg   0.067    0.016      4.090    0       0.035    0.099   "
      ]
     },
     "metadata": {},
     "output_type": "display_data"
    },
    {
     "data": {
      "text/html": [
       "4.148"
      ],
      "text/latex": [
       "4.148"
      ],
      "text/markdown": [
       "4.148"
      ],
      "text/plain": [
       "[1] 4.148"
      ]
     },
     "metadata": {},
     "output_type": "display_data"
    },
    {
     "data": {
      "text/html": [
       "<table>\n",
       "<thead><tr><th scope=col>ID</th><th scope=col>score</th><th scope=col>bty_avg</th><th scope=col>score_hat</th><th scope=col>residual</th><th scope=col>score_hat_2</th></tr></thead>\n",
       "<tbody>\n",
       "\t<tr><td>1     </td><td>4.7   </td><td>5     </td><td>4.214 </td><td> 0.486</td><td>4.215 </td></tr>\n",
       "\t<tr><td>2     </td><td>4.1   </td><td>5     </td><td>4.214 </td><td>-0.114</td><td>4.215 </td></tr>\n",
       "\t<tr><td>3     </td><td>3.9   </td><td>5     </td><td>4.214 </td><td>-0.314</td><td>4.215 </td></tr>\n",
       "\t<tr><td>4     </td><td>4.8   </td><td>5     </td><td>4.214 </td><td> 0.586</td><td>4.215 </td></tr>\n",
       "\t<tr><td>5     </td><td>4.6   </td><td>3     </td><td>4.080 </td><td> 0.520</td><td>4.081 </td></tr>\n",
       "\t<tr><td>6     </td><td>4.3   </td><td>3     </td><td>4.080 </td><td> 0.220</td><td>4.081 </td></tr>\n",
       "</tbody>\n",
       "</table>\n"
      ],
      "text/latex": [
       "\\begin{tabular}{r|llllll}\n",
       " ID & score & bty\\_avg & score\\_hat & residual & score\\_hat\\_2\\\\\n",
       "\\hline\n",
       "\t 1      & 4.7    & 5      & 4.214  &  0.486 & 4.215 \\\\\n",
       "\t 2      & 4.1    & 5      & 4.214  & -0.114 & 4.215 \\\\\n",
       "\t 3      & 3.9    & 5      & 4.214  & -0.314 & 4.215 \\\\\n",
       "\t 4      & 4.8    & 5      & 4.214  &  0.586 & 4.215 \\\\\n",
       "\t 5      & 4.6    & 3      & 4.080  &  0.520 & 4.081 \\\\\n",
       "\t 6      & 4.3    & 3      & 4.080  &  0.220 & 4.081 \\\\\n",
       "\\end{tabular}\n"
      ],
      "text/markdown": [
       "\n",
       "| ID | score | bty_avg | score_hat | residual | score_hat_2 |\n",
       "|---|---|---|---|---|---|\n",
       "| 1      | 4.7    | 5      | 4.214  |  0.486 | 4.215  |\n",
       "| 2      | 4.1    | 5      | 4.214  | -0.114 | 4.215  |\n",
       "| 3      | 3.9    | 5      | 4.214  | -0.314 | 4.215  |\n",
       "| 4      | 4.8    | 5      | 4.214  |  0.586 | 4.215  |\n",
       "| 5      | 4.6    | 3      | 4.080  |  0.520 | 4.081  |\n",
       "| 6      | 4.3    | 3      | 4.080  |  0.220 | 4.081  |\n",
       "\n"
      ],
      "text/plain": [
       "  ID score bty_avg score_hat residual score_hat_2\n",
       "1 1  4.7   5       4.214      0.486   4.215      \n",
       "2 2  4.1   5       4.214     -0.114   4.215      \n",
       "3 3  3.9   5       4.214     -0.314   4.215      \n",
       "4 4  4.8   5       4.214      0.586   4.215      \n",
       "5 5  4.6   3       4.080      0.520   4.081      \n",
       "6 6  4.3   3       4.080      0.220   4.081      "
      ]
     },
     "metadata": {},
     "output_type": "display_data"
    },
    {
     "data": {
      "text/html": [
       "0.533678698301285"
      ],
      "text/latex": [
       "0.533678698301285"
      ],
      "text/markdown": [
       "0.533678698301285"
      ],
      "text/plain": [
       "[1] 0.5336787"
      ]
     },
     "metadata": {},
     "output_type": "display_data"
    }
   ],
   "source": [
    "reg_model_score_bty <- lm(score~bty_avg, data=evals)\n",
    "get_regression_table(reg_model_score_bty)\n",
    "\n",
    "# predict values with equation\n",
    "# bty_average = 4\n",
    "pred_bty_average_4 = 3.880 + 0.067*4\n",
    "pred_bty_average_4\n",
    "\n",
    "# predict values with equation over byt_avg column\n",
    "get_regression_points(reg_model_score_bty ) %>%\n",
    "mutate(score_hat_2 = 3.88 + 0.067 * bty_avg) %>%\n",
    "head()\n",
    "\n",
    "pred_reg_model_score_bty  <-  predict(reg_model_score_bty)\n",
    "rmse(evals$score,pred_reg_model_score_bty )"
   ]
  },
  {
   "cell_type": "code",
   "execution_count": 231,
   "metadata": {},
   "outputs": [
    {
     "data": {
      "image/png": "[encoded data removed]",
      "text/plain": [
       "plot without title"
      ]
     },
     "metadata": {},
     "output_type": "display_data"
    }
   ],
   "source": [
    "# visualizing the relationship age and teach scores with a regression line\n",
    "# x: age - independent variable\n",
    "# y: score - dependent variable\n",
    "# group by beauty scores\n",
    "\n",
    "plot_age_score_reg_by_beauty <- \n",
    "evals %>% ggplot(aes(x=age,y=score, color=bty_avg))+\n",
    "geom_jitter(alpha=0.6, width=0.3)+\n",
    "geom_smooth(method=\"lm\", se=FALSE, color=\"red\", size=1.5)+\n",
    "scale_color_gradient( low = \"red\", high = \"yellow\")\n",
    "\n",
    "plot_age_score_reg_by_beauty"
   ]
  },
  {
   "cell_type": "code",
   "execution_count": 232,
   "metadata": {},
   "outputs": [
    {
     "data": {
      "text/plain": [
       "\n",
       "Call:\n",
       "lm(formula = score ~ age + bty_avg, data = evals)\n",
       "\n",
       "Coefficients:\n",
       "(Intercept)          age      bty_avg  \n",
       "   4.054732    -0.003059     0.060656  \n"
      ]
     },
     "metadata": {},
     "output_type": "display_data"
    },
    {
     "data": {
      "text/html": [
       "<table>\n",
       "<thead><tr><th scope=col>term</th><th scope=col>estimate</th><th scope=col>std_error</th><th scope=col>statistic</th><th scope=col>p_value</th><th scope=col>lower_ci</th><th scope=col>upper_ci</th></tr></thead>\n",
       "<tbody>\n",
       "\t<tr><td>intercept</td><td> 4.055   </td><td>0.170    </td><td>23.870   </td><td>0.000    </td><td> 3.721   </td><td>4.389    </td></tr>\n",
       "\t<tr><td>age      </td><td>-0.003   </td><td>0.003    </td><td>-1.148   </td><td>0.251    </td><td>-0.008   </td><td>0.002    </td></tr>\n",
       "\t<tr><td>bty_avg  </td><td> 0.061   </td><td>0.017    </td><td> 3.548   </td><td>0.000    </td><td> 0.027   </td><td>0.094    </td></tr>\n",
       "</tbody>\n",
       "</table>\n"
      ],
      "text/latex": [
       "\\begin{tabular}{r|lllllll}\n",
       " term & estimate & std\\_error & statistic & p\\_value & lower\\_ci & upper\\_ci\\\\\n",
       "\\hline\n",
       "\t intercept &  4.055    & 0.170     & 23.870    & 0.000     &  3.721    & 4.389    \\\\\n",
       "\t age       & -0.003    & 0.003     & -1.148    & 0.251     & -0.008    & 0.002    \\\\\n",
       "\t bty\\_avg   &  0.061      & 0.017       &  3.548      & 0.000       &  0.027      & 0.094      \\\\\n",
       "\\end{tabular}\n"
      ],
      "text/markdown": [
       "\n",
       "| term | estimate | std_error | statistic | p_value | lower_ci | upper_ci |\n",
       "|---|---|---|---|---|---|---|\n",
       "| intercept |  4.055    | 0.170     | 23.870    | 0.000     |  3.721    | 4.389     |\n",
       "| age       | -0.003    | 0.003     | -1.148    | 0.251     | -0.008    | 0.002     |\n",
       "| bty_avg   |  0.061    | 0.017     |  3.548    | 0.000     |  0.027    | 0.094     |\n",
       "\n"
      ],
      "text/plain": [
       "  term      estimate std_error statistic p_value lower_ci upper_ci\n",
       "1 intercept  4.055   0.170     23.870    0.000    3.721   4.389   \n",
       "2 age       -0.003   0.003     -1.148    0.251   -0.008   0.002   \n",
       "3 bty_avg    0.061   0.017      3.548    0.000    0.027   0.094   "
      ]
     },
     "metadata": {},
     "output_type": "display_data"
    },
    {
     "data": {
      "text/plain": [
       "\n",
       "Call:\n",
       "lm(formula = score ~ age + bty_avg, data = evals)\n",
       "\n",
       "Residuals:\n",
       "    Min      1Q  Median      3Q     Max \n",
       "-1.9427 -0.3474  0.1293  0.3957  0.9478 \n",
       "\n",
       "Coefficients:\n",
       "             Estimate Std. Error t value Pr(>|t|)    \n",
       "(Intercept)  4.054732   0.169865  23.870  < 2e-16 ***\n",
       "age         -0.003059   0.002664  -1.148 0.251396    \n",
       "bty_avg      0.060656   0.017098   3.548 0.000429 ***\n",
       "---\n",
       "Signif. codes:  0 '***' 0.001 '**' 0.01 '*' 0.05 '.' 0.1 ' ' 1\n",
       "\n",
       "Residual standard error: 0.5347 on 460 degrees of freedom\n",
       "Multiple R-squared:  0.03778,\tAdjusted R-squared:  0.0336 \n",
       "F-statistic: 9.031 on 2 and 460 DF,  p-value: 0.0001422\n"
      ]
     },
     "metadata": {},
     "output_type": "display_data"
    }
   ],
   "source": [
    "reg_score_age_beauty <- \n",
    "lm(score ~ age + bty_avg, data=evals)\n",
    "\n",
    "reg_score_age_beauty\n",
    "get_regression_table(reg_score_age_beauty)\n",
    "summary(reg_score_age_beauty)\n",
    "\n",
    "# forr every increase in unit of beauty average teaching scores are increasing by 0.060656\n",
    "# given all other variables are not changing\n",
    "# 0-hypothesis: a relationship between teaching score and age exists not\n",
    "# 0-hypothesis: a relationship between teaching score and beauty score exists not\n",
    "# Alternative hypothesis: a relationship between teaching score and age exists\n",
    "# Alternative hypothesis: a relationship between teaching score and beauty score exists\n",
    "# Given a significant level of 0.05 and a p-value below of 0.251396 age influences the teaching scores\n",
    "# Given a significant level of 0.05 and a p-value below of  0.000429 beauty average influences the teaching scores\n",
    "# The 0-hypothesis is rejected, and the alternative hypothesis is not rejected\n",
    "\n",
    "# Are interaction effects ocurring?"
   ]
  },
  {
   "cell_type": "code",
   "execution_count": 233,
   "metadata": {},
   "outputs": [
    {
     "data": {
      "text/html": [
       "<table>\n",
       "<thead><tr><th scope=col>Actual_values</th><th scope=col>Predictions</th><th scope=col>Residuals</th></tr></thead>\n",
       "<tbody>\n",
       "\t<tr><td>4.7       </td><td>4.247871  </td><td> 0.4521287</td></tr>\n",
       "\t<tr><td>4.1       </td><td>4.247871  </td><td>-0.1478713</td></tr>\n",
       "\t<tr><td>3.9       </td><td>4.247871  </td><td>-0.3478713</td></tr>\n",
       "\t<tr><td>4.8       </td><td>4.247871  </td><td> 0.5521287</td></tr>\n",
       "\t<tr><td>4.6       </td><td>4.056192  </td><td> 0.5438079</td></tr>\n",
       "\t<tr><td>4.3       </td><td>4.056192  </td><td> 0.2438079</td></tr>\n",
       "</tbody>\n",
       "</table>\n"
      ],
      "text/latex": [
       "\\begin{tabular}{r|lll}\n",
       " Actual\\_values & Predictions & Residuals\\\\\n",
       "\\hline\n",
       "\t 4.7        & 4.247871   &  0.4521287\\\\\n",
       "\t 4.1        & 4.247871   & -0.1478713\\\\\n",
       "\t 3.9        & 4.247871   & -0.3478713\\\\\n",
       "\t 4.8        & 4.247871   &  0.5521287\\\\\n",
       "\t 4.6        & 4.056192   &  0.5438079\\\\\n",
       "\t 4.3        & 4.056192   &  0.2438079\\\\\n",
       "\\end{tabular}\n"
      ],
      "text/markdown": [
       "\n",
       "| Actual_values | Predictions | Residuals |\n",
       "|---|---|---|\n",
       "| 4.7        | 4.247871   |  0.4521287 |\n",
       "| 4.1        | 4.247871   | -0.1478713 |\n",
       "| 3.9        | 4.247871   | -0.3478713 |\n",
       "| 4.8        | 4.247871   |  0.5521287 |\n",
       "| 4.6        | 4.056192   |  0.5438079 |\n",
       "| 4.3        | 4.056192   |  0.2438079 |\n",
       "\n"
      ],
      "text/plain": [
       "  Actual_values Predictions Residuals \n",
       "1 4.7           4.247871     0.4521287\n",
       "2 4.1           4.247871    -0.1478713\n",
       "3 3.9           4.247871    -0.3478713\n",
       "4 4.8           4.247871     0.5521287\n",
       "5 4.6           4.056192     0.5438079\n",
       "6 4.3           4.056192     0.2438079"
      ]
     },
     "metadata": {},
     "output_type": "display_data"
    },
    {
     "data": {
      "text/html": [
       "<table>\n",
       "<thead><tr><th scope=col>ID</th><th scope=col>score</th><th scope=col>age</th><th scope=col>score_hat</th><th scope=col>residual</th></tr></thead>\n",
       "<tbody>\n",
       "\t<tr><td>1     </td><td>4.7   </td><td>36    </td><td>4.248 </td><td> 0.452</td></tr>\n",
       "\t<tr><td>2     </td><td>4.1   </td><td>36    </td><td>4.248 </td><td>-0.148</td></tr>\n",
       "\t<tr><td>3     </td><td>3.9   </td><td>36    </td><td>4.248 </td><td>-0.348</td></tr>\n",
       "\t<tr><td>4     </td><td>4.8   </td><td>36    </td><td>4.248 </td><td> 0.552</td></tr>\n",
       "\t<tr><td>5     </td><td>4.6   </td><td>59    </td><td>4.112 </td><td> 0.488</td></tr>\n",
       "\t<tr><td>6     </td><td>4.3   </td><td>59    </td><td>4.112 </td><td> 0.188</td></tr>\n",
       "</tbody>\n",
       "</table>\n"
      ],
      "text/latex": [
       "\\begin{tabular}{r|lllll}\n",
       " ID & score & age & score\\_hat & residual\\\\\n",
       "\\hline\n",
       "\t 1      & 4.7    & 36     & 4.248  &  0.452\\\\\n",
       "\t 2      & 4.1    & 36     & 4.248  & -0.148\\\\\n",
       "\t 3      & 3.9    & 36     & 4.248  & -0.348\\\\\n",
       "\t 4      & 4.8    & 36     & 4.248  &  0.552\\\\\n",
       "\t 5      & 4.6    & 59     & 4.112  &  0.488\\\\\n",
       "\t 6      & 4.3    & 59     & 4.112  &  0.188\\\\\n",
       "\\end{tabular}\n"
      ],
      "text/markdown": [
       "\n",
       "| ID | score | age | score_hat | residual |\n",
       "|---|---|---|---|---|\n",
       "| 1      | 4.7    | 36     | 4.248  |  0.452 |\n",
       "| 2      | 4.1    | 36     | 4.248  | -0.148 |\n",
       "| 3      | 3.9    | 36     | 4.248  | -0.348 |\n",
       "| 4      | 4.8    | 36     | 4.248  |  0.552 |\n",
       "| 5      | 4.6    | 59     | 4.112  |  0.488 |\n",
       "| 6      | 4.3    | 59     | 4.112  |  0.188 |\n",
       "\n"
      ],
      "text/plain": [
       "  ID score age score_hat residual\n",
       "1 1  4.7   36  4.248      0.452  \n",
       "2 2  4.1   36  4.248     -0.148  \n",
       "3 3  3.9   36  4.248     -0.348  \n",
       "4 4  4.8   36  4.248      0.552  \n",
       "5 5  4.6   59  4.112      0.488  \n",
       "6 6  4.3   59  4.112      0.188  "
      ]
     },
     "metadata": {},
     "output_type": "display_data"
    },
    {
     "data": {
      "text/html": [
       "<span style=white-space:pre-wrap>'Root Mean Square Error of the simple linear regression model predicting teaching scores with age and beauty:  0.53'</span>"
      ],
      "text/latex": [
       "'Root Mean Square Error of the simple linear regression model predicting teaching scores with age and beauty:  0.53'"
      ],
      "text/markdown": [
       "<span style=white-space:pre-wrap>'Root Mean Square Error of the simple linear regression model predicting teaching scores with age and beauty:  0.53'</span>"
      ],
      "text/plain": [
       "[1] \"Root Mean Square Error of the simple linear regression model predicting teaching scores with age and beauty:  0.53\""
      ]
     },
     "metadata": {},
     "output_type": "display_data"
    }
   ],
   "source": [
    "# model: reg_score_age_beauty\n",
    "\n",
    "pred_model_reg_score_age_beauty <-\n",
    "predict(reg_score_age_beauty)\n",
    "\n",
    "df_pred_model_reg_score_age_beauty <- \n",
    "data.frame(Actual_values=evals$score,  Predictions= pred_model_reg_score_age_beauty ) %>%\n",
    "mutate(Residuals = Actual_values-Predictions )\n",
    "\n",
    "head(df_pred_model_reg_score_age_beauty)\n",
    "\n",
    "# Creating a similar table with get_regression\n",
    "head(get_regression_points(reg_score_age))\n",
    "\n",
    "rmse_pred_model_reg_score_age_beauty <- \n",
    "rmse(df_pred_model_reg_score_age_beauty$Actual_values, df_pred_model_reg_score_age_beauty$Predictions)\n",
    "\n",
    "\n",
    "paste(\"Root Mean Square Error of the simple linear regression model predicting teaching scores with age and beauty: \", \n",
    "      round(rmse_pred_model_reg_score_age_beauty, 2))\n",
    "\n",
    "# Conclusion: this model delivers an improved rmse of 0.53\n",
    "# 0.1 better than the model only based on age\n"
   ]
  },
  {
   "cell_type": "code",
   "execution_count": 234,
   "metadata": {},
   "outputs": [
    {
     "data": {
      "text/html": [
       "<table>\n",
       "<thead><tr><th scope=col>Minbty_avgimum_age</th><th scope=col>Maximum_age</th></tr></thead>\n",
       "<tbody>\n",
       "\t<tr><td>29</td><td>73</td></tr>\n",
       "</tbody>\n",
       "</table>\n"
      ],
      "text/latex": [
       "\\begin{tabular}{r|ll}\n",
       " Minbty\\_avgimum\\_age & Maximum\\_age\\\\\n",
       "\\hline\n",
       "\t 29 & 73\\\\\n",
       "\\end{tabular}\n"
      ],
      "text/markdown": [
       "\n",
       "| Minbty_avgimum_age | Maximum_age |\n",
       "|---|---|\n",
       "| 29 | 73 |\n",
       "\n"
      ],
      "text/plain": [
       "  Minbty_avgimum_age Maximum_age\n",
       "1 29                 73         "
      ]
     },
     "metadata": {},
     "output_type": "display_data"
    },
    {
     "data": {
      "text/html": [
       "<table>\n",
       "<thead><tr><th scope=col>Minimum_bty_avg</th><th scope=col>Maximum_bty_avg</th></tr></thead>\n",
       "<tbody>\n",
       "\t<tr><td>1.667</td><td>8.167</td></tr>\n",
       "</tbody>\n",
       "</table>\n"
      ],
      "text/latex": [
       "\\begin{tabular}{r|ll}\n",
       " Minimum\\_bty\\_avg & Maximum\\_bty\\_avg\\\\\n",
       "\\hline\n",
       "\t 1.667 & 8.167\\\\\n",
       "\\end{tabular}\n"
      ],
      "text/markdown": [
       "\n",
       "| Minimum_bty_avg | Maximum_bty_avg |\n",
       "|---|---|\n",
       "| 1.667 | 8.167 |\n",
       "\n"
      ],
      "text/plain": [
       "  Minimum_bty_avg Maximum_bty_avg\n",
       "1 1.667           8.167          "
      ]
     },
     "metadata": {},
     "output_type": "display_data"
    },
    {
     "data": {
      "text/html": [
       "<ol class=list-inline>\n",
       "\t<li>10</li>\n",
       "\t<li>2</li>\n",
       "</ol>\n"
      ],
      "text/latex": [
       "\\begin{enumerate*}\n",
       "\\item 10\n",
       "\\item 2\n",
       "\\end{enumerate*}\n"
      ],
      "text/markdown": [
       "1. 10\n",
       "2. 2\n",
       "\n",
       "\n"
      ],
      "text/plain": [
       "[1] 10  2"
      ]
     },
     "metadata": {},
     "output_type": "display_data"
    },
    {
     "data": {
      "text/html": [
       "10"
      ],
      "text/latex": [
       "10"
      ],
      "text/markdown": [
       "10"
      ],
      "text/plain": [
       "[1] 10"
      ]
     },
     "metadata": {},
     "output_type": "display_data"
    },
    {
     "data": {
      "text/html": [
       "10"
      ],
      "text/latex": [
       "10"
      ],
      "text/markdown": [
       "10"
      ],
      "text/plain": [
       "[1] 10"
      ]
     },
     "metadata": {},
     "output_type": "display_data"
    },
    {
     "data": {
      "text/html": [
       "<table>\n",
       "<thead><tr><th scope=col>age</th><th scope=col>bty_avg</th><th scope=col>predict_age_beauty_nd</th><th scope=col>predict_age_beauty_nd_absolute</th></tr></thead>\n",
       "<tbody>\n",
       "\t<tr><td>66       </td><td>5.311958 </td><td>4.175010 </td><td>14962.702</td></tr>\n",
       "\t<tr><td>62       </td><td>6.877355 </td><td>4.282198 </td><td>19151.309</td></tr>\n",
       "\t<tr><td>62       </td><td>3.301291 </td><td>4.065289 </td><td>11622.213</td></tr>\n",
       "\t<tr><td>73       </td><td>4.262111 </td><td>4.089914 </td><td>12300.263</td></tr>\n",
       "\t<tr><td>69       </td><td>5.230197 </td><td>4.160872 </td><td>14483.461</td></tr>\n",
       "\t<tr><td>58       </td><td>1.891562 </td><td>3.992018 </td><td> 9817.889</td></tr>\n",
       "\t<tr><td>55       </td><td>6.519822 </td><td>4.281928 </td><td>19139.392</td></tr>\n",
       "\t<tr><td>35       </td><td>8.117058 </td><td>4.439999 </td><td>27542.222</td></tr>\n",
       "\t<tr><td>39       </td><td>3.313422 </td><td>4.136392 </td><td>13689.638</td></tr>\n",
       "\t<tr><td>47       </td><td>7.327927 </td><td>4.355420 </td><td>22668.359</td></tr>\n",
       "</tbody>\n",
       "</table>\n"
      ],
      "text/latex": [
       "\\begin{tabular}{r|llll}\n",
       " age & bty\\_avg & predict\\_age\\_beauty\\_nd & predict\\_age\\_beauty\\_nd\\_absolute\\\\\n",
       "\\hline\n",
       "\t 66        & 5.311958  & 4.175010  & 14962.702\\\\\n",
       "\t 62        & 6.877355  & 4.282198  & 19151.309\\\\\n",
       "\t 62        & 3.301291  & 4.065289  & 11622.213\\\\\n",
       "\t 73        & 4.262111  & 4.089914  & 12300.263\\\\\n",
       "\t 69        & 5.230197  & 4.160872  & 14483.461\\\\\n",
       "\t 58        & 1.891562  & 3.992018  &  9817.889\\\\\n",
       "\t 55        & 6.519822  & 4.281928  & 19139.392\\\\\n",
       "\t 35        & 8.117058  & 4.439999  & 27542.222\\\\\n",
       "\t 39        & 3.313422  & 4.136392  & 13689.638\\\\\n",
       "\t 47        & 7.327927  & 4.355420  & 22668.359\\\\\n",
       "\\end{tabular}\n"
      ],
      "text/markdown": [
       "\n",
       "| age | bty_avg | predict_age_beauty_nd | predict_age_beauty_nd_absolute |\n",
       "|---|---|---|---|\n",
       "| 66        | 5.311958  | 4.175010  | 14962.702 |\n",
       "| 62        | 6.877355  | 4.282198  | 19151.309 |\n",
       "| 62        | 3.301291  | 4.065289  | 11622.213 |\n",
       "| 73        | 4.262111  | 4.089914  | 12300.263 |\n",
       "| 69        | 5.230197  | 4.160872  | 14483.461 |\n",
       "| 58        | 1.891562  | 3.992018  |  9817.889 |\n",
       "| 55        | 6.519822  | 4.281928  | 19139.392 |\n",
       "| 35        | 8.117058  | 4.439999  | 27542.222 |\n",
       "| 39        | 3.313422  | 4.136392  | 13689.638 |\n",
       "| 47        | 7.327927  | 4.355420  | 22668.359 |\n",
       "\n"
      ],
      "text/plain": [
       "   age bty_avg  predict_age_beauty_nd predict_age_beauty_nd_absolute\n",
       "1  66  5.311958 4.175010              14962.702                     \n",
       "2  62  6.877355 4.282198              19151.309                     \n",
       "3  62  3.301291 4.065289              11622.213                     \n",
       "4  73  4.262111 4.089914              12300.263                     \n",
       "5  69  5.230197 4.160872              14483.461                     \n",
       "6  58  1.891562 3.992018               9817.889                     \n",
       "7  55  6.519822 4.281928              19139.392                     \n",
       "8  35  8.117058 4.439999              27542.222                     \n",
       "9  39  3.313422 4.136392              13689.638                     \n",
       "10 47  7.327927 4.355420              22668.359                     "
      ]
     },
     "metadata": {},
     "output_type": "display_data"
    }
   ],
   "source": [
    "# Making predictions with new data\n",
    "\n",
    "reg_score_age_beauty <- \n",
    "lm(score ~ age + bty_avg, data=evals)\n",
    "\n",
    "evals %>% summarize(Minbty_avgimum_age = min(age),\n",
    "                    Maximum_age=max(age))\n",
    "\n",
    "evals %>% summarize(Minimum_bty_avg = min(bty_avg),\n",
    "                    Maximum_bty_avg=max(bty_avg))\n",
    "\n",
    "# Generate random data within the boundaries given by observed min and max\n",
    "random_age <-\n",
    "floor(runif(10, min=29, max=74))\n",
    "\n",
    "random_beatuy <-\n",
    "runif(10, min=1.6, max=8.2)\n",
    "\n",
    "new_data_67563 <-\n",
    "data_frame(age=random_age,\n",
    "           bty_avg=random_beatuy)\n",
    "\n",
    "dim(new_data_67563)\n",
    "\n",
    "\n",
    "predict_age_beauty_nd <-\n",
    "predict(reg_score_age_beauty, newdata=new_data_67563 )\n",
    "length(predict_age_beauty_nd)\n",
    "\n",
    "predict_age_beauty_nd_absolute <-\n",
    "10^predict_age_beauty_nd \n",
    "length(predict_age_beauty_nd_absolute )\n",
    "\n",
    "predict_age_beauty_nd_df <-\n",
    "cbind(new_data_67563 , predict_age_beauty_nd, predict_age_beauty_nd_absolute)\n",
    "\n",
    "predict_age_beauty_nd_df\n"
   ]
  },
  {
   "cell_type": "code",
   "execution_count": 235,
   "metadata": {},
   "outputs": [
    {
     "data": {
      "text/html": [
       "<table>\n",
       "<thead><tr><th scope=col>term</th><th scope=col>estimate</th><th scope=col>std_error</th><th scope=col>statistic</th><th scope=col>p_value</th><th scope=col>lower_ci</th><th scope=col>upper_ci</th></tr></thead>\n",
       "<tbody>\n",
       "\t<tr><td>intercept  </td><td> 5.156     </td><td>0.368      </td><td>14.019     </td><td>0.000      </td><td> 4.433     </td><td> 5.879     </td></tr>\n",
       "\t<tr><td>age        </td><td>-0.026     </td><td>0.007      </td><td>-3.559     </td><td>0.000      </td><td>-0.041     </td><td>-0.012     </td></tr>\n",
       "\t<tr><td>bty_avg    </td><td>-0.188     </td><td>0.076      </td><td>-2.480     </td><td>0.013      </td><td>-0.337     </td><td>-0.039     </td></tr>\n",
       "\t<tr><td>age:bty_avg</td><td> 0.005     </td><td>0.002      </td><td> 3.366     </td><td>0.001      </td><td> 0.002     </td><td> 0.008     </td></tr>\n",
       "</tbody>\n",
       "</table>\n"
      ],
      "text/latex": [
       "\\begin{tabular}{r|lllllll}\n",
       " term & estimate & std\\_error & statistic & p\\_value & lower\\_ci & upper\\_ci\\\\\n",
       "\\hline\n",
       "\t intercept   &  5.156      & 0.368       & 14.019      & 0.000       &  4.433      &  5.879     \\\\\n",
       "\t age         & -0.026      & 0.007       & -3.559      & 0.000       & -0.041      & -0.012     \\\\\n",
       "\t bty\\_avg     & -0.188        & 0.076         & -2.480        & 0.013         & -0.337        & -0.039       \\\\\n",
       "\t age:bty\\_avg &  0.005        & 0.002         &  3.366        & 0.001         &  0.002        &  0.008       \\\\\n",
       "\\end{tabular}\n"
      ],
      "text/markdown": [
       "\n",
       "| term | estimate | std_error | statistic | p_value | lower_ci | upper_ci |\n",
       "|---|---|---|---|---|---|---|\n",
       "| intercept   |  5.156      | 0.368       | 14.019      | 0.000       |  4.433      |  5.879      |\n",
       "| age         | -0.026      | 0.007       | -3.559      | 0.000       | -0.041      | -0.012      |\n",
       "| bty_avg     | -0.188      | 0.076       | -2.480      | 0.013       | -0.337      | -0.039      |\n",
       "| age:bty_avg |  0.005      | 0.002       |  3.366      | 0.001       |  0.002      |  0.008      |\n",
       "\n"
      ],
      "text/plain": [
       "  term        estimate std_error statistic p_value lower_ci upper_ci\n",
       "1 intercept    5.156   0.368     14.019    0.000    4.433    5.879  \n",
       "2 age         -0.026   0.007     -3.559    0.000   -0.041   -0.012  \n",
       "3 bty_avg     -0.188   0.076     -2.480    0.013   -0.337   -0.039  \n",
       "4 age:bty_avg  0.005   0.002      3.366    0.001    0.002    0.008  "
      ]
     },
     "metadata": {},
     "output_type": "display_data"
    },
    {
     "data": {
      "text/plain": [
       "\n",
       "Call:\n",
       "lm(formula = score ~ age * bty_avg, data = evals)\n",
       "\n",
       "Coefficients:\n",
       "(Intercept)          age      bty_avg  age:bty_avg  \n",
       "   5.156077    -0.026128    -0.187800     0.005318  \n"
      ]
     },
     "metadata": {},
     "output_type": "display_data"
    },
    {
     "data": {
      "text/plain": [
       "\n",
       "Call:\n",
       "lm(formula = score ~ age * bty_avg, data = evals)\n",
       "\n",
       "Residuals:\n",
       "    Min      1Q  Median      3Q     Max \n",
       "-1.9410 -0.3517  0.1231  0.4040  1.0066 \n",
       "\n",
       "Coefficients:\n",
       "             Estimate Std. Error t value Pr(>|t|)    \n",
       "(Intercept)  5.156077   0.367797  14.019  < 2e-16 ***\n",
       "age         -0.026128   0.007342  -3.559 0.000412 ***\n",
       "bty_avg     -0.187800   0.075724  -2.480 0.013494 *  \n",
       "age:bty_avg  0.005318   0.001580   3.366 0.000827 ***\n",
       "---\n",
       "Signif. codes:  0 '***' 0.001 '**' 0.01 '*' 0.05 '.' 0.1 ' ' 1\n",
       "\n",
       "Residual standard error: 0.5287 on 459 degrees of freedom\n",
       "Multiple R-squared:  0.06096,\tAdjusted R-squared:  0.05482 \n",
       "F-statistic: 9.933 on 3 and 459 DF,  p-value: 2.349e-06\n"
      ]
     },
     "metadata": {},
     "output_type": "display_data"
    }
   ],
   "source": [
    "reg_score_age_beauty_interaction <- \n",
    "lm(score ~ age * bty_avg, data=evals)\n",
    "\n",
    "get_regression_table(reg_score_age_beauty_interaction )\n",
    "reg_score_age_beauty_interaction \n",
    "summary(reg_score_age_beauty_interaction )\n",
    "\n",
    "# An interaction effect between beauty average and age exists\n",
    "# Assumptions:\n",
    "# A age increases beauty decreases and then teaching scores decrease\n",
    "# While this is assumed, beauty average remains a variable with influence\n",
    "# Conclusion: the interaction effect between beauty average and age should be\n",
    "# included in the model, but also beauty average as an independent variable"
   ]
  },
  {
   "cell_type": "code",
   "execution_count": 236,
   "metadata": {},
   "outputs": [
    {
     "data": {
      "text/html": [
       "<table>\n",
       "<thead><tr><th scope=col>Actual</th><th scope=col>Predictions</th><th scope=col>Residuals</th></tr></thead>\n",
       "<tbody>\n",
       "\t<tr><td>4.7       </td><td>4.233637  </td><td> 0.4663634</td></tr>\n",
       "\t<tr><td>4.1       </td><td>4.233637  </td><td>-0.1336366</td></tr>\n",
       "\t<tr><td>3.9       </td><td>4.233637  </td><td>-0.3336366</td></tr>\n",
       "\t<tr><td>4.8       </td><td>4.233637  </td><td> 0.5663634</td></tr>\n",
       "\t<tr><td>4.6       </td><td>3.992333  </td><td> 0.6076673</td></tr>\n",
       "\t<tr><td>4.3       </td><td>3.992333  </td><td> 0.3076673</td></tr>\n",
       "</tbody>\n",
       "</table>\n"
      ],
      "text/latex": [
       "\\begin{tabular}{r|lll}\n",
       " Actual & Predictions & Residuals\\\\\n",
       "\\hline\n",
       "\t 4.7        & 4.233637   &  0.4663634\\\\\n",
       "\t 4.1        & 4.233637   & -0.1336366\\\\\n",
       "\t 3.9        & 4.233637   & -0.3336366\\\\\n",
       "\t 4.8        & 4.233637   &  0.5663634\\\\\n",
       "\t 4.6        & 3.992333   &  0.6076673\\\\\n",
       "\t 4.3        & 3.992333   &  0.3076673\\\\\n",
       "\\end{tabular}\n"
      ],
      "text/markdown": [
       "\n",
       "| Actual | Predictions | Residuals |\n",
       "|---|---|---|\n",
       "| 4.7        | 4.233637   |  0.4663634 |\n",
       "| 4.1        | 4.233637   | -0.1336366 |\n",
       "| 3.9        | 4.233637   | -0.3336366 |\n",
       "| 4.8        | 4.233637   |  0.5663634 |\n",
       "| 4.6        | 3.992333   |  0.6076673 |\n",
       "| 4.3        | 3.992333   |  0.3076673 |\n",
       "\n"
      ],
      "text/plain": [
       "  Actual Predictions Residuals \n",
       "1 4.7    4.233637     0.4663634\n",
       "2 4.1    4.233637    -0.1336366\n",
       "3 3.9    4.233637    -0.3336366\n",
       "4 4.8    4.233637     0.5663634\n",
       "5 4.6    3.992333     0.6076673\n",
       "6 4.3    3.992333     0.3076673"
      ]
     },
     "metadata": {},
     "output_type": "display_data"
    },
    {
     "data": {
      "text/html": [
       "<table>\n",
       "<thead><tr><th scope=col>ID</th><th scope=col>score</th><th scope=col>age</th><th scope=col>bty_avg</th><th scope=col>score_hat</th><th scope=col>residual</th></tr></thead>\n",
       "<tbody>\n",
       "\t<tr><td>1     </td><td>4.7   </td><td>36    </td><td>5     </td><td>4.234 </td><td> 0.466</td></tr>\n",
       "\t<tr><td>2     </td><td>4.1   </td><td>36    </td><td>5     </td><td>4.234 </td><td>-0.134</td></tr>\n",
       "\t<tr><td>3     </td><td>3.9   </td><td>36    </td><td>5     </td><td>4.234 </td><td>-0.334</td></tr>\n",
       "\t<tr><td>4     </td><td>4.8   </td><td>36    </td><td>5     </td><td>4.234 </td><td> 0.566</td></tr>\n",
       "\t<tr><td>5     </td><td>4.6   </td><td>59    </td><td>3     </td><td>3.992 </td><td> 0.608</td></tr>\n",
       "\t<tr><td>6     </td><td>4.3   </td><td>59    </td><td>3     </td><td>3.992 </td><td> 0.308</td></tr>\n",
       "</tbody>\n",
       "</table>\n"
      ],
      "text/latex": [
       "\\begin{tabular}{r|llllll}\n",
       " ID & score & age & bty\\_avg & score\\_hat & residual\\\\\n",
       "\\hline\n",
       "\t 1      & 4.7    & 36     & 5      & 4.234  &  0.466\\\\\n",
       "\t 2      & 4.1    & 36     & 5      & 4.234  & -0.134\\\\\n",
       "\t 3      & 3.9    & 36     & 5      & 4.234  & -0.334\\\\\n",
       "\t 4      & 4.8    & 36     & 5      & 4.234  &  0.566\\\\\n",
       "\t 5      & 4.6    & 59     & 3      & 3.992  &  0.608\\\\\n",
       "\t 6      & 4.3    & 59     & 3      & 3.992  &  0.308\\\\\n",
       "\\end{tabular}\n"
      ],
      "text/markdown": [
       "\n",
       "| ID | score | age | bty_avg | score_hat | residual |\n",
       "|---|---|---|---|---|---|\n",
       "| 1      | 4.7    | 36     | 5      | 4.234  |  0.466 |\n",
       "| 2      | 4.1    | 36     | 5      | 4.234  | -0.134 |\n",
       "| 3      | 3.9    | 36     | 5      | 4.234  | -0.334 |\n",
       "| 4      | 4.8    | 36     | 5      | 4.234  |  0.566 |\n",
       "| 5      | 4.6    | 59     | 3      | 3.992  |  0.608 |\n",
       "| 6      | 4.3    | 59     | 3      | 3.992  |  0.308 |\n",
       "\n"
      ],
      "text/plain": [
       "  ID score age bty_avg score_hat residual\n",
       "1 1  4.7   36  5       4.234      0.466  \n",
       "2 2  4.1   36  5       4.234     -0.134  \n",
       "3 3  3.9   36  5       4.234     -0.334  \n",
       "4 4  4.8   36  5       4.234      0.566  \n",
       "5 5  4.6   59  3       3.992      0.608  \n",
       "6 6  4.3   59  3       3.992      0.308  "
      ]
     },
     "metadata": {},
     "output_type": "display_data"
    },
    {
     "data": {
      "text/html": [
       "<span style=white-space:pre-wrap>'Root Mean Square Error of the simple linear regression model predicting teaching scores with age and beauty considering interaction effects:  0.53'</span>"
      ],
      "text/latex": [
       "'Root Mean Square Error of the simple linear regression model predicting teaching scores with age and beauty considering interaction effects:  0.53'"
      ],
      "text/markdown": [
       "<span style=white-space:pre-wrap>'Root Mean Square Error of the simple linear regression model predicting teaching scores with age and beauty considering interaction effects:  0.53'</span>"
      ],
      "text/plain": [
       "[1] \"Root Mean Square Error of the simple linear regression model predicting teaching scores with age and beauty considering interaction effects:  0.53\""
      ]
     },
     "metadata": {},
     "output_type": "display_data"
    }
   ],
   "source": [
    "# reg_score_age_beauty_interaction\n",
    "\n",
    "pred_reg_score_age_beauty_interaction <-\n",
    "predict(reg_score_age_beauty_interaction)\n",
    "\n",
    "df_model_reg_score_age_beauty_interaction <-\n",
    "data.frame(Actual=evals$score, Predictions=pred_reg_score_age_beauty_interaction)%>%\n",
    "mutate(Residuals=Actual-Predictions)\n",
    "\n",
    "head(df_model_reg_score_age_beauty_interaction )\n",
    "head(get_regression_points(reg_score_age_beauty_interaction))\n",
    "\n",
    "rmse_df_model_reg_score_age_beauty_interaction <-\n",
    "rmse(df_model_reg_score_age_beauty_interaction$Actual,\n",
    "     df_model_reg_score_age_beauty_interaction$Predictions)\n",
    "\n",
    "paste(\"Root Mean Square Error of the simple linear regression model predicting teaching scores with age and beauty considering interaction effects: \", \n",
    "      round(rmse_df_model_reg_score_age_beauty_interaction, 2))\n",
    "\n",
    "# Considering interaction effects did not improve the model"
   ]
  },
  {
   "cell_type": "markdown",
   "metadata": {},
   "source": [
    "#### Categorical variables like gender and rank as predictor variables"
   ]
  },
  {
   "cell_type": "code",
   "execution_count": 237,
   "metadata": {},
   "outputs": [
    {
     "data": {
      "text/html": [
       "<table>\n",
       "<thead><tr><th scope=col>gender</th><th scope=col>n</th><th scope=col>Proportions</th><th scope=col>Median</th><th scope=col>Mean</th><th scope=col>Quantile_25</th><th scope=col>Quantile_75</th><th scope=col>Standard_Deviation</th><th scope=col>IQR</th></tr></thead>\n",
       "<tbody>\n",
       "\t<tr><td>female   </td><td>195      </td><td>0.4211663</td><td>4.1      </td><td>4.092821 </td><td>3.7      </td><td>4.5      </td><td>0.5638141</td><td>0.8      </td></tr>\n",
       "\t<tr><td>male     </td><td>268      </td><td>0.5788337</td><td>4.3      </td><td>4.234328 </td><td>3.9      </td><td>4.6      </td><td>0.5218958</td><td>0.7      </td></tr>\n",
       "</tbody>\n",
       "</table>\n"
      ],
      "text/latex": [
       "\\begin{tabular}{r|lllllllll}\n",
       " gender & n & Proportions & Median & Mean & Quantile\\_25 & Quantile\\_75 & Standard\\_Deviation & IQR\\\\\n",
       "\\hline\n",
       "\t female    & 195       & 0.4211663 & 4.1       & 4.092821  & 3.7       & 4.5       & 0.5638141 & 0.8      \\\\\n",
       "\t male      & 268       & 0.5788337 & 4.3       & 4.234328  & 3.9       & 4.6       & 0.5218958 & 0.7      \\\\\n",
       "\\end{tabular}\n"
      ],
      "text/markdown": [
       "\n",
       "| gender | n | Proportions | Median | Mean | Quantile_25 | Quantile_75 | Standard_Deviation | IQR |\n",
       "|---|---|---|---|---|---|---|---|---|\n",
       "| female    | 195       | 0.4211663 | 4.1       | 4.092821  | 3.7       | 4.5       | 0.5638141 | 0.8       |\n",
       "| male      | 268       | 0.5788337 | 4.3       | 4.234328  | 3.9       | 4.6       | 0.5218958 | 0.7       |\n",
       "\n"
      ],
      "text/plain": [
       "  gender n   Proportions Median Mean     Quantile_25 Quantile_75\n",
       "1 female 195 0.4211663   4.1    4.092821 3.7         4.5        \n",
       "2 male   268 0.5788337   4.3    4.234328 3.9         4.6        \n",
       "  Standard_Deviation IQR\n",
       "1 0.5638141          0.8\n",
       "2 0.5218958          0.7"
      ]
     },
     "metadata": {},
     "output_type": "display_data"
    },
    {
     "name": "stdout",
     "output_type": "stream",
     "text": [
      "Observations: 2\n",
      "Variables: 9\n",
      "$ gender             <fct> female, male\n",
      "$ n                  <int> 195, 268\n",
      "$ Proportions        <dbl> 0.4211663, 0.5788337\n",
      "$ Median             <dbl> 4.1, 4.3\n",
      "$ Mean               <dbl> 4.092821, 4.234328\n",
      "$ Quantile_25        <dbl> 3.7, 3.9\n",
      "$ Quantile_75        <dbl> 4.5, 4.6\n",
      "$ Standard_Deviation <dbl> 0.5638141, 0.5218958\n",
      "$ IQR                <dbl> 0.8, 0.7\n"
     ]
    },
    {
     "data": {
      "text/html": [
       "<ol class=list-inline>\n",
       "\t<li>'tbl_df'</li>\n",
       "\t<li>'tbl'</li>\n",
       "\t<li>'data.frame'</li>\n",
       "</ol>\n"
      ],
      "text/latex": [
       "\\begin{enumerate*}\n",
       "\\item 'tbl\\_df'\n",
       "\\item 'tbl'\n",
       "\\item 'data.frame'\n",
       "\\end{enumerate*}\n"
      ],
      "text/markdown": [
       "1. 'tbl_df'\n",
       "2. 'tbl'\n",
       "3. 'data.frame'\n",
       "\n",
       "\n"
      ],
      "text/plain": [
       "[1] \"tbl_df\"     \"tbl\"        \"data.frame\""
      ]
     },
     "metadata": {},
     "output_type": "display_data"
    },
    {
     "data": {
      "text/html": [
       "<table>\n",
       "<thead><tr><th scope=col>Median</th></tr></thead>\n",
       "<tbody>\n",
       "\t<tr><td>4.1</td></tr>\n",
       "</tbody>\n",
       "</table>\n"
      ],
      "text/latex": [
       "\\begin{tabular}{r|l}\n",
       " Median\\\\\n",
       "\\hline\n",
       "\t 4.1\\\\\n",
       "\\end{tabular}\n"
      ],
      "text/markdown": [
       "\n",
       "| Median |\n",
       "|---|\n",
       "| 4.1 |\n",
       "\n"
      ],
      "text/plain": [
       "  Median\n",
       "1 4.1   "
      ]
     },
     "metadata": {},
     "output_type": "display_data"
    },
    {
     "data": {
      "text/html": [
       "463"
      ],
      "text/latex": [
       "463"
      ],
      "text/markdown": [
       "463"
      ],
      "text/plain": [
       "[1] 463"
      ]
     },
     "metadata": {},
     "output_type": "display_data"
    },
    {
     "data": {
      "text/html": [
       "<table>\n",
       "<thead><tr><th scope=col>Mean</th></tr></thead>\n",
       "<tbody>\n",
       "\t<tr><td>0.1415078</td></tr>\n",
       "</tbody>\n",
       "</table>\n"
      ],
      "text/latex": [
       "\\begin{tabular}{r|l}\n",
       " Mean\\\\\n",
       "\\hline\n",
       "\t 0.1415078\\\\\n",
       "\\end{tabular}\n"
      ],
      "text/markdown": [
       "\n",
       "| Mean |\n",
       "|---|\n",
       "| 0.1415078 |\n",
       "\n"
      ],
      "text/plain": [
       "  Mean     \n",
       "1 0.1415078"
      ]
     },
     "metadata": {},
     "output_type": "display_data"
    },
    {
     "data": {
      "image/png": "[encoded data removed]",
      "text/plain": [
       "plot without title"
      ]
     },
     "metadata": {},
     "output_type": "display_data"
    }
   ],
   "source": [
    "# Investigating the relationship between gender and scores\n",
    "# Boxplot score over gender\n",
    "\n",
    "statistics_scores_by_gender <- \n",
    "evals %>% group_by(gender) %>% summarize(n=n(), \n",
    "                                         Proportions=n/length(evals$gender),\n",
    "                                         Median=median(score), \n",
    "                                         Mean = mean(score),\n",
    "                                         Quantile_25=quantile(score, probs=c(0.25)),\n",
    "                                         Quantile_75=quantile(score, probs=c(0.75)),\n",
    "                                         Standard_Deviation = sd(score),\n",
    "                                         IQR=Quantile_75-Quantile_25\n",
    "                                         )\n",
    "\n",
    "\n",
    "evals %>% ggplot(aes(x=gender, y=score))+\n",
    "geom_boxplot(color=\"red\", size=1, fill=c(\"black\",\"blue\"))+\n",
    "geom_text(x=1, y=4.25, label=paste(\"Median female: \\n4.1 teaching scores\" ), color=\"red\")+\n",
    "geom_text(x=2, y=4.45, label=paste(\"Median male: \\n4.3 teaching scores\" ), color=\"red\")+\n",
    "geom_text(x=0.7, y=3.5, label=paste(\"1.Quantile female: \\n3.7\" ), color=\"black\")+\n",
    "geom_text(x=0.7, y=4.7, label=paste(\"3.Quantile female: \\n4.5\" ), color=\"black\")+\n",
    "geom_text(x=2.3, y=3.7, label=paste(\"1.Quantile male: \\n3.9\" ), color=\"black\")+\n",
    "geom_text(x=2.3, y=4.8, label=paste(\"3.Quantile male: \\n4.6\" ), color=\"black\")\n",
    "\n",
    "statistics_scores_by_gender\n",
    "\n",
    "\n",
    "glimpse(statistics_scores_by_gender)\n",
    "class(statistics_scores_by_gender)\n",
    "statistics_scores_by_gender[1, \"Median\"]\n",
    "length(evals$gender)\n",
    "\n",
    "# mean difference between male and female is the slope of the regression line of score by gender\n",
    "# men teaching scores differ on average by 0.1415078 from women\n",
    "# For every data point men scores are 0.1415078 higher than women scores\n",
    "# In case of categorical variables the group means are the predictions.\n",
    "\n",
    "mean_difference <- statistics_scores_by_gender[2, \"Mean\"] - statistics_scores_by_gender[1, \"Mean\"]\n",
    "mean_difference "
   ]
  },
  {
   "cell_type": "code",
   "execution_count": 238,
   "metadata": {},
   "outputs": [
    {
     "data": {
      "image/png": "[encoded data removed]",
      "text/plain": [
       "plot without title"
      ]
     },
     "metadata": {},
     "output_type": "display_data"
    }
   ],
   "source": [
    "# Distributions of gender by female and male\n",
    "\n",
    "evals %>% ggplot(aes(x=score))+geom_density(fill=\"gold\", color=\"red\")+facet_wrap(.~gender)"
   ]
  },
  {
   "cell_type": "code",
   "execution_count": 239,
   "metadata": {},
   "outputs": [
    {
     "data": {
      "image/png": "[encoded data removed]",
      "text/plain": [
       "plot without title"
      ]
     },
     "metadata": {},
     "output_type": "display_data"
    }
   ],
   "source": [
    "# linear regression lines plotted by gender\n",
    "\n",
    "plot_age_score_reg_by_gender_reg <-\n",
    "evals %>% ggplot(aes(x=age,y=score, color=gender))+\n",
    "geom_jitter(alpha=0.6, width=0.3)+\n",
    "geom_smooth(method=\"lm\", aes(color= gender ), se=FALSE)\n",
    "plot_age_score_reg_by_gender_reg\n",
    "\n",
    "# Interpretation: \n",
    "# it seems gender influences teaching scores\n",
    "# teaching scores decreasing faster for females than males, when age increases"
   ]
  },
  {
   "cell_type": "code",
   "execution_count": 240,
   "metadata": {},
   "outputs": [
    {
     "data": {
      "text/html": [
       "<table>\n",
       "<thead><tr><th scope=col>term</th><th scope=col>estimate</th><th scope=col>std_error</th><th scope=col>statistic</th><th scope=col>p_value</th><th scope=col>lower_ci</th><th scope=col>upper_ci</th></tr></thead>\n",
       "<tbody>\n",
       "\t<tr><td>intercept </td><td>4.093     </td><td>0.039     </td><td>105.852   </td><td>0.000     </td><td>4.017     </td><td>4.169     </td></tr>\n",
       "\t<tr><td>gendermale</td><td>0.142     </td><td>0.051     </td><td>  2.784   </td><td>0.006     </td><td>0.042     </td><td>0.241     </td></tr>\n",
       "</tbody>\n",
       "</table>\n"
      ],
      "text/latex": [
       "\\begin{tabular}{r|lllllll}\n",
       " term & estimate & std\\_error & statistic & p\\_value & lower\\_ci & upper\\_ci\\\\\n",
       "\\hline\n",
       "\t intercept  & 4.093      & 0.039      & 105.852    & 0.000      & 4.017      & 4.169     \\\\\n",
       "\t gendermale & 0.142      & 0.051      &   2.784    & 0.006      & 0.042      & 0.241     \\\\\n",
       "\\end{tabular}\n"
      ],
      "text/markdown": [
       "\n",
       "| term | estimate | std_error | statistic | p_value | lower_ci | upper_ci |\n",
       "|---|---|---|---|---|---|---|\n",
       "| intercept  | 4.093      | 0.039      | 105.852    | 0.000      | 4.017      | 4.169      |\n",
       "| gendermale | 0.142      | 0.051      |   2.784    | 0.006      | 0.042      | 0.241      |\n",
       "\n"
      ],
      "text/plain": [
       "  term       estimate std_error statistic p_value lower_ci upper_ci\n",
       "1 intercept  4.093    0.039     105.852   0.000   4.017    4.169   \n",
       "2 gendermale 0.142    0.051       2.784   0.006   0.042    0.241   "
      ]
     },
     "metadata": {},
     "output_type": "display_data"
    },
    {
     "data": {
      "text/html": [
       "<table>\n",
       "<thead><tr><th scope=col>ID</th><th scope=col>score</th><th scope=col>gender</th><th scope=col>score_hat</th><th scope=col>residual</th></tr></thead>\n",
       "<tbody>\n",
       "\t<tr><td>1     </td><td>4.7   </td><td>female</td><td>4.093 </td><td> 0.607</td></tr>\n",
       "\t<tr><td>2     </td><td>4.1   </td><td>female</td><td>4.093 </td><td> 0.007</td></tr>\n",
       "\t<tr><td>3     </td><td>3.9   </td><td>female</td><td>4.093 </td><td>-0.193</td></tr>\n",
       "\t<tr><td>4     </td><td>4.8   </td><td>female</td><td>4.093 </td><td> 0.707</td></tr>\n",
       "\t<tr><td>5     </td><td>4.6   </td><td>male  </td><td>4.234 </td><td> 0.366</td></tr>\n",
       "\t<tr><td>6     </td><td>4.3   </td><td>male  </td><td>4.234 </td><td> 0.066</td></tr>\n",
       "</tbody>\n",
       "</table>\n"
      ],
      "text/latex": [
       "\\begin{tabular}{r|lllll}\n",
       " ID & score & gender & score\\_hat & residual\\\\\n",
       "\\hline\n",
       "\t 1      & 4.7    & female & 4.093  &  0.607\\\\\n",
       "\t 2      & 4.1    & female & 4.093  &  0.007\\\\\n",
       "\t 3      & 3.9    & female & 4.093  & -0.193\\\\\n",
       "\t 4      & 4.8    & female & 4.093  &  0.707\\\\\n",
       "\t 5      & 4.6    & male   & 4.234  &  0.366\\\\\n",
       "\t 6      & 4.3    & male   & 4.234  &  0.066\\\\\n",
       "\\end{tabular}\n"
      ],
      "text/markdown": [
       "\n",
       "| ID | score | gender | score_hat | residual |\n",
       "|---|---|---|---|---|\n",
       "| 1      | 4.7    | female | 4.093  |  0.607 |\n",
       "| 2      | 4.1    | female | 4.093  |  0.007 |\n",
       "| 3      | 3.9    | female | 4.093  | -0.193 |\n",
       "| 4      | 4.8    | female | 4.093  |  0.707 |\n",
       "| 5      | 4.6    | male   | 4.234  |  0.366 |\n",
       "| 6      | 4.3    | male   | 4.234  |  0.066 |\n",
       "\n"
      ],
      "text/plain": [
       "  ID score gender score_hat residual\n",
       "1 1  4.7   female 4.093      0.607  \n",
       "2 2  4.1   female 4.093      0.007  \n",
       "3 3  3.9   female 4.093     -0.193  \n",
       "4 4  4.8   female 4.093      0.707  \n",
       "5 5  4.6   male   4.234      0.366  \n",
       "6 6  4.3   male   4.234      0.066  "
      ]
     },
     "metadata": {},
     "output_type": "display_data"
    },
    {
     "data": {
      "text/html": [
       "4.17519600631452"
      ],
      "text/latex": [
       "4.17519600631452"
      ],
      "text/markdown": [
       "4.17519600631452"
      ],
      "text/plain": [
       "[1] 4.175196"
      ]
     },
     "metadata": {},
     "output_type": "display_data"
    },
    {
     "data": {
      "text/html": [
       "<table>\n",
       "<thead><tr><th scope=col>Residual_Sum_of_Squares_RSS</th></tr></thead>\n",
       "<tbody>\n",
       "\t<tr><td>134.3942</td></tr>\n",
       "</tbody>\n",
       "</table>\n"
      ],
      "text/latex": [
       "\\begin{tabular}{r|l}\n",
       " Residual\\_Sum\\_of\\_Squares\\_RSS\\\\\n",
       "\\hline\n",
       "\t 134.3942\\\\\n",
       "\\end{tabular}\n"
      ],
      "text/markdown": [
       "\n",
       "| Residual_Sum_of_Squares_RSS |\n",
       "|---|\n",
       "| 134.3942 |\n",
       "\n"
      ],
      "text/plain": [
       "  Residual_Sum_of_Squares_RSS\n",
       "1 134.3942                   "
      ]
     },
     "metadata": {},
     "output_type": "display_data"
    }
   ],
   "source": [
    "# regression scores by gender\n",
    "\n",
    "reg_model_sc_gen <-\n",
    "lm(score~gender, evals)\n",
    "\n",
    "get_regression_table(reg_model_sc_gen )\n",
    "\n",
    "reg_model_sc_gen_points <- \n",
    "get_regression_points(reg_model_sc_gen )\n",
    "\n",
    "head(reg_model_sc_gen_points)\n",
    "\n",
    "rmse(evals$score, reg_model_sc_gen_points$residual)\n",
    "\n",
    "# In case of categorical variables the group means are the predictions.\n",
    "# The prediction for a female teaching score is in this model 4.093\n",
    "# The predictions for male teachingscores are on average 0.142 higher\n",
    "\n",
    "# Alternatively the Sum of squared residual is another measure to asses the quality of a regression model\n",
    "# Residual_Sum_of_Squares = RSS\n",
    "reg_model_sc_gen_points %>% mutate(Squared_residuals = residual^2) %>% \n",
    "summarize(Residual_Sum_of_Squares_RSS= sum(Squared_residuals ))"
   ]
  },
  {
   "cell_type": "code",
   "execution_count": 241,
   "metadata": {},
   "outputs": [
    {
     "name": "stderr",
     "output_type": "stream",
     "text": [
      "`stat_bin()` using `bins = 30`. Pick better value with `binwidth`.\n"
     ]
    },
    {
     "data": {
      "image/png": "[encoded data removed]",
      "text/plain": [
       "plot without title"
      ]
     },
     "metadata": {},
     "output_type": "display_data"
    }
   ],
   "source": [
    "# plot residuals\n",
    "\n",
    "reg_model_sc_gen_points %>% \n",
    "ggplot(aes(x=residual)) +\n",
    "geom_histogram(color=\"black\", fill=\"gold\")"
   ]
  },
  {
   "cell_type": "code",
   "execution_count": 242,
   "metadata": {},
   "outputs": [
    {
     "data": {
      "text/html": [
       "<table>\n",
       "<thead><tr><th scope=col>rank</th><th scope=col>n</th><th scope=col>Proportions</th><th scope=col>Median</th><th scope=col>Mean</th><th scope=col>Quantile_25</th><th scope=col>Quantile_75</th><th scope=col>Standard_Deviation</th><th scope=col>IQR</th></tr></thead>\n",
       "<tbody>\n",
       "\t<tr><td>teaching    </td><td>102         </td><td>0.2203024   </td><td>4.40        </td><td>4.284314    </td><td>3.9         </td><td>4.7         </td><td>0.4982633   </td><td>0.8         </td></tr>\n",
       "\t<tr><td>tenure track</td><td>108         </td><td>0.2332613   </td><td>4.35        </td><td>4.154630    </td><td>3.7         </td><td>4.6         </td><td>0.5611044   </td><td>0.9         </td></tr>\n",
       "\t<tr><td>tenured     </td><td>253         </td><td>0.5464363   </td><td>4.20        </td><td>4.139130    </td><td>3.8         </td><td>4.6         </td><td>0.5502619   </td><td>0.8         </td></tr>\n",
       "</tbody>\n",
       "</table>\n"
      ],
      "text/latex": [
       "\\begin{tabular}{r|lllllllll}\n",
       " rank & n & Proportions & Median & Mean & Quantile\\_25 & Quantile\\_75 & Standard\\_Deviation & IQR\\\\\n",
       "\\hline\n",
       "\t teaching     & 102          & 0.2203024    & 4.40         & 4.284314     & 3.9          & 4.7          & 0.4982633    & 0.8         \\\\\n",
       "\t tenure track & 108          & 0.2332613    & 4.35         & 4.154630     & 3.7          & 4.6          & 0.5611044    & 0.9         \\\\\n",
       "\t tenured      & 253          & 0.5464363    & 4.20         & 4.139130     & 3.8          & 4.6          & 0.5502619    & 0.8         \\\\\n",
       "\\end{tabular}\n"
      ],
      "text/markdown": [
       "\n",
       "| rank | n | Proportions | Median | Mean | Quantile_25 | Quantile_75 | Standard_Deviation | IQR |\n",
       "|---|---|---|---|---|---|---|---|---|\n",
       "| teaching     | 102          | 0.2203024    | 4.40         | 4.284314     | 3.9          | 4.7          | 0.4982633    | 0.8          |\n",
       "| tenure track | 108          | 0.2332613    | 4.35         | 4.154630     | 3.7          | 4.6          | 0.5611044    | 0.9          |\n",
       "| tenured      | 253          | 0.5464363    | 4.20         | 4.139130     | 3.8          | 4.6          | 0.5502619    | 0.8          |\n",
       "\n"
      ],
      "text/plain": [
       "  rank         n   Proportions Median Mean     Quantile_25 Quantile_75\n",
       "1 teaching     102 0.2203024   4.40   4.284314 3.9         4.7        \n",
       "2 tenure track 108 0.2332613   4.35   4.154630 3.7         4.6        \n",
       "3 tenured      253 0.5464363   4.20   4.139130 3.8         4.6        \n",
       "  Standard_Deviation IQR\n",
       "1 0.4982633          0.8\n",
       "2 0.5611044          0.9\n",
       "3 0.5502619          0.8"
      ]
     },
     "metadata": {},
     "output_type": "display_data"
    }
   ],
   "source": [
    "# teaching score by rank\n",
    "statistics_scores_by_rank <- \n",
    "evals %>% group_by(rank) %>% summarize(n=n(), \n",
    "                                         Proportions=n/length(evals$rank),\n",
    "                                         Median=median(score), \n",
    "                                         Mean = mean(score),\n",
    "                                         Quantile_25=quantile(score, probs=c(0.25)),\n",
    "                                         Quantile_75=quantile(score, probs=c(0.75)),\n",
    "                                         Standard_Deviation = sd(score),\n",
    "                                         IQR=Quantile_75-Quantile_25\n",
    "                                         )\n",
    "statistics_scores_by_rank"
   ]
  },
  {
   "cell_type": "code",
   "execution_count": 243,
   "metadata": {},
   "outputs": [
    {
     "data": {
      "image/png": "[encoded data removed]",
      "text/plain": [
       "plot without title"
      ]
     },
     "metadata": {},
     "output_type": "display_data"
    }
   ],
   "source": [
    "# visualize teaching score by rank with boxplot\n",
    "\n",
    "evals %>% ggplot(aes(x=rank, y=score))+\n",
    "geom_boxplot(color=\"red\", size=1, fill=\"blue\")\n"
   ]
  },
  {
   "cell_type": "code",
   "execution_count": 244,
   "metadata": {},
   "outputs": [
    {
     "data": {
      "text/html": [
       "<table>\n",
       "<thead><tr><th scope=col>term</th><th scope=col>estimate</th><th scope=col>std_error</th><th scope=col>statistic</th><th scope=col>p_value</th><th scope=col>lower_ci</th><th scope=col>upper_ci</th></tr></thead>\n",
       "<tbody>\n",
       "\t<tr><td>intercept       </td><td> 4.284          </td><td>0.054           </td><td>79.853          </td><td>0.000           </td><td> 4.179          </td><td> 4.390          </td></tr>\n",
       "\t<tr><td>ranktenure track</td><td>-0.130          </td><td>0.075           </td><td>-1.733          </td><td>0.084           </td><td>-0.277          </td><td> 0.017          </td></tr>\n",
       "\t<tr><td>ranktenured     </td><td>-0.145          </td><td>0.064           </td><td>-2.284          </td><td>0.023           </td><td>-0.270          </td><td>-0.020          </td></tr>\n",
       "</tbody>\n",
       "</table>\n"
      ],
      "text/latex": [
       "\\begin{tabular}{r|lllllll}\n",
       " term & estimate & std\\_error & statistic & p\\_value & lower\\_ci & upper\\_ci\\\\\n",
       "\\hline\n",
       "\t intercept        &  4.284           & 0.054            & 79.853           & 0.000            &  4.179           &  4.390          \\\\\n",
       "\t ranktenure track & -0.130           & 0.075            & -1.733           & 0.084            & -0.277           &  0.017          \\\\\n",
       "\t ranktenured      & -0.145           & 0.064            & -2.284           & 0.023            & -0.270           & -0.020          \\\\\n",
       "\\end{tabular}\n"
      ],
      "text/markdown": [
       "\n",
       "| term | estimate | std_error | statistic | p_value | lower_ci | upper_ci |\n",
       "|---|---|---|---|---|---|---|\n",
       "| intercept        |  4.284           | 0.054            | 79.853           | 0.000            |  4.179           |  4.390           |\n",
       "| ranktenure track | -0.130           | 0.075            | -1.733           | 0.084            | -0.277           |  0.017           |\n",
       "| ranktenured      | -0.145           | 0.064            | -2.284           | 0.023            | -0.270           | -0.020           |\n",
       "\n"
      ],
      "text/plain": [
       "  term             estimate std_error statistic p_value lower_ci upper_ci\n",
       "1 intercept         4.284   0.054     79.853    0.000    4.179    4.390  \n",
       "2 ranktenure track -0.130   0.075     -1.733    0.084   -0.277    0.017  \n",
       "3 ranktenured      -0.145   0.064     -2.284    0.023   -0.270   -0.020  "
      ]
     },
     "metadata": {},
     "output_type": "display_data"
    },
    {
     "data": {
      "text/html": [
       "<table>\n",
       "<thead><tr><th></th><th scope=col>Scores</th></tr></thead>\n",
       "<tbody>\n",
       "\t<tr><th scope=row>teaching_mean</th><td>4.284</td></tr>\n",
       "\t<tr><th scope=row>ranktenure_track_mean</th><td>4.154</td></tr>\n",
       "\t<tr><th scope=row>ranktenured_mean</th><td>4.429</td></tr>\n",
       "</tbody>\n",
       "</table>\n"
      ],
      "text/latex": [
       "\\begin{tabular}{r|l}\n",
       "  & Scores\\\\\n",
       "\\hline\n",
       "\tteaching\\_mean & 4.284\\\\\n",
       "\tranktenure\\_track\\_mean & 4.154\\\\\n",
       "\tranktenured\\_mean & 4.429\\\\\n",
       "\\end{tabular}\n"
      ],
      "text/markdown": [
       "\n",
       "| <!--/--> | Scores |\n",
       "|---|---|\n",
       "| teaching_mean | 4.284 |\n",
       "| ranktenure_track_mean | 4.154 |\n",
       "| ranktenured_mean | 4.429 |\n",
       "\n"
      ],
      "text/plain": [
       "                      Scores\n",
       "teaching_mean         4.284 \n",
       "ranktenure_track_mean 4.154 \n",
       "ranktenured_mean      4.429 "
      ]
     },
     "metadata": {},
     "output_type": "display_data"
    }
   ],
   "source": [
    "#linear regression\n",
    "reg_model_sc_rank <- \n",
    "lm(score ~ rank, evals)\n",
    "get_regression_table(reg_model_sc_rank)\n",
    "\n",
    "# group means \n",
    "\n",
    "teaching_mean <-  4.284 \n",
    "ranktenure_track_mean <-  4.284 - 0.130 \n",
    "ranktenured <- 4.284 + 0.145\n",
    "\n",
    "# In case of categorical variables the group means are the predictions.\n",
    "\n",
    "input_1<- c(teaching_mean,ranktenure_track_mean, ranktenured )\n",
    "dimnames_1 <- list(c(\"teaching_mean\",\"ranktenure_track_mean\", \"ranktenured_mean\"), \"Scores\")\n",
    "matrix(input_1, ncol=1, nrow=3,   dimnames = dimnames_1)"
   ]
  },
  {
   "cell_type": "code",
   "execution_count": 245,
   "metadata": {},
   "outputs": [
    {
     "name": "stderr",
     "output_type": "stream",
     "text": [
      "`stat_bin()` using `bins = 30`. Pick better value with `binwidth`.\n"
     ]
    },
    {
     "data": {
      "image/png": "[encoded data removed]",
      "text/plain": [
       "plot without title"
      ]
     },
     "metadata": {},
     "output_type": "display_data"
    }
   ],
   "source": [
    "# plot residuals\n",
    "\n",
    "get_regression_points(reg_model_sc_rank) %>% \n",
    "ggplot(aes(x=residual)) +\n",
    "geom_histogram(color=\"black\", fill=\"gold\")"
   ]
  },
  {
   "cell_type": "code",
   "execution_count": 246,
   "metadata": {},
   "outputs": [
    {
     "data": {
      "text/html": [
       "<table>\n",
       "<thead><tr><th scope=col>term</th><th scope=col>estimate</th><th scope=col>std_error</th><th scope=col>statistic</th><th scope=col>p_value</th><th scope=col>lower_ci</th><th scope=col>upper_ci</th></tr></thead>\n",
       "<tbody>\n",
       "\t<tr><td>intercept </td><td> 4.484    </td><td>0.125     </td><td>35.792    </td><td>0.000     </td><td> 4.238    </td><td> 4.730    </td></tr>\n",
       "\t<tr><td>age       </td><td>-0.009    </td><td>0.003     </td><td>-3.280    </td><td>0.001     </td><td>-0.014    </td><td>-0.003    </td></tr>\n",
       "\t<tr><td>gendermale</td><td> 0.191    </td><td>0.052     </td><td> 3.632    </td><td>0.000     </td><td> 0.087    </td><td> 0.294    </td></tr>\n",
       "</tbody>\n",
       "</table>\n"
      ],
      "text/latex": [
       "\\begin{tabular}{r|lllllll}\n",
       " term & estimate & std\\_error & statistic & p\\_value & lower\\_ci & upper\\_ci\\\\\n",
       "\\hline\n",
       "\t intercept  &  4.484     & 0.125      & 35.792     & 0.000      &  4.238     &  4.730    \\\\\n",
       "\t age        & -0.009     & 0.003      & -3.280     & 0.001      & -0.014     & -0.003    \\\\\n",
       "\t gendermale &  0.191     & 0.052      &  3.632     & 0.000      &  0.087     &  0.294    \\\\\n",
       "\\end{tabular}\n"
      ],
      "text/markdown": [
       "\n",
       "| term | estimate | std_error | statistic | p_value | lower_ci | upper_ci |\n",
       "|---|---|---|---|---|---|---|\n",
       "| intercept  |  4.484     | 0.125      | 35.792     | 0.000      |  4.238     |  4.730     |\n",
       "| age        | -0.009     | 0.003      | -3.280     | 0.001      | -0.014     | -0.003     |\n",
       "| gendermale |  0.191     | 0.052      |  3.632     | 0.000      |  0.087     |  0.294     |\n",
       "\n"
      ],
      "text/plain": [
       "  term       estimate std_error statistic p_value lower_ci upper_ci\n",
       "1 intercept   4.484   0.125     35.792    0.000    4.238    4.730  \n",
       "2 age        -0.009   0.003     -3.280    0.001   -0.014   -0.003  \n",
       "3 gendermale  0.191   0.052      3.632    0.000    0.087    0.294  "
      ]
     },
     "metadata": {},
     "output_type": "display_data"
    },
    {
     "data": {
      "text/plain": [
       "\n",
       "Call:\n",
       "lm(formula = score ~ age + gender, data = evals)\n",
       "\n",
       "Residuals:\n",
       "     Min       1Q   Median       3Q      Max \n",
       "-1.82833 -0.33494  0.09391  0.42882  0.91506 \n",
       "\n",
       "Coefficients:\n",
       "             Estimate Std. Error t value Pr(>|t|)    \n",
       "(Intercept)  4.484116   0.125284  35.792  < 2e-16 ***\n",
       "age         -0.008678   0.002646  -3.280 0.001117 ** \n",
       "gendermale   0.190571   0.052469   3.632 0.000313 ***\n",
       "---\n",
       "Signif. codes:  0 '***' 0.001 '**' 0.01 '*' 0.05 '.' 0.1 ' ' 1\n",
       "\n",
       "Residual standard error: 0.5343 on 460 degrees of freedom\n",
       "Multiple R-squared:  0.03901,\tAdjusted R-squared:  0.03484 \n",
       "F-statistic: 9.338 on 2 and 460 DF,  p-value: 0.0001059\n"
      ]
     },
     "metadata": {},
     "output_type": "display_data"
    }
   ],
   "source": [
    "\n",
    "reg_model_score_age_gender <-\n",
    "lm(score ~ age + gender, data=evals)\n",
    "\n",
    "\n",
    "get_regression_table(reg_model_score_age_gender )\n",
    "summary(reg_model_score_age_gender )\n",
    "\n",
    "# all variables are significant given a test level of 0.05 and p-values below\n",
    "# if the gender is male for every unit in age teaching scores increase by 0.190571\n",
    "# given all other variables do not change\n",
    "# if the gender is female for every unit in age teaching scores decrease by -0.008678\n",
    "\n",
    "\n"
   ]
  },
  {
   "cell_type": "code",
   "execution_count": 247,
   "metadata": {},
   "outputs": [
    {
     "data": {
      "text/html": [
       "<table>\n",
       "<thead><tr><th scope=col>ID</th><th scope=col>score</th><th scope=col>age</th><th scope=col>gender</th><th scope=col>score_hat</th><th scope=col>residual</th></tr></thead>\n",
       "<tbody>\n",
       "\t<tr><td>1     </td><td>4.7   </td><td>36    </td><td>female</td><td>4.172 </td><td> 0.528</td></tr>\n",
       "\t<tr><td>2     </td><td>4.1   </td><td>36    </td><td>female</td><td>4.172 </td><td>-0.072</td></tr>\n",
       "\t<tr><td>3     </td><td>3.9   </td><td>36    </td><td>female</td><td>4.172 </td><td>-0.272</td></tr>\n",
       "\t<tr><td>4     </td><td>4.8   </td><td>36    </td><td>female</td><td>4.172 </td><td> 0.628</td></tr>\n",
       "\t<tr><td>5     </td><td>4.6   </td><td>59    </td><td>male  </td><td>4.163 </td><td> 0.437</td></tr>\n",
       "\t<tr><td>6     </td><td>4.3   </td><td>59    </td><td>male  </td><td>4.163 </td><td> 0.137</td></tr>\n",
       "</tbody>\n",
       "</table>\n"
      ],
      "text/latex": [
       "\\begin{tabular}{r|llllll}\n",
       " ID & score & age & gender & score\\_hat & residual\\\\\n",
       "\\hline\n",
       "\t 1      & 4.7    & 36     & female & 4.172  &  0.528\\\\\n",
       "\t 2      & 4.1    & 36     & female & 4.172  & -0.072\\\\\n",
       "\t 3      & 3.9    & 36     & female & 4.172  & -0.272\\\\\n",
       "\t 4      & 4.8    & 36     & female & 4.172  &  0.628\\\\\n",
       "\t 5      & 4.6    & 59     & male   & 4.163  &  0.437\\\\\n",
       "\t 6      & 4.3    & 59     & male   & 4.163  &  0.137\\\\\n",
       "\\end{tabular}\n"
      ],
      "text/markdown": [
       "\n",
       "| ID | score | age | gender | score_hat | residual |\n",
       "|---|---|---|---|---|---|\n",
       "| 1      | 4.7    | 36     | female | 4.172  |  0.528 |\n",
       "| 2      | 4.1    | 36     | female | 4.172  | -0.072 |\n",
       "| 3      | 3.9    | 36     | female | 4.172  | -0.272 |\n",
       "| 4      | 4.8    | 36     | female | 4.172  |  0.628 |\n",
       "| 5      | 4.6    | 59     | male   | 4.163  |  0.437 |\n",
       "| 6      | 4.3    | 59     | male   | 4.163  |  0.137 |\n",
       "\n"
      ],
      "text/plain": [
       "  ID score age gender score_hat residual\n",
       "1 1  4.7   36  female 4.172      0.528  \n",
       "2 2  4.1   36  female 4.172     -0.072  \n",
       "3 3  3.9   36  female 4.172     -0.272  \n",
       "4 4  4.8   36  female 4.172      0.628  \n",
       "5 5  4.6   59  male   4.163      0.437  \n",
       "6 6  4.3   59  male   4.163      0.137  "
      ]
     },
     "metadata": {},
     "output_type": "display_data"
    },
    {
     "data": {
      "text/html": [
       "0.532573498183805"
      ],
      "text/latex": [
       "0.532573498183805"
      ],
      "text/markdown": [
       "0.532573498183805"
      ],
      "text/plain": [
       "[1] 0.5325735"
      ]
     },
     "metadata": {},
     "output_type": "display_data"
    }
   ],
   "source": [
    "# reg_model_score_age_gender\n",
    "\n",
    "pred_reg_model_score_age_gender <- \n",
    "predict(reg_model_score_age_gender)\n",
    "\n",
    "head(get_regression_points(reg_model_score_age_gender))\n",
    "\n",
    "rmse(evals$score, pred_reg_model_score_age_gender)\n",
    "\n",
    "# adding gender did not result in better predictions"
   ]
  },
  {
   "cell_type": "code",
   "execution_count": 248,
   "metadata": {},
   "outputs": [
    {
     "data": {
      "text/html": [
       "<table>\n",
       "<thead><tr><th scope=col>term</th><th scope=col>estimate</th><th scope=col>std_error</th><th scope=col>statistic</th><th scope=col>p_value</th><th scope=col>lower_ci</th><th scope=col>upper_ci</th></tr></thead>\n",
       "<tbody>\n",
       "\t<tr><td>intercept     </td><td> 4.883        </td><td>0.205         </td><td>23.795        </td><td>0.000         </td><td> 4.480        </td><td> 5.286        </td></tr>\n",
       "\t<tr><td>age           </td><td>-0.018        </td><td>0.004         </td><td>-3.919        </td><td>0.000         </td><td>-0.026        </td><td>-0.009        </td></tr>\n",
       "\t<tr><td>gendermale    </td><td>-0.446        </td><td>0.265         </td><td>-1.681        </td><td>0.094         </td><td>-0.968        </td><td> 0.076        </td></tr>\n",
       "\t<tr><td>age:gendermale</td><td> 0.014        </td><td>0.006         </td><td> 2.446        </td><td>0.015         </td><td> 0.003        </td><td> 0.024        </td></tr>\n",
       "</tbody>\n",
       "</table>\n"
      ],
      "text/latex": [
       "\\begin{tabular}{r|lllllll}\n",
       " term & estimate & std\\_error & statistic & p\\_value & lower\\_ci & upper\\_ci\\\\\n",
       "\\hline\n",
       "\t intercept      &  4.883         & 0.205          & 23.795         & 0.000          &  4.480         &  5.286        \\\\\n",
       "\t age            & -0.018         & 0.004          & -3.919         & 0.000          & -0.026         & -0.009        \\\\\n",
       "\t gendermale     & -0.446         & 0.265          & -1.681         & 0.094          & -0.968         &  0.076        \\\\\n",
       "\t age:gendermale &  0.014         & 0.006          &  2.446         & 0.015          &  0.003         &  0.024        \\\\\n",
       "\\end{tabular}\n"
      ],
      "text/markdown": [
       "\n",
       "| term | estimate | std_error | statistic | p_value | lower_ci | upper_ci |\n",
       "|---|---|---|---|---|---|---|\n",
       "| intercept      |  4.883         | 0.205          | 23.795         | 0.000          |  4.480         |  5.286         |\n",
       "| age            | -0.018         | 0.004          | -3.919         | 0.000          | -0.026         | -0.009         |\n",
       "| gendermale     | -0.446         | 0.265          | -1.681         | 0.094          | -0.968         |  0.076         |\n",
       "| age:gendermale |  0.014         | 0.006          |  2.446         | 0.015          |  0.003         |  0.024         |\n",
       "\n"
      ],
      "text/plain": [
       "  term           estimate std_error statistic p_value lower_ci upper_ci\n",
       "1 intercept       4.883   0.205     23.795    0.000    4.480    5.286  \n",
       "2 age            -0.018   0.004     -3.919    0.000   -0.026   -0.009  \n",
       "3 gendermale     -0.446   0.265     -1.681    0.094   -0.968    0.076  \n",
       "4 age:gendermale  0.014   0.006      2.446    0.015    0.003    0.024  "
      ]
     },
     "metadata": {},
     "output_type": "display_data"
    },
    {
     "data": {
      "text/plain": [
       "\n",
       "Call:\n",
       "lm(formula = score ~ age * gender, data = evals)\n",
       "\n",
       "Residuals:\n",
       "     Min       1Q   Median       3Q      Max \n",
       "-1.86453 -0.34815  0.09863  0.40661  0.96327 \n",
       "\n",
       "Coefficients:\n",
       "                Estimate Std. Error t value Pr(>|t|)    \n",
       "(Intercept)     4.882989   0.205210  23.795  < 2e-16 ***\n",
       "age            -0.017523   0.004472  -3.919 0.000103 ***\n",
       "gendermale     -0.446044   0.265407  -1.681 0.093520 .  \n",
       "age:gendermale  0.013531   0.005531   2.446 0.014803 *  \n",
       "---\n",
       "Signif. codes:  0 '***' 0.001 '**' 0.01 '*' 0.05 '.' 0.1 ' ' 1\n",
       "\n",
       "Residual standard error: 0.5314 on 459 degrees of freedom\n",
       "Multiple R-squared:  0.05138,\tAdjusted R-squared:  0.04518 \n",
       "F-statistic: 8.288 on 3 and 459 DF,  p-value: 2.227e-05\n"
      ]
     },
     "metadata": {},
     "output_type": "display_data"
    }
   ],
   "source": [
    "# checking for interaction effects\n",
    "reg_model_score_age_gender_inter <-\n",
    "lm(score ~ age * gender, data=evals)\n",
    "get_regression_table(reg_model_score_age_gender_inter )\n",
    "summary(reg_model_score_age_gender_inter)"
   ]
  },
  {
   "cell_type": "code",
   "execution_count": 249,
   "metadata": {},
   "outputs": [
    {
     "data": {
      "text/html": [
       "<table>\n",
       "<thead><tr><th scope=col>ID</th><th scope=col>score</th><th scope=col>age</th><th scope=col>gender</th><th scope=col>score_hat</th><th scope=col>residual</th></tr></thead>\n",
       "<tbody>\n",
       "\t<tr><td>1     </td><td>4.7   </td><td>36    </td><td>female</td><td>4.252 </td><td> 0.448</td></tr>\n",
       "\t<tr><td>2     </td><td>4.1   </td><td>36    </td><td>female</td><td>4.252 </td><td>-0.152</td></tr>\n",
       "\t<tr><td>3     </td><td>3.9   </td><td>36    </td><td>female</td><td>4.252 </td><td>-0.352</td></tr>\n",
       "\t<tr><td>4     </td><td>4.8   </td><td>36    </td><td>female</td><td>4.252 </td><td> 0.548</td></tr>\n",
       "\t<tr><td>5     </td><td>4.6   </td><td>59    </td><td>male  </td><td>4.201 </td><td> 0.399</td></tr>\n",
       "\t<tr><td>6     </td><td>4.3   </td><td>59    </td><td>male  </td><td>4.201 </td><td> 0.099</td></tr>\n",
       "</tbody>\n",
       "</table>\n"
      ],
      "text/latex": [
       "\\begin{tabular}{r|llllll}\n",
       " ID & score & age & gender & score\\_hat & residual\\\\\n",
       "\\hline\n",
       "\t 1      & 4.7    & 36     & female & 4.252  &  0.448\\\\\n",
       "\t 2      & 4.1    & 36     & female & 4.252  & -0.152\\\\\n",
       "\t 3      & 3.9    & 36     & female & 4.252  & -0.352\\\\\n",
       "\t 4      & 4.8    & 36     & female & 4.252  &  0.548\\\\\n",
       "\t 5      & 4.6    & 59     & male   & 4.201  &  0.399\\\\\n",
       "\t 6      & 4.3    & 59     & male   & 4.201  &  0.099\\\\\n",
       "\\end{tabular}\n"
      ],
      "text/markdown": [
       "\n",
       "| ID | score | age | gender | score_hat | residual |\n",
       "|---|---|---|---|---|---|\n",
       "| 1      | 4.7    | 36     | female | 4.252  |  0.448 |\n",
       "| 2      | 4.1    | 36     | female | 4.252  | -0.152 |\n",
       "| 3      | 3.9    | 36     | female | 4.252  | -0.352 |\n",
       "| 4      | 4.8    | 36     | female | 4.252  |  0.548 |\n",
       "| 5      | 4.6    | 59     | male   | 4.201  |  0.399 |\n",
       "| 6      | 4.3    | 59     | male   | 4.201  |  0.099 |\n",
       "\n"
      ],
      "text/plain": [
       "  ID score age gender score_hat residual\n",
       "1 1  4.7   36  female 4.252      0.448  \n",
       "2 2  4.1   36  female 4.252     -0.152  \n",
       "3 3  3.9   36  female 4.252     -0.352  \n",
       "4 4  4.8   36  female 4.252      0.548  \n",
       "5 5  4.6   59  male   4.201      0.399  \n",
       "6 6  4.3   59  male   4.201      0.099  "
      ]
     },
     "metadata": {},
     "output_type": "display_data"
    },
    {
     "data": {
      "text/html": [
       "0.53"
      ],
      "text/latex": [
       "0.53"
      ],
      "text/markdown": [
       "0.53"
      ],
      "text/plain": [
       "[1] 0.53"
      ]
     },
     "metadata": {},
     "output_type": "display_data"
    }
   ],
   "source": [
    "# reg_model_score_age_gender_inter\n",
    "pred_reg_model_score_age_gender_inter <-\n",
    "predict(reg_model_score_age_gender_inter)\n",
    "head(get_regression_points(reg_model_score_age_gender_inter))\n",
    "round(rmse(evals$score, pred_reg_model_score_age_gender_inter), 2)\n",
    "# Considering interaction effects resulted in only a very slight improvement"
   ]
  },
  {
   "cell_type": "code",
   "execution_count": 250,
   "metadata": {},
   "outputs": [
    {
     "name": "stderr",
     "output_type": "stream",
     "text": [
      "Installing package into 'C:/Users/gamarandor/Documents/R/win-library/3.5'\n",
      "(as 'lib' is unspecified)\n",
      "Warning message:\n",
      "\"unable to access index for repository http://rstudio.org/_packages/bin/windows/contrib/3.5:\n",
      "  kann URL 'http://rstudio.org/_packages/bin/windows/contrib/3.5/PACKAGES' nicht öffnen\"Warning message:\n",
      "\"package 'ggcorrplot' is in use and will not be installed\""
     ]
    }
   ],
   "source": [
    "install.packages(\"ggcorrplot\",  repos = c(\"http://rstudio.org/_packages\",\"http://cran.rstudio.com\"))\n",
    "library(ggcorrplot)"
   ]
  },
  {
   "cell_type": "code",
   "execution_count": 251,
   "metadata": {},
   "outputs": [
    {
     "data": {
      "text/html": [
       "<ol class=list-inline>\n",
       "\t<li>5</li>\n",
       "\t<li>3</li>\n",
       "\t<li>3.333</li>\n",
       "\t<li>3.167</li>\n",
       "\t<li>7.333</li>\n",
       "\t<li>5.5</li>\n",
       "\t<li>4.167</li>\n",
       "\t<li>4</li>\n",
       "\t<li>4.667</li>\n",
       "\t<li>4.833</li>\n",
       "\t<li>4.333</li>\n",
       "\t<li>2.5</li>\n",
       "\t<li>2.833</li>\n",
       "\t<li>7.833</li>\n",
       "\t<li>3.833</li>\n",
       "\t<li>5.167</li>\n",
       "\t<li>2.667</li>\n",
       "\t<li>2.333</li>\n",
       "\t<li>6.5</li>\n",
       "\t<li>3.667</li>\n",
       "\t<li>6.167</li>\n",
       "\t<li>8.167</li>\n",
       "\t<li>7</li>\n",
       "\t<li>5.833</li>\n",
       "\t<li>5.667</li>\n",
       "\t<li>1.667</li>\n",
       "\t<li>6.667</li>\n",
       "\t<li>3.5</li>\n",
       "\t<li>6</li>\n",
       "\t<li>7.167</li>\n",
       "\t<li>6.333</li>\n",
       "\t<li>6.833</li>\n",
       "\t<li>2</li>\n",
       "\t<li>4.5</li>\n",
       "\t<li>5.333</li>\n",
       "</ol>\n"
      ],
      "text/latex": [
       "\\begin{enumerate*}\n",
       "\\item 5\n",
       "\\item 3\n",
       "\\item 3.333\n",
       "\\item 3.167\n",
       "\\item 7.333\n",
       "\\item 5.5\n",
       "\\item 4.167\n",
       "\\item 4\n",
       "\\item 4.667\n",
       "\\item 4.833\n",
       "\\item 4.333\n",
       "\\item 2.5\n",
       "\\item 2.833\n",
       "\\item 7.833\n",
       "\\item 3.833\n",
       "\\item 5.167\n",
       "\\item 2.667\n",
       "\\item 2.333\n",
       "\\item 6.5\n",
       "\\item 3.667\n",
       "\\item 6.167\n",
       "\\item 8.167\n",
       "\\item 7\n",
       "\\item 5.833\n",
       "\\item 5.667\n",
       "\\item 1.667\n",
       "\\item 6.667\n",
       "\\item 3.5\n",
       "\\item 6\n",
       "\\item 7.167\n",
       "\\item 6.333\n",
       "\\item 6.833\n",
       "\\item 2\n",
       "\\item 4.5\n",
       "\\item 5.333\n",
       "\\end{enumerate*}\n"
      ],
      "text/markdown": [
       "1. 5\n",
       "2. 3\n",
       "3. 3.333\n",
       "4. 3.167\n",
       "5. 7.333\n",
       "6. 5.5\n",
       "7. 4.167\n",
       "8. 4\n",
       "9. 4.667\n",
       "10. 4.833\n",
       "11. 4.333\n",
       "12. 2.5\n",
       "13. 2.833\n",
       "14. 7.833\n",
       "15. 3.833\n",
       "16. 5.167\n",
       "17. 2.667\n",
       "18. 2.333\n",
       "19. 6.5\n",
       "20. 3.667\n",
       "21. 6.167\n",
       "22. 8.167\n",
       "23. 7\n",
       "24. 5.833\n",
       "25. 5.667\n",
       "26. 1.667\n",
       "27. 6.667\n",
       "28. 3.5\n",
       "29. 6\n",
       "30. 7.167\n",
       "31. 6.333\n",
       "32. 6.833\n",
       "33. 2\n",
       "34. 4.5\n",
       "35. 5.333\n",
       "\n",
       "\n"
      ],
      "text/plain": [
       " [1] 5.000 3.000 3.333 3.167 7.333 5.500 4.167 4.000 4.667 4.833 4.333 2.500\n",
       "[13] 2.833 7.833 3.833 5.167 2.667 2.333 6.500 3.667 6.167 8.167 7.000 5.833\n",
       "[25] 5.667 1.667 6.667 3.500 6.000 7.167 6.333 6.833 2.000 4.500 5.333"
      ]
     },
     "metadata": {},
     "output_type": "display_data"
    },
    {
     "data": {
      "text/html": [
       "<span style=white-space:pre-wrap>'Freedman Diaconis rule for teaching scores version 1:  12'</span>"
      ],
      "text/latex": [
       "'Freedman Diaconis rule for teaching scores version 1:  12'"
      ],
      "text/markdown": [
       "<span style=white-space:pre-wrap>'Freedman Diaconis rule for teaching scores version 1:  12'</span>"
      ],
      "text/plain": [
       "[1] \"Freedman Diaconis rule for teaching scores version 1:  12\""
      ]
     },
     "metadata": {},
     "output_type": "display_data"
    },
    {
     "data": {
      "text/plain": [
       "\n",
       "Call:\n",
       "\tdensity.default(x = evals$age)\n",
       "\n",
       "Data: evals$age (463 obs.);\tBandwidth 'bw' = 2.585\n",
       "\n",
       "       x               y            \n",
       " Min.   :21.24   Min.   :6.330e-06  \n",
       " 1st Qu.:36.12   1st Qu.:2.301e-03  \n",
       " Median :51.00   Median :2.155e-02  \n",
       " Mean   :51.00   Mean   :1.679e-02  \n",
       " 3rd Qu.:65.88   3rd Qu.:2.702e-02  \n",
       " Max.   :80.76   Max.   :3.802e-02  "
      ]
     },
     "metadata": {},
     "output_type": "display_data"
    },
    {
     "data": {
      "image/png": "[encoded data removed]",
      "text/plain": [
       "plot without title"
      ]
     },
     "metadata": {},
     "output_type": "display_data"
    }
   ],
   "source": [
    "# bty_avg - Average beauty rating of professor.\n",
    "unique(evals$bty_avg)\n",
    "number_of_bins_score_beauty <- Freedman_Diaconis(evals$bty_avg)\n",
    "paste(\"Freedman Diaconis rule for teaching scores version 1: \", number_of_bins_score_age)\n",
    "\n",
    "evals %>%\n",
    "ggplot(aes(x=bty_avg)) +\n",
    "geom_histogram(color=\"red\", size=0.8, fill=\"darkgreen\", bins = number_of_bins_score_beauty, aes(y=..density..) ) +\n",
    "geom_density(color=\"orange\", size=1)+\n",
    "labs(x=\"Beauty\", y=\"Count\")+\n",
    "stat_function(fun=dnorm, args=(list(mean=mean(evals$bty_avg), sd=sd(evals$bty_avg))), color=\"black\", size=1.5)\n",
    "\n",
    "density(evals$age)\n",
    "\n",
    "\n",
    "# distribution is right-skewed\n",
    "# tail on the right\n",
    "# mean > median > mode"
   ]
  },
  {
   "cell_type": "code",
   "execution_count": 252,
   "metadata": {},
   "outputs": [
    {
     "data": {
      "image/png": "[encoded data removed]",
      "text/plain": [
       "plot without title"
      ]
     },
     "metadata": {},
     "output_type": "display_data"
    }
   ],
   "source": [
    "# EDA of the relationship between teaching score and beauty score\n",
    "\n",
    "evals %>% ggplot(aes(x=bty_avg, y=score, color=age)) + geom_jitter(alpha=0.5)+\n",
    "labs(title=\"Beauty score over teaching score\", x=\"Beauty score\", y=\"Teaching score\")+\n",
    "scale_color_gradient( low = \"red\", high = \"yellow\")"
   ]
  },
  {
   "cell_type": "code",
   "execution_count": 253,
   "metadata": {},
   "outputs": [
    {
     "data": {
      "image/png": "[encoded data removed]",
      "text/plain": [
       "plot without title"
      ]
     },
     "metadata": {},
     "output_type": "display_data"
    }
   ],
   "source": [
    "# regression line beauty score and teaching scores\n",
    "ggplot(evals, aes(x = bty_avg, y = score)) +\n",
    "  geom_point(color=\"brown\") +\n",
    "  labs(x = \"beauty score\", y = \"score\") +\n",
    "  geom_smooth(method = 'lm', se = FALSE)"
   ]
  },
  {
   "cell_type": "code",
   "execution_count": 254,
   "metadata": {},
   "outputs": [
    {
     "data": {
      "text/html": [
       "<table>\n",
       "<thead><tr><th scope=col>term</th><th scope=col>estimate</th><th scope=col>std_error</th><th scope=col>statistic</th><th scope=col>p_value</th><th scope=col>lower_ci</th><th scope=col>upper_ci</th></tr></thead>\n",
       "<tbody>\n",
       "\t<tr><td>intercept</td><td>3.880    </td><td>0.076    </td><td>50.961   </td><td>0        </td><td>3.731    </td><td>4.030    </td></tr>\n",
       "\t<tr><td>bty_avg  </td><td>0.067    </td><td>0.016    </td><td> 4.090   </td><td>0        </td><td>0.035    </td><td>0.099    </td></tr>\n",
       "</tbody>\n",
       "</table>\n"
      ],
      "text/latex": [
       "\\begin{tabular}{r|lllllll}\n",
       " term & estimate & std\\_error & statistic & p\\_value & lower\\_ci & upper\\_ci\\\\\n",
       "\\hline\n",
       "\t intercept & 3.880     & 0.076     & 50.961    & 0         & 3.731     & 4.030    \\\\\n",
       "\t bty\\_avg   & 0.067       & 0.016       &  4.090      & 0           & 0.035       & 0.099      \\\\\n",
       "\\end{tabular}\n"
      ],
      "text/markdown": [
       "\n",
       "| term | estimate | std_error | statistic | p_value | lower_ci | upper_ci |\n",
       "|---|---|---|---|---|---|---|\n",
       "| intercept | 3.880     | 0.076     | 50.961    | 0         | 3.731     | 4.030     |\n",
       "| bty_avg   | 0.067     | 0.016     |  4.090    | 0         | 0.035     | 0.099     |\n",
       "\n"
      ],
      "text/plain": [
       "  term      estimate std_error statistic p_value lower_ci upper_ci\n",
       "1 intercept 3.880    0.076     50.961    0       3.731    4.030   \n",
       "2 bty_avg   0.067    0.016      4.090    0       0.035    0.099   "
      ]
     },
     "metadata": {},
     "output_type": "display_data"
    }
   ],
   "source": [
    "# Fit a simple linear regression model\n",
    "model_score_beauty <- lm(score ~ bty_avg, data = evals)\n",
    "\n",
    "# Output regression table\n",
    "get_regression_table(model_score_beauty )\n",
    "\n",
    "# For every increase of one in beauty score, you should observe an \n",
    "# associated increase of on average 0.0670 units in teaching score."
   ]
  },
  {
   "cell_type": "code",
   "execution_count": 255,
   "metadata": {},
   "outputs": [
    {
     "name": "stdout",
     "output_type": "stream",
     "text": [
      "\u001b[90m# A tibble: 1 x 1\u001b[39m\n",
      "  Correlation_beauty_teachingscore\n",
      "                             \u001b[3m\u001b[90m<dbl>\u001b[39m\u001b[23m\n",
      "\u001b[90m1\u001b[39m                            0.187\n"
     ]
    }
   ],
   "source": [
    "cor_beauty_score <- evals %>% summarize(Correlation_beauty_teachingscore=cor(bty_avg, score))\n",
    "print(cor_beauty_score)\n",
    "# both variables are weakly positively related"
   ]
  },
  {
   "cell_type": "code",
   "execution_count": 256,
   "metadata": {},
   "outputs": [
    {
     "data": {
      "text/plain": [
       "\n",
       "Call:\n",
       "lm(formula = score ~ ., data = evals)\n",
       "\n",
       "Coefficients:\n",
       "          (Intercept)                     ID                    age  \n",
       "             4.953089              -0.000601              -0.008081  \n",
       "              bty_avg             gendermale  ethnicitynot minority  \n",
       "             0.031660               0.257385               0.026630  \n",
       "  languagenon-english       ranktenure track            ranktenured  \n",
       "            -0.260118              -0.162856              -0.171624  \n",
       " pic_outfitnot formal         pic_colorcolor           cls_did_eval  \n",
       "            -0.145959              -0.290505               0.008507  \n",
       "         cls_students         cls_levelupper  \n",
       "            -0.005198              -0.111819  \n"
      ]
     },
     "metadata": {},
     "output_type": "display_data"
    },
    {
     "data": {
      "text/plain": [
       "\n",
       "Call:\n",
       "lm(formula = score ~ ., data = evals)\n",
       "\n",
       "Residuals:\n",
       "     Min       1Q   Median       3Q      Max \n",
       "-1.72617 -0.33694  0.09712  0.37857  1.04283 \n",
       "\n",
       "Coefficients:\n",
       "                        Estimate Std. Error t value Pr(>|t|)    \n",
       "(Intercept)            4.9530886  0.2614337  18.946  < 2e-16 ***\n",
       "ID                    -0.0006010  0.0002125  -2.829 0.004881 ** \n",
       "age                   -0.0080813  0.0032009  -2.525 0.011923 *  \n",
       "bty_avg                0.0316595  0.0175994   1.799 0.072707 .  \n",
       "gendermale             0.2573849  0.0522732   4.924 1.19e-06 ***\n",
       "ethnicitynot minority  0.0266304  0.0758905   0.351 0.725824    \n",
       "languagenon-english   -0.2601184  0.1127228  -2.308 0.021476 *  \n",
       "ranktenure track      -0.1628563  0.0830295  -1.961 0.050447 .  \n",
       "ranktenured           -0.1716244  0.0644016  -2.665 0.007978 ** \n",
       "pic_outfitnot formal  -0.1459592  0.0732964  -1.991 0.047047 *  \n",
       "pic_colorcolor        -0.2905054  0.0742203  -3.914 0.000105 ***\n",
       "cls_did_eval           0.0085069  0.0022963   3.705 0.000238 ***\n",
       "cls_students          -0.0051975  0.0014003  -3.712 0.000232 ***\n",
       "cls_levelupper        -0.1118191  0.0634313  -1.763 0.078608 .  \n",
       "---\n",
       "Signif. codes:  0 '***' 0.001 '**' 0.01 '*' 0.05 '.' 0.1 ' ' 1\n",
       "\n",
       "Residual standard error: 0.5045 on 449 degrees of freedom\n",
       "Multiple R-squared:  0.1637,\tAdjusted R-squared:  0.1395 \n",
       "F-statistic: 6.763 on 13 and 449 DF,  p-value: 6.398e-12\n"
      ]
     },
     "metadata": {},
     "output_type": "display_data"
    },
    {
     "data": {
      "text/html": [
       "<table>\n",
       "<thead><tr><th scope=col>term</th><th scope=col>estimate</th><th scope=col>std_error</th><th scope=col>statistic</th><th scope=col>p_value</th><th scope=col>lower_ci</th><th scope=col>upper_ci</th></tr></thead>\n",
       "<tbody>\n",
       "\t<tr><td>intercept            </td><td> 4.953               </td><td>0.261                </td><td>18.946               </td><td>0.000                </td><td> 4.439               </td><td> 5.467               </td></tr>\n",
       "\t<tr><td>ID                   </td><td>-0.001               </td><td>0.000                </td><td>-2.829               </td><td>0.005                </td><td>-0.001               </td><td> 0.000               </td></tr>\n",
       "\t<tr><td>age                  </td><td>-0.008               </td><td>0.003                </td><td>-2.525               </td><td>0.012                </td><td>-0.014               </td><td>-0.002               </td></tr>\n",
       "\t<tr><td>bty_avg              </td><td> 0.032               </td><td>0.018                </td><td> 1.799               </td><td>0.073                </td><td>-0.003               </td><td> 0.066               </td></tr>\n",
       "\t<tr><td>gendermale           </td><td> 0.257               </td><td>0.052                </td><td> 4.924               </td><td>0.000                </td><td> 0.155               </td><td> 0.360               </td></tr>\n",
       "\t<tr><td>ethnicitynot minority</td><td> 0.027               </td><td>0.076                </td><td> 0.351               </td><td>0.726                </td><td>-0.123               </td><td> 0.176               </td></tr>\n",
       "</tbody>\n",
       "</table>\n"
      ],
      "text/latex": [
       "\\begin{tabular}{r|lllllll}\n",
       " term & estimate & std\\_error & statistic & p\\_value & lower\\_ci & upper\\_ci\\\\\n",
       "\\hline\n",
       "\t intercept             &  4.953                & 0.261                 & 18.946                & 0.000                 &  4.439                &  5.467               \\\\\n",
       "\t ID                    & -0.001                & 0.000                 & -2.829                & 0.005                 & -0.001                &  0.000               \\\\\n",
       "\t age                   & -0.008                & 0.003                 & -2.525                & 0.012                 & -0.014                & -0.002               \\\\\n",
       "\t bty\\_avg               &  0.032                  & 0.018                   &  1.799                  & 0.073                   & -0.003                  &  0.066                 \\\\\n",
       "\t gendermale            &  0.257                & 0.052                 &  4.924                & 0.000                 &  0.155                &  0.360               \\\\\n",
       "\t ethnicitynot minority &  0.027                & 0.076                 &  0.351                & 0.726                 & -0.123                &  0.176               \\\\\n",
       "\\end{tabular}\n"
      ],
      "text/markdown": [
       "\n",
       "| term | estimate | std_error | statistic | p_value | lower_ci | upper_ci |\n",
       "|---|---|---|---|---|---|---|\n",
       "| intercept             |  4.953                | 0.261                 | 18.946                | 0.000                 |  4.439                |  5.467                |\n",
       "| ID                    | -0.001                | 0.000                 | -2.829                | 0.005                 | -0.001                |  0.000                |\n",
       "| age                   | -0.008                | 0.003                 | -2.525                | 0.012                 | -0.014                | -0.002                |\n",
       "| bty_avg               |  0.032                | 0.018                 |  1.799                | 0.073                 | -0.003                |  0.066                |\n",
       "| gendermale            |  0.257                | 0.052                 |  4.924                | 0.000                 |  0.155                |  0.360                |\n",
       "| ethnicitynot minority |  0.027                | 0.076                 |  0.351                | 0.726                 | -0.123                |  0.176                |\n",
       "\n"
      ],
      "text/plain": [
       "  term                  estimate std_error statistic p_value lower_ci upper_ci\n",
       "1 intercept              4.953   0.261     18.946    0.000    4.439    5.467  \n",
       "2 ID                    -0.001   0.000     -2.829    0.005   -0.001    0.000  \n",
       "3 age                   -0.008   0.003     -2.525    0.012   -0.014   -0.002  \n",
       "4 bty_avg                0.032   0.018      1.799    0.073   -0.003    0.066  \n",
       "5 gendermale             0.257   0.052      4.924    0.000    0.155    0.360  \n",
       "6 ethnicitynot minority  0.027   0.076      0.351    0.726   -0.123    0.176  "
      ]
     },
     "metadata": {},
     "output_type": "display_data"
    },
    {
     "data": {
      "text/html": [
       "<table>\n",
       "<thead><tr><th scope=col>ID</th><th scope=col>score</th><th scope=col>age</th><th scope=col>bty_avg</th><th scope=col>gender</th><th scope=col>ethnicity</th><th scope=col>language</th><th scope=col>rank</th><th scope=col>pic_outfit</th><th scope=col>pic_color</th><th scope=col>cls_did_eval</th><th scope=col>cls_students</th><th scope=col>cls_level</th><th scope=col>score_hat</th><th scope=col>residual</th></tr></thead>\n",
       "<tbody>\n",
       "\t<tr><td>1           </td><td>4.7         </td><td>36          </td><td>5           </td><td>female      </td><td>minority    </td><td>english     </td><td>tenure track</td><td>not formal  </td><td>color       </td><td>24          </td><td> 43         </td><td>upper       </td><td>4.089       </td><td> 0.611      </td></tr>\n",
       "\t<tr><td>2           </td><td>4.1         </td><td>36          </td><td>5           </td><td>female      </td><td>minority    </td><td>english     </td><td>tenure track</td><td>not formal  </td><td>color       </td><td>86          </td><td>125         </td><td>upper       </td><td>4.190       </td><td>-0.090      </td></tr>\n",
       "\t<tr><td>3           </td><td>3.9         </td><td>36          </td><td>5           </td><td>female      </td><td>minority    </td><td>english     </td><td>tenure track</td><td>not formal  </td><td>color       </td><td>76          </td><td>125         </td><td>upper       </td><td>4.104       </td><td>-0.204      </td></tr>\n",
       "\t<tr><td>4           </td><td>4.8         </td><td>36          </td><td>5           </td><td>female      </td><td>minority    </td><td>english     </td><td>tenure track</td><td>not formal  </td><td>color       </td><td>77          </td><td>123         </td><td>upper       </td><td>4.123       </td><td> 0.677      </td></tr>\n",
       "\t<tr><td>5           </td><td>4.6         </td><td>59          </td><td>3           </td><td>male        </td><td>not minority</td><td>english     </td><td>tenured     </td><td>not formal  </td><td>color       </td><td>17          </td><td> 20         </td><td>upper       </td><td>4.173       </td><td> 0.427      </td></tr>\n",
       "\t<tr><td>6           </td><td>4.3         </td><td>59          </td><td>3           </td><td>male        </td><td>not minority</td><td>english     </td><td>tenured     </td><td>not formal  </td><td>color       </td><td>35          </td><td> 40         </td><td>upper       </td><td>4.222       </td><td> 0.078      </td></tr>\n",
       "</tbody>\n",
       "</table>\n"
      ],
      "text/latex": [
       "\\begin{tabular}{r|lllllllllllllll}\n",
       " ID & score & age & bty\\_avg & gender & ethnicity & language & rank & pic\\_outfit & pic\\_color & cls\\_did\\_eval & cls\\_students & cls\\_level & score\\_hat & residual\\\\\n",
       "\\hline\n",
       "\t 1            & 4.7          & 36           & 5            & female       & minority     & english      & tenure track & not formal   & color        & 24           &  43          & upper        & 4.089        &  0.611      \\\\\n",
       "\t 2            & 4.1          & 36           & 5            & female       & minority     & english      & tenure track & not formal   & color        & 86           & 125          & upper        & 4.190        & -0.090      \\\\\n",
       "\t 3            & 3.9          & 36           & 5            & female       & minority     & english      & tenure track & not formal   & color        & 76           & 125          & upper        & 4.104        & -0.204      \\\\\n",
       "\t 4            & 4.8          & 36           & 5            & female       & minority     & english      & tenure track & not formal   & color        & 77           & 123          & upper        & 4.123        &  0.677      \\\\\n",
       "\t 5            & 4.6          & 59           & 3            & male         & not minority & english      & tenured      & not formal   & color        & 17           &  20          & upper        & 4.173        &  0.427      \\\\\n",
       "\t 6            & 4.3          & 59           & 3            & male         & not minority & english      & tenured      & not formal   & color        & 35           &  40          & upper        & 4.222        &  0.078      \\\\\n",
       "\\end{tabular}\n"
      ],
      "text/markdown": [
       "\n",
       "| ID | score | age | bty_avg | gender | ethnicity | language | rank | pic_outfit | pic_color | cls_did_eval | cls_students | cls_level | score_hat | residual |\n",
       "|---|---|---|---|---|---|---|---|---|---|---|---|---|---|---|\n",
       "| 1            | 4.7          | 36           | 5            | female       | minority     | english      | tenure track | not formal   | color        | 24           |  43          | upper        | 4.089        |  0.611       |\n",
       "| 2            | 4.1          | 36           | 5            | female       | minority     | english      | tenure track | not formal   | color        | 86           | 125          | upper        | 4.190        | -0.090       |\n",
       "| 3            | 3.9          | 36           | 5            | female       | minority     | english      | tenure track | not formal   | color        | 76           | 125          | upper        | 4.104        | -0.204       |\n",
       "| 4            | 4.8          | 36           | 5            | female       | minority     | english      | tenure track | not formal   | color        | 77           | 123          | upper        | 4.123        |  0.677       |\n",
       "| 5            | 4.6          | 59           | 3            | male         | not minority | english      | tenured      | not formal   | color        | 17           |  20          | upper        | 4.173        |  0.427       |\n",
       "| 6            | 4.3          | 59           | 3            | male         | not minority | english      | tenured      | not formal   | color        | 35           |  40          | upper        | 4.222        |  0.078       |\n",
       "\n"
      ],
      "text/plain": [
       "  ID score age bty_avg gender ethnicity    language rank         pic_outfit\n",
       "1 1  4.7   36  5       female minority     english  tenure track not formal\n",
       "2 2  4.1   36  5       female minority     english  tenure track not formal\n",
       "3 3  3.9   36  5       female minority     english  tenure track not formal\n",
       "4 4  4.8   36  5       female minority     english  tenure track not formal\n",
       "5 5  4.6   59  3       male   not minority english  tenured      not formal\n",
       "6 6  4.3   59  3       male   not minority english  tenured      not formal\n",
       "  pic_color cls_did_eval cls_students cls_level score_hat residual\n",
       "1 color     24            43          upper     4.089      0.611  \n",
       "2 color     86           125          upper     4.190     -0.090  \n",
       "3 color     76           125          upper     4.104     -0.204  \n",
       "4 color     77           123          upper     4.123      0.677  \n",
       "5 color     17            20          upper     4.173      0.427  \n",
       "6 color     35            40          upper     4.222      0.078  "
      ]
     },
     "metadata": {},
     "output_type": "display_data"
    }
   ],
   "source": [
    "# building a model with all variables as predictors\n",
    "reg_model_all_pred_var <-\n",
    "lm(score~., data=evals)\n",
    "\n",
    "reg_model_all_pred_var\n",
    "summary(reg_model_all_pred_var)\n",
    "head(get_regression_table(reg_model_all_pred_var))\n",
    "head(get_regression_points(reg_model_all_pred_var))\n",
    "\n"
   ]
  },
  {
   "cell_type": "code",
   "execution_count": 257,
   "metadata": {},
   "outputs": [
    {
     "data": {
      "image/png": "[encoded data removed]",
      "text/plain": [
       "plot without title"
      ]
     },
     "metadata": {},
     "output_type": "display_data"
    }
   ],
   "source": [
    "# visualize residuals\n",
    "\n",
    "get_regression_points(reg_model_all_pred_var) %>% \n",
    "ggplot(aes(x=residual)) +\n",
    "geom_histogram(color=\"pink\", fill=\"yellow\", bins=20)+\n",
    "labs(x=\"Count\", y=\"Residuals\", title=\"Residuals of model predicting teaching scores with all predictor variables\" )"
   ]
  },
  {
   "cell_type": "code",
   "execution_count": 258,
   "metadata": {},
   "outputs": [
    {
     "data": {
      "text/html": [
       "0.496810538127208"
      ],
      "text/latex": [
       "0.496810538127208"
      ],
      "text/markdown": [
       "0.496810538127208"
      ],
      "text/plain": [
       "[1] 0.4968105"
      ]
     },
     "metadata": {},
     "output_type": "display_data"
    }
   ],
   "source": [
    "# predicting with reg_model_all_pred_var\n",
    "\n",
    "reg_model_all_pred_var_pred <- \n",
    "predict(reg_model_all_pred_var)\n",
    "\n",
    "rmse(evals$score, reg_model_all_pred_var_pred )\n",
    "\n",
    "# Incorporating all variables as predictor variables in the model resuls in an improved rmse\n",
    "# Next: sort out variables with insignificant p-values"
   ]
  },
  {
   "cell_type": "code",
   "execution_count": 259,
   "metadata": {},
   "outputs": [
    {
     "name": "stdout",
     "output_type": "stream",
     "text": [
      "Classes 'tbl_df', 'tbl' and 'data.frame':\t463 obs. of  13 variables:\n",
      " $ ID          : int  1 2 3 4 5 6 7 8 9 10 ...\n",
      " $ score       : num  4.7 4.1 3.9 4.8 4.6 4.3 2.8 4.1 3.4 4.5 ...\n",
      " $ age         : int  36 36 36 36 59 59 59 51 51 40 ...\n",
      " $ bty_avg     : num  5 5 5 5 3 ...\n",
      " $ gender      : Factor w/ 2 levels \"female\",\"male\": 1 1 1 1 2 2 2 2 2 1 ...\n",
      " $ ethnicity   : Factor w/ 2 levels \"minority\",\"not minority\": 1 1 1 1 2 2 2 2 2 2 ...\n",
      " $ language    : Factor w/ 2 levels \"english\",\"non-english\": 1 1 1 1 1 1 1 1 1 1 ...\n",
      " $ rank        : Factor w/ 3 levels \"teaching\",\"tenure track\",..: 2 2 2 2 3 3 3 3 3 3 ...\n",
      " $ pic_outfit  : Factor w/ 2 levels \"formal\",\"not formal\": 2 2 2 2 2 2 2 2 2 2 ...\n",
      " $ pic_color   : Factor w/ 2 levels \"black&white\",..: 2 2 2 2 2 2 2 2 2 2 ...\n",
      " $ cls_did_eval: int  24 86 76 77 17 35 39 55 111 40 ...\n",
      " $ cls_students: int  43 125 125 123 20 40 44 55 195 46 ...\n",
      " $ cls_level   : Factor w/ 2 levels \"lower\",\"upper\": 2 2 2 2 2 2 2 2 2 2 ...\n"
     ]
    }
   ],
   "source": [
    "# Feature engineering\n",
    "str(evals)"
   ]
  },
  {
   "cell_type": "code",
   "execution_count": 260,
   "metadata": {},
   "outputs": [
    {
     "data": {
      "text/plain": [
       "\n",
       "Call:\n",
       "lm(formula = score ~ age + gender + language + rank + pic_outfit + \n",
       "    pic_color + cls_did_eval + cls_students, data = evals)\n",
       "\n",
       "Residuals:\n",
       "     Min       1Q   Median       3Q      Max \n",
       "-1.70119 -0.35544  0.06943  0.39573  1.01461 \n",
       "\n",
       "Coefficients:\n",
       "                      Estimate Std. Error t value Pr(>|t|)    \n",
       "(Intercept)           5.058006   0.195107  25.924  < 2e-16 ***\n",
       "age                  -0.010846   0.003079  -3.523 0.000470 ***\n",
       "gendermale            0.253706   0.051802   4.898 1.35e-06 ***\n",
       "languagenon-english  -0.304439   0.107009  -2.845 0.004643 ** \n",
       "ranktenure track     -0.200356   0.082252  -2.436 0.015240 *  \n",
       "ranktenured          -0.205856   0.062829  -3.276 0.001132 ** \n",
       "pic_outfitnot formal -0.149420   0.072593  -2.058 0.040129 *  \n",
       "pic_colorcolor       -0.287384   0.065242  -4.405 1.32e-05 ***\n",
       "cls_did_eval          0.008488   0.002261   3.754 0.000197 ***\n",
       "cls_students         -0.004989   0.001366  -3.653 0.000290 ***\n",
       "---\n",
       "Signif. codes:  0 '***' 0.001 '**' 0.01 '*' 0.05 '.' 0.1 ' ' 1\n",
       "\n",
       "Residual standard error: 0.5086 on 453 degrees of freedom\n",
       "Multiple R-squared:  0.1426,\tAdjusted R-squared:  0.1255 \n",
       "F-statistic: 8.369 on 9 and 453 DF,  p-value: 1.387e-11\n"
      ]
     },
     "metadata": {},
     "output_type": "display_data"
    },
    {
     "data": {
      "text/html": [
       "<table>\n",
       "<thead><tr><th scope=col>term</th><th scope=col>estimate</th><th scope=col>std_error</th><th scope=col>statistic</th><th scope=col>p_value</th><th scope=col>lower_ci</th><th scope=col>upper_ci</th></tr></thead>\n",
       "<tbody>\n",
       "\t<tr><td>intercept           </td><td> 5.058              </td><td>0.195               </td><td>25.924              </td><td>0.000               </td><td> 4.675              </td><td> 5.441              </td></tr>\n",
       "\t<tr><td>age                 </td><td>-0.011              </td><td>0.003               </td><td>-3.523              </td><td>0.000               </td><td>-0.017              </td><td>-0.005              </td></tr>\n",
       "\t<tr><td>gendermale          </td><td> 0.254              </td><td>0.052               </td><td> 4.898              </td><td>0.000               </td><td> 0.152              </td><td> 0.356              </td></tr>\n",
       "\t<tr><td>languagenon-english </td><td>-0.304              </td><td>0.107               </td><td>-2.845              </td><td>0.005               </td><td>-0.515              </td><td>-0.094              </td></tr>\n",
       "\t<tr><td>ranktenure track    </td><td>-0.200              </td><td>0.082               </td><td>-2.436              </td><td>0.015               </td><td>-0.362              </td><td>-0.039              </td></tr>\n",
       "\t<tr><td>ranktenured         </td><td>-0.206              </td><td>0.063               </td><td>-3.276              </td><td>0.001               </td><td>-0.329              </td><td>-0.082              </td></tr>\n",
       "\t<tr><td>pic_outfitnot formal</td><td>-0.149              </td><td>0.073               </td><td>-2.058              </td><td>0.040               </td><td>-0.292              </td><td>-0.007              </td></tr>\n",
       "\t<tr><td>pic_colorcolor      </td><td>-0.287              </td><td>0.065               </td><td>-4.405              </td><td>0.000               </td><td>-0.416              </td><td>-0.159              </td></tr>\n",
       "\t<tr><td>cls_did_eval        </td><td> 0.008              </td><td>0.002               </td><td> 3.754              </td><td>0.000               </td><td> 0.004              </td><td> 0.013              </td></tr>\n",
       "\t<tr><td>cls_students        </td><td>-0.005              </td><td>0.001               </td><td>-3.653              </td><td>0.000               </td><td>-0.008              </td><td>-0.002              </td></tr>\n",
       "</tbody>\n",
       "</table>\n"
      ],
      "text/latex": [
       "\\begin{tabular}{r|lllllll}\n",
       " term & estimate & std\\_error & statistic & p\\_value & lower\\_ci & upper\\_ci\\\\\n",
       "\\hline\n",
       "\t intercept            &  5.058               & 0.195                & 25.924               & 0.000                &  4.675               &  5.441              \\\\\n",
       "\t age                  & -0.011               & 0.003                & -3.523               & 0.000                & -0.017               & -0.005              \\\\\n",
       "\t gendermale           &  0.254               & 0.052                &  4.898               & 0.000                &  0.152               &  0.356              \\\\\n",
       "\t languagenon-english  & -0.304               & 0.107                & -2.845               & 0.005                & -0.515               & -0.094              \\\\\n",
       "\t ranktenure track     & -0.200               & 0.082                & -2.436               & 0.015                & -0.362               & -0.039              \\\\\n",
       "\t ranktenured          & -0.206               & 0.063                & -3.276               & 0.001                & -0.329               & -0.082              \\\\\n",
       "\t pic\\_outfitnot formal & -0.149                 & 0.073                  & -2.058                 & 0.040                  & -0.292                 & -0.007                \\\\\n",
       "\t pic\\_colorcolor       & -0.287                 & 0.065                  & -4.405                 & 0.000                  & -0.416                 & -0.159                \\\\\n",
       "\t cls\\_did\\_eval         &  0.008                   & 0.002                    &  3.754                   & 0.000                    &  0.004                   &  0.013                  \\\\\n",
       "\t cls\\_students         & -0.005                 & 0.001                  & -3.653                 & 0.000                  & -0.008                 & -0.002                \\\\\n",
       "\\end{tabular}\n"
      ],
      "text/markdown": [
       "\n",
       "| term | estimate | std_error | statistic | p_value | lower_ci | upper_ci |\n",
       "|---|---|---|---|---|---|---|\n",
       "| intercept            |  5.058               | 0.195                | 25.924               | 0.000                |  4.675               |  5.441               |\n",
       "| age                  | -0.011               | 0.003                | -3.523               | 0.000                | -0.017               | -0.005               |\n",
       "| gendermale           |  0.254               | 0.052                |  4.898               | 0.000                |  0.152               |  0.356               |\n",
       "| languagenon-english  | -0.304               | 0.107                | -2.845               | 0.005                | -0.515               | -0.094               |\n",
       "| ranktenure track     | -0.200               | 0.082                | -2.436               | 0.015                | -0.362               | -0.039               |\n",
       "| ranktenured          | -0.206               | 0.063                | -3.276               | 0.001                | -0.329               | -0.082               |\n",
       "| pic_outfitnot formal | -0.149               | 0.073                | -2.058               | 0.040                | -0.292               | -0.007               |\n",
       "| pic_colorcolor       | -0.287               | 0.065                | -4.405               | 0.000                | -0.416               | -0.159               |\n",
       "| cls_did_eval         |  0.008               | 0.002                |  3.754               | 0.000                |  0.004               |  0.013               |\n",
       "| cls_students         | -0.005               | 0.001                | -3.653               | 0.000                | -0.008               | -0.002               |\n",
       "\n"
      ],
      "text/plain": [
       "   term                 estimate std_error statistic p_value lower_ci upper_ci\n",
       "1  intercept             5.058   0.195     25.924    0.000    4.675    5.441  \n",
       "2  age                  -0.011   0.003     -3.523    0.000   -0.017   -0.005  \n",
       "3  gendermale            0.254   0.052      4.898    0.000    0.152    0.356  \n",
       "4  languagenon-english  -0.304   0.107     -2.845    0.005   -0.515   -0.094  \n",
       "5  ranktenure track     -0.200   0.082     -2.436    0.015   -0.362   -0.039  \n",
       "6  ranktenured          -0.206   0.063     -3.276    0.001   -0.329   -0.082  \n",
       "7  pic_outfitnot formal -0.149   0.073     -2.058    0.040   -0.292   -0.007  \n",
       "8  pic_colorcolor       -0.287   0.065     -4.405    0.000   -0.416   -0.159  \n",
       "9  cls_did_eval          0.008   0.002      3.754    0.000    0.004    0.013  \n",
       "10 cls_students         -0.005   0.001     -3.653    0.000   -0.008   -0.002  "
      ]
     },
     "metadata": {},
     "output_type": "display_data"
    },
    {
     "data": {
      "text/html": [
       "<table>\n",
       "<thead><tr><th scope=col>ID</th><th scope=col>score</th><th scope=col>age</th><th scope=col>gender</th><th scope=col>language</th><th scope=col>rank</th><th scope=col>pic_outfit</th><th scope=col>pic_color</th><th scope=col>cls_did_eval</th><th scope=col>cls_students</th><th scope=col>score_hat</th><th scope=col>residual</th></tr></thead>\n",
       "<tbody>\n",
       "\t<tr><td>1           </td><td>4.7         </td><td>36          </td><td>female      </td><td>english     </td><td>tenure track</td><td>not formal  </td><td>color       </td><td>24          </td><td> 43         </td><td>4.020       </td><td> 0.680      </td></tr>\n",
       "\t<tr><td>2           </td><td>4.1         </td><td>36          </td><td>female      </td><td>english     </td><td>tenure track</td><td>not formal  </td><td>color       </td><td>86          </td><td>125         </td><td>4.137       </td><td>-0.037      </td></tr>\n",
       "\t<tr><td>3           </td><td>3.9         </td><td>36          </td><td>female      </td><td>english     </td><td>tenure track</td><td>not formal  </td><td>color       </td><td>76          </td><td>125         </td><td>4.052       </td><td>-0.152      </td></tr>\n",
       "\t<tr><td>4           </td><td>4.8         </td><td>36          </td><td>female      </td><td>english     </td><td>tenure track</td><td>not formal  </td><td>color       </td><td>77          </td><td>123         </td><td>4.070       </td><td> 0.730      </td></tr>\n",
       "\t<tr><td>5           </td><td>4.6         </td><td>59          </td><td>male        </td><td>english     </td><td>tenured     </td><td>not formal  </td><td>color       </td><td>17          </td><td> 20         </td><td>4.074       </td><td> 0.526      </td></tr>\n",
       "\t<tr><td>6           </td><td>4.3         </td><td>59          </td><td>male        </td><td>english     </td><td>tenured     </td><td>not formal  </td><td>color       </td><td>35          </td><td> 40         </td><td>4.127       </td><td> 0.173      </td></tr>\n",
       "</tbody>\n",
       "</table>\n"
      ],
      "text/latex": [
       "\\begin{tabular}{r|llllllllllll}\n",
       " ID & score & age & gender & language & rank & pic\\_outfit & pic\\_color & cls\\_did\\_eval & cls\\_students & score\\_hat & residual\\\\\n",
       "\\hline\n",
       "\t 1            & 4.7          & 36           & female       & english      & tenure track & not formal   & color        & 24           &  43          & 4.020        &  0.680      \\\\\n",
       "\t 2            & 4.1          & 36           & female       & english      & tenure track & not formal   & color        & 86           & 125          & 4.137        & -0.037      \\\\\n",
       "\t 3            & 3.9          & 36           & female       & english      & tenure track & not formal   & color        & 76           & 125          & 4.052        & -0.152      \\\\\n",
       "\t 4            & 4.8          & 36           & female       & english      & tenure track & not formal   & color        & 77           & 123          & 4.070        &  0.730      \\\\\n",
       "\t 5            & 4.6          & 59           & male         & english      & tenured      & not formal   & color        & 17           &  20          & 4.074        &  0.526      \\\\\n",
       "\t 6            & 4.3          & 59           & male         & english      & tenured      & not formal   & color        & 35           &  40          & 4.127        &  0.173      \\\\\n",
       "\\end{tabular}\n"
      ],
      "text/markdown": [
       "\n",
       "| ID | score | age | gender | language | rank | pic_outfit | pic_color | cls_did_eval | cls_students | score_hat | residual |\n",
       "|---|---|---|---|---|---|---|---|---|---|---|---|\n",
       "| 1            | 4.7          | 36           | female       | english      | tenure track | not formal   | color        | 24           |  43          | 4.020        |  0.680       |\n",
       "| 2            | 4.1          | 36           | female       | english      | tenure track | not formal   | color        | 86           | 125          | 4.137        | -0.037       |\n",
       "| 3            | 3.9          | 36           | female       | english      | tenure track | not formal   | color        | 76           | 125          | 4.052        | -0.152       |\n",
       "| 4            | 4.8          | 36           | female       | english      | tenure track | not formal   | color        | 77           | 123          | 4.070        |  0.730       |\n",
       "| 5            | 4.6          | 59           | male         | english      | tenured      | not formal   | color        | 17           |  20          | 4.074        |  0.526       |\n",
       "| 6            | 4.3          | 59           | male         | english      | tenured      | not formal   | color        | 35           |  40          | 4.127        |  0.173       |\n",
       "\n"
      ],
      "text/plain": [
       "  ID score age gender language rank         pic_outfit pic_color cls_did_eval\n",
       "1 1  4.7   36  female english  tenure track not formal color     24          \n",
       "2 2  4.1   36  female english  tenure track not formal color     86          \n",
       "3 3  3.9   36  female english  tenure track not formal color     76          \n",
       "4 4  4.8   36  female english  tenure track not formal color     77          \n",
       "5 5  4.6   59  male   english  tenured      not formal color     17          \n",
       "6 6  4.3   59  male   english  tenured      not formal color     35          \n",
       "  cls_students score_hat residual\n",
       "1  43          4.020      0.680  \n",
       "2 125          4.137     -0.037  \n",
       "3 125          4.052     -0.152  \n",
       "4 123          4.070      0.730  \n",
       "5  20          4.074      0.526  \n",
       "6  40          4.127      0.173  "
      ]
     },
     "metadata": {},
     "output_type": "display_data"
    }
   ],
   "source": [
    "# Discard ID: ID  a predictor makes not sense\n",
    "# age + gender + language + rank + pic_outfitnotformal + pic_color + cls_did_eval + cls_students   \n",
    "# select only variables with a significant p-value below 0.05\n",
    "\n",
    "reg_model_selected_variables <-\n",
    "lm(score ~ age + gender + language + rank +  pic_outfit + \n",
    "   pic_color + cls_did_eval + cls_students, data=evals)\n",
    "\n",
    "summary(reg_model_selected_variables)\n",
    "\n",
    "reg_model_selected_variables_table <-\n",
    "get_regression_table(reg_model_selected_variables)\n",
    "reg_model_selected_variables_residuals <-\n",
    "get_regression_points(reg_model_selected_variables)\n",
    "\n",
    "reg_model_selected_variables_table\n",
    "\n",
    "head(reg_model_selected_variables_residuals)"
   ]
  },
  {
   "cell_type": "code",
   "execution_count": 261,
   "metadata": {},
   "outputs": [
    {
     "data": {
      "text/html": [
       "<table>\n",
       "<thead><tr><th scope=col>SSR</th></tr></thead>\n",
       "<tbody>\n",
       "\t<tr><td>117.1716</td></tr>\n",
       "</tbody>\n",
       "</table>\n"
      ],
      "text/latex": [
       "\\begin{tabular}{r|l}\n",
       " SSR\\\\\n",
       "\\hline\n",
       "\t 117.1716\\\\\n",
       "\\end{tabular}\n"
      ],
      "text/markdown": [
       "\n",
       "| SSR |\n",
       "|---|\n",
       "| 117.1716 |\n",
       "\n"
      ],
      "text/plain": [
       "  SSR     \n",
       "1 117.1716"
      ]
     },
     "metadata": {},
     "output_type": "display_data"
    },
    {
     "data": {
      "text/html": [
       "0.503062402120685"
      ],
      "text/latex": [
       "0.503062402120685"
      ],
      "text/markdown": [
       "0.503062402120685"
      ],
      "text/plain": [
       "[1] 0.5030624"
      ]
     },
     "metadata": {},
     "output_type": "display_data"
    }
   ],
   "source": [
    "reg_model_selected_variables_pred <-\n",
    "predict(reg_model_selected_variables)\n",
    "\n",
    "# Sum of squared residuals\n",
    "get_regression_points(reg_model_selected_variables) %>% mutate(SR=residual^2) %>% summarize(SSR=sum(SR))\n",
    "\n",
    "rmse(evals$score, reg_model_selected_variables_pred)"
   ]
  },
  {
   "cell_type": "code",
   "execution_count": 262,
   "metadata": {},
   "outputs": [
    {
     "data": {
      "text/html": [
       "<table>\n",
       "<thead><tr><th scope=col>reg_model_all_pred_var</th><th scope=col>reg_model_selected_variables</th><th scope=col>reg_score_age_beauty_interaction</th><th scope=col>reg_model_score_age_gender</th><th scope=col>reg_score_age_beauty</th><th scope=col>model_score_beauty</th><th scope=col>reg_model_sc_rank</th><th scope=col>reg_score_age</th></tr></thead>\n",
       "<tbody>\n",
       "\t<tr><td>reg_model_all_pred_var          </td><td>reg_model_selected_variables    </td><td>reg_score_age_beauty_interaction</td><td>reg_model_score_age_gender      </td><td>reg_score_age_beauty            </td><td>model_score_beauty              </td><td>reg_model_sc_rank               </td><td>reg_score_age                   </td></tr>\n",
       "\t<tr><td>114.275028                      </td><td>117.171615                      </td><td>128.321091                      </td><td>131.315105                      </td><td>131.463158                      </td><td>131.878518                      </td><td>135.065225                      </td><td>135.075843                      </td></tr>\n",
       "</tbody>\n",
       "</table>\n"
      ],
      "text/latex": [
       "\\begin{tabular}{llllllll}\n",
       " reg\\_model\\_all\\_pred\\_var & reg\\_model\\_selected\\_variables & reg\\_score\\_age\\_beauty\\_interaction & reg\\_model\\_score\\_age\\_gender & reg\\_score\\_age\\_beauty & model\\_score\\_beauty & reg\\_model\\_sc\\_rank & reg\\_score\\_age\\\\\n",
       "\\hline\n",
       "\t reg\\_model\\_all\\_pred\\_var           & reg\\_model\\_selected\\_variables       & reg\\_score\\_age\\_beauty\\_interaction & reg\\_model\\_score\\_age\\_gender       & reg\\_score\\_age\\_beauty               & model\\_score\\_beauty                   & reg\\_model\\_sc\\_rank                  & reg\\_score\\_age                       \\\\\n",
       "\t 114.275028                       & 117.171615                       & 128.321091                       & 131.315105                       & 131.463158                       & 131.878518                       & 135.065225                       & 135.075843                      \\\\\n",
       "\\end{tabular}\n"
      ],
      "text/markdown": [
       "\n",
       "| reg_model_all_pred_var | reg_model_selected_variables | reg_score_age_beauty_interaction | reg_model_score_age_gender | reg_score_age_beauty | model_score_beauty | reg_model_sc_rank | reg_score_age |\n",
       "|---|---|---|---|---|---|---|---|\n",
       "| reg_model_all_pred_var           | reg_model_selected_variables     | reg_score_age_beauty_interaction | reg_model_score_age_gender       | reg_score_age_beauty             | model_score_beauty               | reg_model_sc_rank                | reg_score_age                    |\n",
       "| 114.275028                       | 117.171615                       | 128.321091                       | 131.315105                       | 131.463158                       | 131.878518                       | 135.065225                       | 135.075843                       |\n",
       "\n"
      ],
      "text/plain": [
       "     reg_model_all_pred_var reg_model_selected_variables\n",
       "[1,] reg_model_all_pred_var reg_model_selected_variables\n",
       "[2,] 114.275028             117.171615                  \n",
       "     reg_score_age_beauty_interaction reg_model_score_age_gender\n",
       "[1,] reg_score_age_beauty_interaction reg_model_score_age_gender\n",
       "[2,] 128.321091                       131.315105                \n",
       "     reg_score_age_beauty model_score_beauty reg_model_sc_rank reg_score_age\n",
       "[1,] reg_score_age_beauty model_score_beauty reg_model_sc_rank reg_score_age\n",
       "[2,] 131.463158           131.878518         135.065225        135.075843   "
      ]
     },
     "metadata": {},
     "output_type": "display_data"
    }
   ],
   "source": [
    "\n",
    "# Model assesment of all developed models using RSS\n",
    "# Writing a function finding RSS over many lm models\n",
    "# Using a foor loop extracting RSS and model name\n",
    "\n",
    "# Input lists\n",
    "\n",
    "\n",
    "\n",
    "\n",
    "Reg_models <- list(reg_model_selected_variables, \n",
    "                   reg_model_all_pred_var,\n",
    "                   model_score_beauty,\n",
    "                   reg_model_score_age_gender,\n",
    "                   reg_model_sc_rank,\n",
    "                   reg_score_age_beauty_interaction,\n",
    "                   reg_score_age_beauty,\n",
    "                   reg_score_age)\n",
    "\n",
    "\n",
    "Reg_models_names <- list(\"reg_model_selected_variables\", \n",
    "                          \"reg_model_all_pred_var\",\n",
    "                          \"model_score_beauty\",\n",
    "                          \"reg_model_score_age_gender\",\n",
    "                          \"reg_model_sc_rank\",\n",
    "                          \"reg_score_age_beauty_interaction\",\n",
    "                          \"reg_score_age_beauty\",\n",
    "                          \"reg_score_age\")\n",
    "\n",
    "\n",
    "\n",
    "\n",
    "RSS_finding_for_many_models <- \n",
    "\n",
    "function(regression_models, regression_model_names){\n",
    "    \n",
    "        RSS_vector <- c()\n",
    "        RSS_reg_model_names <- c()\n",
    "    \n",
    "        for (i in 1:length(regression_models)) {\n",
    "        \n",
    "\n",
    "    \n",
    "        RSS <- get_regression_points(regression_models[[i]]) %>% mutate(RS=residual^2) %>% summarize(RSS=sum(RS))\n",
    "        # Sum of residuals square\n",
    "        # RSS <- as.numeric(RSS)\n",
    "        # RSS_vector[i] <- RSS\n",
    "        \n",
    "        RSS_vector[i] <- RSS\n",
    "        RSS_reg_model_names[i] <- regression_model_names[[i]]\n",
    "        \n",
    "        \n",
    "        \n",
    "    }\n",
    "    \n",
    "    mapped <- mapply(c, RSS_reg_model_names, RSS_vector )\n",
    "    mapped <- mapped[, order(mapped[2,])]\n",
    "    return(mapped)\n",
    "}\n",
    "\n",
    "\n",
    "RSS_finding_for_many_models(Reg_models, Reg_models_names)\n",
    "\n",
    "\n",
    "# Conclusion:\n",
    "# The model \"reg_model_all_pred_var\" - model using all predictor variables including ID has the lowest RSS\n",
    "# This model delivers therefore according to RRS the best predictions.\n",
    "# Lm with power transformed values could deliver better results.\n"
   ]
  },
  {
   "cell_type": "code",
   "execution_count": 263,
   "metadata": {},
   "outputs": [
    {
     "data": {
      "text/html": [
       "<table>\n",
       "<thead><tr><th scope=col>reg_model_all_pred_var</th><th scope=col>reg_model_selected_variables</th><th scope=col>reg_score_age_beauty_interaction</th><th scope=col>reg_model_score_age_gender</th><th scope=col>reg_score_age_beauty</th><th scope=col>model_score_beauty</th><th scope=col>reg_model_sc_rank</th><th scope=col>reg_score_age</th></tr></thead>\n",
       "<tbody>\n",
       "\t<tr><td>reg_model_all_pred_var          </td><td>reg_model_selected_variables    </td><td>reg_score_age_beauty_interaction</td><td>reg_model_score_age_gender      </td><td>reg_score_age_beauty            </td><td>model_score_beauty              </td><td>reg_model_sc_rank               </td><td>reg_score_age                   </td></tr>\n",
       "\t<tr><td>0.163765841959724               </td><td>0.142569391313171               </td><td>0.0609805014338333              </td><td>0.0390711060018689              </td><td>0.0379876936591449              </td><td>0.034948200027311               </td><td>0.0116287286458117              </td><td>0.0115510289554641              </td></tr>\n",
       "</tbody>\n",
       "</table>\n"
      ],
      "text/latex": [
       "\\begin{tabular}{llllllll}\n",
       " reg\\_model\\_all\\_pred\\_var & reg\\_model\\_selected\\_variables & reg\\_score\\_age\\_beauty\\_interaction & reg\\_model\\_score\\_age\\_gender & reg\\_score\\_age\\_beauty & model\\_score\\_beauty & reg\\_model\\_sc\\_rank & reg\\_score\\_age\\\\\n",
       "\\hline\n",
       "\t reg\\_model\\_all\\_pred\\_var           & reg\\_model\\_selected\\_variables       & reg\\_score\\_age\\_beauty\\_interaction & reg\\_model\\_score\\_age\\_gender       & reg\\_score\\_age\\_beauty               & model\\_score\\_beauty                   & reg\\_model\\_sc\\_rank                  & reg\\_score\\_age                       \\\\\n",
       "\t 0.163765841959724                & 0.142569391313171                & 0.0609805014338333               & 0.0390711060018689               & 0.0379876936591449               & 0.034948200027311                & 0.0116287286458117               & 0.0115510289554641              \\\\\n",
       "\\end{tabular}\n"
      ],
      "text/markdown": [
       "\n",
       "| reg_model_all_pred_var | reg_model_selected_variables | reg_score_age_beauty_interaction | reg_model_score_age_gender | reg_score_age_beauty | model_score_beauty | reg_model_sc_rank | reg_score_age |\n",
       "|---|---|---|---|---|---|---|---|\n",
       "| reg_model_all_pred_var           | reg_model_selected_variables     | reg_score_age_beauty_interaction | reg_model_score_age_gender       | reg_score_age_beauty             | model_score_beauty               | reg_model_sc_rank                | reg_score_age                    |\n",
       "| 0.163765841959724                | 0.142569391313171                | 0.0609805014338333               | 0.0390711060018689               | 0.0379876936591449               | 0.034948200027311                | 0.0116287286458117               | 0.0115510289554641               |\n",
       "\n"
      ],
      "text/plain": [
       "     reg_model_all_pred_var reg_model_selected_variables\n",
       "[1,] reg_model_all_pred_var reg_model_selected_variables\n",
       "[2,] 0.163765841959724      0.142569391313171           \n",
       "     reg_score_age_beauty_interaction reg_model_score_age_gender\n",
       "[1,] reg_score_age_beauty_interaction reg_model_score_age_gender\n",
       "[2,] 0.0609805014338333               0.0390711060018689        \n",
       "     reg_score_age_beauty model_score_beauty reg_model_sc_rank \n",
       "[1,] reg_score_age_beauty model_score_beauty reg_model_sc_rank \n",
       "[2,] 0.0379876936591449   0.034948200027311  0.0116287286458117\n",
       "     reg_score_age     \n",
       "[1,] reg_score_age     \n",
       "[2,] 0.0115510289554641"
      ]
     },
     "metadata": {},
     "output_type": "display_data"
    }
   ],
   "source": [
    "\n",
    "# Writing a function calculating the R-squared over all models\n",
    "# R2 is a measure of model fit\n",
    "\n",
    "R_squared_calc_over_many_models <- \n",
    "function(regression_models, R_squared_reg_model_names, dependent_variable){\n",
    "    \n",
    "    R_squared_vector <- c()\n",
    "    R_squared_names_vector<- c()\n",
    "    \n",
    "    for (i in 1:length(regression_models)) {\n",
    "    \n",
    "    RSS <- get_regression_points(regression_models[[i]])  %>% mutate(RS=residual^2) %>% summarize(RSS=sum(RS))\n",
    "    \n",
    "    RSS <- as.numeric(RSS)\n",
    "    \n",
    "    # Total sum of square\n",
    "    \n",
    "    Deviation_Mean <- (dependent_variable - mean(dependent_variable))^2\n",
    "    TSS <- sum(Deviation_Mean)\n",
    "    \n",
    "    R_squared <- 1- RSS / TSS\n",
    "    \n",
    "    R_squared_vector[i] <- R_squared\n",
    "    R_squared_names_vector[i] <- R_squared_reg_model_names[[i]]\n",
    "    \n",
    "    }\n",
    "    \n",
    "    mapped <- mapply(c, R_squared_names_vector, R_squared_vector)\n",
    "    mapped <- mapped[, order(mapped[2,], decreasing = TRUE)]\n",
    "    return(mapped)\n",
    "    \n",
    "}\n",
    "\n",
    "\n",
    "\n",
    "R_squared_calc_over_many_models(regression_models=Reg_models, \n",
    "                                R_squared_reg_model_names=Reg_models_names, \n",
    "                                dependent_variable=evals$score)\n",
    "\n",
    "\n",
    "\n",
    "# The model \"reg_model_all_pred_var\" has the highest r-squared with 0.163765841959724\n",
    "# This supports the conclusion with the RSS\n",
    "# However the R-squared is not very good.\n",
    "# Transforming the variable can result in better predictions.\n",
    "\n"
   ]
  },
  {
   "cell_type": "code",
   "execution_count": 264,
   "metadata": {},
   "outputs": [
    {
     "data": {
      "text/html": [
       "<table>\n",
       "<thead><tr><th scope=col>reg_model_all_pred_var</th><th scope=col>reg_model_selected_variables</th><th scope=col>reg_score_age_beauty_interaction</th><th scope=col>reg_model_score_age_gender</th><th scope=col>reg_score_age_beauty</th><th scope=col>model_score_beauty</th><th scope=col>reg_model_sc_rank</th><th scope=col>reg_score_age</th></tr></thead>\n",
       "<tbody>\n",
       "\t<tr><td>reg_model_all_pred_var          </td><td>reg_model_selected_variables    </td><td>reg_score_age_beauty_interaction</td><td>reg_model_score_age_gender      </td><td>reg_score_age_beauty            </td><td>model_score_beauty              </td><td>reg_model_sc_rank               </td><td>reg_score_age                   </td></tr>\n",
       "\t<tr><td>0.496810538127208               </td><td>0.503062402120685               </td><td>0.52645713368483                </td><td>0.532573498183805               </td><td>0.532915294230919               </td><td>0.533678698301285               </td><td>0.540108772025648               </td><td>0.540156066212147               </td></tr>\n",
       "</tbody>\n",
       "</table>\n"
      ],
      "text/latex": [
       "\\begin{tabular}{llllllll}\n",
       " reg\\_model\\_all\\_pred\\_var & reg\\_model\\_selected\\_variables & reg\\_score\\_age\\_beauty\\_interaction & reg\\_model\\_score\\_age\\_gender & reg\\_score\\_age\\_beauty & model\\_score\\_beauty & reg\\_model\\_sc\\_rank & reg\\_score\\_age\\\\\n",
       "\\hline\n",
       "\t reg\\_model\\_all\\_pred\\_var           & reg\\_model\\_selected\\_variables       & reg\\_score\\_age\\_beauty\\_interaction & reg\\_model\\_score\\_age\\_gender       & reg\\_score\\_age\\_beauty               & model\\_score\\_beauty                   & reg\\_model\\_sc\\_rank                  & reg\\_score\\_age                       \\\\\n",
       "\t 0.496810538127208                & 0.503062402120685                & 0.52645713368483                 & 0.532573498183805                & 0.532915294230919                & 0.533678698301285                & 0.540108772025648                & 0.540156066212147               \\\\\n",
       "\\end{tabular}\n"
      ],
      "text/markdown": [
       "\n",
       "| reg_model_all_pred_var | reg_model_selected_variables | reg_score_age_beauty_interaction | reg_model_score_age_gender | reg_score_age_beauty | model_score_beauty | reg_model_sc_rank | reg_score_age |\n",
       "|---|---|---|---|---|---|---|---|\n",
       "| reg_model_all_pred_var           | reg_model_selected_variables     | reg_score_age_beauty_interaction | reg_model_score_age_gender       | reg_score_age_beauty             | model_score_beauty               | reg_model_sc_rank                | reg_score_age                    |\n",
       "| 0.496810538127208                | 0.503062402120685                | 0.52645713368483                 | 0.532573498183805                | 0.532915294230919                | 0.533678698301285                | 0.540108772025648                | 0.540156066212147                |\n",
       "\n"
      ],
      "text/plain": [
       "     reg_model_all_pred_var reg_model_selected_variables\n",
       "[1,] reg_model_all_pred_var reg_model_selected_variables\n",
       "[2,] 0.496810538127208      0.503062402120685           \n",
       "     reg_score_age_beauty_interaction reg_model_score_age_gender\n",
       "[1,] reg_score_age_beauty_interaction reg_model_score_age_gender\n",
       "[2,] 0.52645713368483                 0.532573498183805         \n",
       "     reg_score_age_beauty model_score_beauty reg_model_sc_rank\n",
       "[1,] reg_score_age_beauty model_score_beauty reg_model_sc_rank\n",
       "[2,] 0.532915294230919    0.533678698301285  0.540108772025648\n",
       "     reg_score_age    \n",
       "[1,] reg_score_age    \n",
       "[2,] 0.540156066212147"
      ]
     },
     "metadata": {},
     "output_type": "display_data"
    }
   ],
   "source": [
    "# Writing a function calculating the rmse over all models\n",
    "# rmse is a commonly used measure of preditive error.\n",
    "# rmse can be thought of as the 'typical' error a predicive model will make.\n",
    "\n",
    "rmse_calc_over_many_models <- \n",
    "function(regression_models, rmse_reg_model_names, response_variable){\n",
    "    \n",
    "    rmse_vector <- c()\n",
    "    rmse_names_vector<- c()\n",
    "    \n",
    "    for (i in 1:length(regression_models)) {\n",
    "        \n",
    "        rmse_vector[i] <- rmse(response_variable, predict(regression_models[[i]]))\n",
    "        rmse_names_vector[i] <- rmse_reg_model_names[[i]]\n",
    "        \n",
    "    \n",
    "    \n",
    "    }\n",
    "    \n",
    "    mapped <- mapply(c, rmse_names_vector, rmse_vector)\n",
    "    mapped <- mapped[, order(mapped[2,], decreasing = FALSE)]\n",
    "    return(mapped)\n",
    "    \n",
    "}\n",
    "\n",
    "\n",
    "\n",
    "rmse_calc_over_many_models(regression_models=Reg_models, \n",
    "                           rmse_reg_model_names=Reg_models_names, \n",
    "                           response_variable=evals$score)\n",
    "\n",
    "\n",
    "# The model \"reg_model_all_pred_var\" has the highest r-squared with 0.496810538127208\n",
    "# Lower values of the rmse point to a better model fit\n",
    "# This supports the conclusion with the RSS and R-squared\n",
    "# Transforming the variable can result in better predictions.\n",
    "\n",
    "\n"
   ]
  },
  {
   "cell_type": "code",
   "execution_count": 265,
   "metadata": {},
   "outputs": [
    {
     "data": {
      "text/html": [
       "<table>\n",
       "<thead><tr><th scope=col>reg_model_all_pred_var</th><th scope=col>reg_model_selected_variables</th><th scope=col>reg_score_age_beauty_interaction</th><th scope=col>reg_model_score_age_gender</th><th scope=col>reg_score_age_beauty</th><th scope=col>model_score_beauty</th><th scope=col>reg_model_sc_rank</th><th scope=col>reg_score_age</th></tr></thead>\n",
       "<tbody>\n",
       "\t<tr><td>reg_model_all_pred_var          </td><td>reg_model_selected_variables    </td><td>reg_score_age_beauty_interaction</td><td>reg_model_score_age_gender      </td><td>reg_score_age_beauty            </td><td>model_score_beauty              </td><td>reg_model_sc_rank               </td><td>reg_score_age                   </td></tr>\n",
       "\t<tr><td>0.496804101567985               </td><td>0.503061072599122               </td><td>0.526451692417494               </td><td>0.532557919258564               </td><td>0.532858054516866               </td><td>0.533699177528908               </td><td>0.540108830325993               </td><td>0.540130059931373               </td></tr>\n",
       "</tbody>\n",
       "</table>\n"
      ],
      "text/latex": [
       "\\begin{tabular}{llllllll}\n",
       " reg\\_model\\_all\\_pred\\_var & reg\\_model\\_selected\\_variables & reg\\_score\\_age\\_beauty\\_interaction & reg\\_model\\_score\\_age\\_gender & reg\\_score\\_age\\_beauty & model\\_score\\_beauty & reg\\_model\\_sc\\_rank & reg\\_score\\_age\\\\\n",
       "\\hline\n",
       "\t reg\\_model\\_all\\_pred\\_var           & reg\\_model\\_selected\\_variables       & reg\\_score\\_age\\_beauty\\_interaction & reg\\_model\\_score\\_age\\_gender       & reg\\_score\\_age\\_beauty               & model\\_score\\_beauty                   & reg\\_model\\_sc\\_rank                  & reg\\_score\\_age                       \\\\\n",
       "\t 0.496804101567985                & 0.503061072599122                & 0.526451692417494                & 0.532557919258564                & 0.532858054516866                & 0.533699177528908                & 0.540108830325993                & 0.540130059931373               \\\\\n",
       "\\end{tabular}\n"
      ],
      "text/markdown": [
       "\n",
       "| reg_model_all_pred_var | reg_model_selected_variables | reg_score_age_beauty_interaction | reg_model_score_age_gender | reg_score_age_beauty | model_score_beauty | reg_model_sc_rank | reg_score_age |\n",
       "|---|---|---|---|---|---|---|---|\n",
       "| reg_model_all_pred_var           | reg_model_selected_variables     | reg_score_age_beauty_interaction | reg_model_score_age_gender       | reg_score_age_beauty             | model_score_beauty               | reg_model_sc_rank                | reg_score_age                    |\n",
       "| 0.496804101567985                | 0.503061072599122                | 0.526451692417494                | 0.532557919258564                | 0.532858054516866                | 0.533699177528908                | 0.540108830325993                | 0.540130059931373                |\n",
       "\n"
      ],
      "text/plain": [
       "     reg_model_all_pred_var reg_model_selected_variables\n",
       "[1,] reg_model_all_pred_var reg_model_selected_variables\n",
       "[2,] 0.496804101567985      0.503061072599122           \n",
       "     reg_score_age_beauty_interaction reg_model_score_age_gender\n",
       "[1,] reg_score_age_beauty_interaction reg_model_score_age_gender\n",
       "[2,] 0.526451692417494                0.532557919258564         \n",
       "     reg_score_age_beauty model_score_beauty reg_model_sc_rank\n",
       "[1,] reg_score_age_beauty model_score_beauty reg_model_sc_rank\n",
       "[2,] 0.532858054516866    0.533699177528908  0.540108830325993\n",
       "     reg_score_age    \n",
       "[1,] reg_score_age    \n",
       "[2,] 0.540130059931373"
      ]
     },
     "metadata": {},
     "output_type": "display_data"
    }
   ],
   "source": [
    "# Mean Square Error = Mean Square Residuals; Residuals = Errors = gap between observed values and predicted values\n",
    "\n",
    "rmse_calc_over_many_models_alt <- \n",
    "\n",
    "function(regression_models, regression_model_names){\n",
    "    \n",
    "        rmse_vector <- c()\n",
    "        rmse_reg_model_names <- c()\n",
    "    \n",
    "        for (i in 1:length(regression_models)) {\n",
    "        \n",
    "\n",
    "    \n",
    "        rmse <- get_regression_points(regression_models[[i]]) %>% \n",
    "                mutate(RS=residual^2) %>% summarize(RSS=sqrt(mean(RS)))\n",
    "        # Sum of residuals square\n",
    "        # RSS <- as.numeric(RSS)\n",
    "        # RSS_vector[i] <- RSS\n",
    "        \n",
    "        rmse_vector[i] <- rmse\n",
    "        rmse_reg_model_names[i] <- regression_model_names[[i]]\n",
    "        \n",
    "        \n",
    "        \n",
    "    }\n",
    "    \n",
    "    mapped <- mapply(c, rmse_reg_model_names, rmse_vector )\n",
    "    mapped <- mapped[, order(mapped[2,])]\n",
    "    return(mapped)\n",
    "}\n",
    "\n",
    "\n",
    "rmse_calc_over_many_models_alt(Reg_models, Reg_models_names)\n",
    "\n",
    "\n",
    "# This version of calculating rmse delivers the same result"
   ]
  },
  {
   "cell_type": "code",
   "execution_count": 266,
   "metadata": {},
   "outputs": [
    {
     "name": "stdout",
     "output_type": "stream",
     "text": [
      "Observations: 463\n",
      "Variables: 13\n",
      "$ ID                 <int> 1, 2, 3, 4, 5, 6, 7, 8, 9, 10, 11, 12, 13, 14, 1...\n",
      "$ gender             <fct> female, female, female, female, male, male, male...\n",
      "$ ethnicity          <fct> minority, minority, minority, minority, not mino...\n",
      "$ language           <fct> english, english, english, english, english, eng...\n",
      "$ rank               <fct> tenure track, tenure track, tenure track, tenure...\n",
      "$ pic_outfit         <fct> not formal, not formal, not formal, not formal, ...\n",
      "$ pic_color          <fct> color, color, color, color, color, color, color,...\n",
      "$ cls_level          <fct> upper, upper, upper, upper, upper, upper, upper,...\n",
      "$ log10_score        <dbl> 0.6720979, 0.6127839, 0.5910646, 0.6812412, 0.66...\n",
      "$ log10_age          <dbl> 1.556303, 1.556303, 1.556303, 1.556303, 1.770852...\n",
      "$ log10_bty_avg      <dbl> 0.6989700, 0.6989700, 0.6989700, 0.6989700, 0.47...\n",
      "$ log10_cls_did_eval <dbl> 1.380211, 1.934498, 1.880814, 1.886491, 1.230449...\n",
      "$ log10_cls_students <dbl> 1.633468, 2.096910, 2.096910, 2.089905, 1.301030...\n"
     ]
    }
   ],
   "source": [
    "# Transforming all numerical variables of the data set evals with the logarithm to the basis 10\n",
    "# Reduce skewness of the distribution, make better predictions with condensed and compact distributions\n",
    "\n",
    "# Look at the data\n",
    "# log10(evals$score)\n",
    "# glimpse(evals)\n",
    "\n",
    "evals_log_transformed <-                \n",
    "evals %>% mutate(  log10_score =log10(score), log10_age =log10(age ), \n",
    "                    log10_bty_avg =log10(bty_avg), log10_cls_did_eval =log10(cls_did_eval),\n",
    "                    log10_cls_students =log10(cls_students)) \n",
    "\n",
    "# glimpse(evals_log_transformed)\n",
    "\n",
    "evals_log_transformed_select <- \n",
    "evals_log_transformed %>% dplyr :: select(ID, gender , ethnicity, language , rank , pic_outfit ,  pic_color, cls_level, \n",
    "                                         log10_score , log10_age, log10_bty_avg , log10_cls_did_eval, \n",
    "                                         log10_cls_students)\n",
    "           \n",
    "glimpse(evals_log_transformed_select)"
   ]
  },
  {
   "cell_type": "code",
   "execution_count": 267,
   "metadata": {},
   "outputs": [
    {
     "data": {
      "text/html": [
       "<table>\n",
       "<thead><tr><th scope=col>term</th><th scope=col>estimate</th><th scope=col>std_error</th><th scope=col>statistic</th><th scope=col>p_value</th><th scope=col>lower_ci</th><th scope=col>upper_ci</th></tr></thead>\n",
       "<tbody>\n",
       "\t<tr><td>intercept            </td><td> 0.841               </td><td>0.077                </td><td>10.860               </td><td>0.000                </td><td> 0.689               </td><td> 0.993               </td></tr>\n",
       "\t<tr><td>ID                   </td><td> 0.000               </td><td>0.000                </td><td>-2.140               </td><td>0.033                </td><td> 0.000               </td><td> 0.000               </td></tr>\n",
       "\t<tr><td>gendermale           </td><td> 0.027               </td><td>0.006                </td><td> 4.554               </td><td>0.000                </td><td> 0.015               </td><td> 0.038               </td></tr>\n",
       "\t<tr><td>ethnicitynot minority</td><td> 0.006               </td><td>0.009                </td><td> 0.679               </td><td>0.498                </td><td>-0.011               </td><td> 0.023               </td></tr>\n",
       "\t<tr><td>languagenon-english  </td><td>-0.025               </td><td>0.013                </td><td>-1.997               </td><td>0.046                </td><td>-0.050               </td><td> 0.000               </td></tr>\n",
       "\t<tr><td>ranktenure track     </td><td>-0.023               </td><td>0.010                </td><td>-2.368               </td><td>0.018                </td><td>-0.041               </td><td>-0.004               </td></tr>\n",
       "\t<tr><td>ranktenured          </td><td>-0.018               </td><td>0.007                </td><td>-2.464               </td><td>0.014                </td><td>-0.032               </td><td>-0.004               </td></tr>\n",
       "\t<tr><td>pic_outfitnot formal </td><td>-0.015               </td><td>0.008                </td><td>-1.930               </td><td>0.054                </td><td>-0.031               </td><td> 0.000               </td></tr>\n",
       "\t<tr><td>pic_colorcolor       </td><td>-0.026               </td><td>0.008                </td><td>-3.108               </td><td>0.002                </td><td>-0.042               </td><td>-0.010               </td></tr>\n",
       "\t<tr><td>cls_levelupper       </td><td>-0.009               </td><td>0.007                </td><td>-1.240               </td><td>0.216                </td><td>-0.022               </td><td> 0.005               </td></tr>\n",
       "\t<tr><td>log10_age            </td><td>-0.112               </td><td>0.040                </td><td>-2.796               </td><td>0.005                </td><td>-0.191               </td><td>-0.033               </td></tr>\n",
       "\t<tr><td>log10_bty_avg        </td><td> 0.049               </td><td>0.019                </td><td> 2.570               </td><td>0.010                </td><td> 0.012               </td><td> 0.087               </td></tr>\n",
       "\t<tr><td>log10_cls_did_eval   </td><td> 0.061               </td><td>0.026                </td><td> 2.378               </td><td>0.018                </td><td> 0.011               </td><td> 0.112               </td></tr>\n",
       "\t<tr><td>log10_cls_students   </td><td>-0.068               </td><td>0.024                </td><td>-2.890               </td><td>0.004                </td><td>-0.114               </td><td>-0.022               </td></tr>\n",
       "</tbody>\n",
       "</table>\n"
      ],
      "text/latex": [
       "\\begin{tabular}{r|lllllll}\n",
       " term & estimate & std\\_error & statistic & p\\_value & lower\\_ci & upper\\_ci\\\\\n",
       "\\hline\n",
       "\t intercept             &  0.841                & 0.077                 & 10.860                & 0.000                 &  0.689                &  0.993               \\\\\n",
       "\t ID                    &  0.000                & 0.000                 & -2.140                & 0.033                 &  0.000                &  0.000               \\\\\n",
       "\t gendermale            &  0.027                & 0.006                 &  4.554                & 0.000                 &  0.015                &  0.038               \\\\\n",
       "\t ethnicitynot minority &  0.006                & 0.009                 &  0.679                & 0.498                 & -0.011                &  0.023               \\\\\n",
       "\t languagenon-english   & -0.025                & 0.013                 & -1.997                & 0.046                 & -0.050                &  0.000               \\\\\n",
       "\t ranktenure track      & -0.023                & 0.010                 & -2.368                & 0.018                 & -0.041                & -0.004               \\\\\n",
       "\t ranktenured           & -0.018                & 0.007                 & -2.464                & 0.014                 & -0.032                & -0.004               \\\\\n",
       "\t pic\\_outfitnot formal  & -0.015                  & 0.008                   & -1.930                  & 0.054                   & -0.031                  &  0.000                 \\\\\n",
       "\t pic\\_colorcolor        & -0.026                  & 0.008                   & -3.108                  & 0.002                   & -0.042                  & -0.010                 \\\\\n",
       "\t cls\\_levelupper        & -0.009                  & 0.007                   & -1.240                  & 0.216                   & -0.022                  &  0.005                 \\\\\n",
       "\t log10\\_age             & -0.112                  & 0.040                   & -2.796                  & 0.005                   & -0.191                  & -0.033                 \\\\\n",
       "\t log10\\_bty\\_avg         &  0.049                    & 0.019                     &  2.570                    & 0.010                     &  0.012                    &  0.087                   \\\\\n",
       "\t log10\\_cls\\_did\\_eval    &  0.061                      & 0.026                       &  2.378                      & 0.018                       &  0.011                      &  0.112                     \\\\\n",
       "\t log10\\_cls\\_students    & -0.068                    & 0.024                     & -2.890                    & 0.004                     & -0.114                    & -0.022                   \\\\\n",
       "\\end{tabular}\n"
      ],
      "text/markdown": [
       "\n",
       "| term | estimate | std_error | statistic | p_value | lower_ci | upper_ci |\n",
       "|---|---|---|---|---|---|---|\n",
       "| intercept             |  0.841                | 0.077                 | 10.860                | 0.000                 |  0.689                |  0.993                |\n",
       "| ID                    |  0.000                | 0.000                 | -2.140                | 0.033                 |  0.000                |  0.000                |\n",
       "| gendermale            |  0.027                | 0.006                 |  4.554                | 0.000                 |  0.015                |  0.038                |\n",
       "| ethnicitynot minority |  0.006                | 0.009                 |  0.679                | 0.498                 | -0.011                |  0.023                |\n",
       "| languagenon-english   | -0.025                | 0.013                 | -1.997                | 0.046                 | -0.050                |  0.000                |\n",
       "| ranktenure track      | -0.023                | 0.010                 | -2.368                | 0.018                 | -0.041                | -0.004                |\n",
       "| ranktenured           | -0.018                | 0.007                 | -2.464                | 0.014                 | -0.032                | -0.004                |\n",
       "| pic_outfitnot formal  | -0.015                | 0.008                 | -1.930                | 0.054                 | -0.031                |  0.000                |\n",
       "| pic_colorcolor        | -0.026                | 0.008                 | -3.108                | 0.002                 | -0.042                | -0.010                |\n",
       "| cls_levelupper        | -0.009                | 0.007                 | -1.240                | 0.216                 | -0.022                |  0.005                |\n",
       "| log10_age             | -0.112                | 0.040                 | -2.796                | 0.005                 | -0.191                | -0.033                |\n",
       "| log10_bty_avg         |  0.049                | 0.019                 |  2.570                | 0.010                 |  0.012                |  0.087                |\n",
       "| log10_cls_did_eval    |  0.061                | 0.026                 |  2.378                | 0.018                 |  0.011                |  0.112                |\n",
       "| log10_cls_students    | -0.068                | 0.024                 | -2.890                | 0.004                 | -0.114                | -0.022                |\n",
       "\n"
      ],
      "text/plain": [
       "   term                  estimate std_error statistic p_value lower_ci upper_ci\n",
       "1  intercept              0.841   0.077     10.860    0.000    0.689    0.993  \n",
       "2  ID                     0.000   0.000     -2.140    0.033    0.000    0.000  \n",
       "3  gendermale             0.027   0.006      4.554    0.000    0.015    0.038  \n",
       "4  ethnicitynot minority  0.006   0.009      0.679    0.498   -0.011    0.023  \n",
       "5  languagenon-english   -0.025   0.013     -1.997    0.046   -0.050    0.000  \n",
       "6  ranktenure track      -0.023   0.010     -2.368    0.018   -0.041   -0.004  \n",
       "7  ranktenured           -0.018   0.007     -2.464    0.014   -0.032   -0.004  \n",
       "8  pic_outfitnot formal  -0.015   0.008     -1.930    0.054   -0.031    0.000  \n",
       "9  pic_colorcolor        -0.026   0.008     -3.108    0.002   -0.042   -0.010  \n",
       "10 cls_levelupper        -0.009   0.007     -1.240    0.216   -0.022    0.005  \n",
       "11 log10_age             -0.112   0.040     -2.796    0.005   -0.191   -0.033  \n",
       "12 log10_bty_avg          0.049   0.019      2.570    0.010    0.012    0.087  \n",
       "13 log10_cls_did_eval     0.061   0.026      2.378    0.018    0.011    0.112  \n",
       "14 log10_cls_students    -0.068   0.024     -2.890    0.004   -0.114   -0.022  "
      ]
     },
     "metadata": {},
     "output_type": "display_data"
    },
    {
     "data": {
      "text/plain": [
       "\n",
       "Call:\n",
       "lm(formula = log10_score ~ ., data = evals_log_transformed_select)\n",
       "\n",
       "Residuals:\n",
       "     Min       1Q   Median       3Q      Max \n",
       "-0.24679 -0.03236  0.01258  0.03978  0.10444 \n",
       "\n",
       "Coefficients:\n",
       "                        Estimate Std. Error t value Pr(>|t|)    \n",
       "(Intercept)            8.412e-01  7.745e-02  10.860  < 2e-16 ***\n",
       "ID                    -5.105e-05  2.386e-05  -2.140  0.03291 *  \n",
       "gendermale             2.654e-02  5.828e-03   4.554 6.79e-06 ***\n",
       "ethnicitynot minority  5.816e-03  8.567e-03   0.679  0.49754    \n",
       "languagenon-english   -2.517e-02  1.260e-02  -1.997  0.04641 *  \n",
       "ranktenure track      -2.263e-02  9.556e-03  -2.368  0.01832 *  \n",
       "ranktenured           -1.781e-02  7.226e-03  -2.464  0.01411 *  \n",
       "pic_outfitnot formal  -1.536e-02  7.960e-03  -1.930  0.05427 .  \n",
       "pic_colorcolor        -2.592e-02  8.338e-03  -3.108  0.00200 ** \n",
       "cls_levelupper        -8.510e-03  6.863e-03  -1.240  0.21558    \n",
       "log10_age             -1.120e-01  4.006e-02  -2.796  0.00540 ** \n",
       "log10_bty_avg          4.942e-02  1.923e-02   2.570  0.01050 *  \n",
       "log10_cls_did_eval     6.108e-02  2.568e-02   2.378  0.01781 *  \n",
       "log10_cls_students    -6.809e-02  2.356e-02  -2.890  0.00404 ** \n",
       "---\n",
       "Signif. codes:  0 '***' 0.001 '**' 0.01 '*' 0.05 '.' 0.1 ' ' 1\n",
       "\n",
       "Residual standard error: 0.05652 on 449 degrees of freedom\n",
       "Multiple R-squared:  0.1565,\tAdjusted R-squared:  0.1321 \n",
       "F-statistic: 6.409 on 13 and 449 DF,  p-value: 3.463e-11\n"
      ]
     },
     "metadata": {},
     "output_type": "display_data"
    }
   ],
   "source": [
    "# Build a regression model with evals_log_transformed_select using log transformed numerical values\n",
    "\n",
    "reg_model_evals_log_transformed_select_all_variables <-\n",
    "lm(log10_score ~ ., data=evals_log_transformed_select)\n",
    "\n",
    "get_regression_table(reg_model_evals_log_transformed_select_all_variables)\n",
    "summary(reg_model_evals_log_transformed_select_all_variables)"
   ]
  },
  {
   "cell_type": "code",
   "execution_count": 268,
   "metadata": {},
   "outputs": [
    {
     "data": {
      "text/html": [
       "<ol class=list-inline>\n",
       "\t<li><span style=white-space:pre-wrap>'RSS_log_transformed:  reg_model_evals_log_transformed_select_all_variables'</span></li>\n",
       "\t<li><span style=white-space:pre-wrap>'RSS_log_transformed:  1.434763'</span></li>\n",
       "</ol>\n"
      ],
      "text/latex": [
       "\\begin{enumerate*}\n",
       "\\item 'RSS\\_log\\_transformed:  reg\\_model\\_evals\\_log\\_transformed\\_select\\_all\\_variables'\n",
       "\\item 'RSS\\_log\\_transformed:  1.434763'\n",
       "\\end{enumerate*}\n"
      ],
      "text/markdown": [
       "1. <span style=white-space:pre-wrap>'RSS_log_transformed:  reg_model_evals_log_transformed_select_all_variables'</span>\n",
       "2. <span style=white-space:pre-wrap>'RSS_log_transformed:  1.434763'</span>\n",
       "\n",
       "\n"
      ],
      "text/plain": [
       "[1] \"RSS_log_transformed:  reg_model_evals_log_transformed_select_all_variables\"\n",
       "[2] \"RSS_log_transformed:  1.434763\"                                            "
      ]
     },
     "metadata": {},
     "output_type": "display_data"
    },
    {
     "data": {
      "text/html": [
       "<span style=white-space:pre-wrap>'R_squared_log_transformed:  0.156161609055826'</span>"
      ],
      "text/latex": [
       "'R\\_squared\\_log\\_transformed:  0.156161609055826'"
      ],
      "text/markdown": [
       "<span style=white-space:pre-wrap>'R_squared_log_transformed:  0.156161609055826'</span>"
      ],
      "text/plain": [
       "[1] \"R_squared_log_transformed:  0.156161609055826\""
      ]
     },
     "metadata": {},
     "output_type": "display_data"
    },
    {
     "data": {
      "text/html": [
       "<span style=white-space:pre-wrap>'rmse_evals_log_transformed:  0.0556551904827319'</span>"
      ],
      "text/latex": [
       "'rmse\\_evals\\_log\\_transformed:  0.0556551904827319'"
      ],
      "text/markdown": [
       "<span style=white-space:pre-wrap>'rmse_evals_log_transformed:  0.0556551904827319'</span>"
      ],
      "text/plain": [
       "[1] \"rmse_evals_log_transformed:  0.0556551904827319\""
      ]
     },
     "metadata": {},
     "output_type": "display_data"
    },
    {
     "data": {
      "text/html": [
       "<table>\n",
       "<thead><tr><th scope=col>Minimum</th><th scope=col>Maximum</th><th scope=col>rmse_reversed</th></tr></thead>\n",
       "<tbody>\n",
       "\t<tr><td>2.3     </td><td>5       </td><td>1.136724</td></tr>\n",
       "</tbody>\n",
       "</table>\n"
      ],
      "text/latex": [
       "\\begin{tabular}{r|lll}\n",
       " Minimum & Maximum & rmse\\_reversed\\\\\n",
       "\\hline\n",
       "\t 2.3      & 5        & 1.136724\\\\\n",
       "\\end{tabular}\n"
      ],
      "text/markdown": [
       "\n",
       "| Minimum | Maximum | rmse_reversed |\n",
       "|---|---|---|\n",
       "| 2.3      | 5        | 1.136724 |\n",
       "\n"
      ],
      "text/plain": [
       "  Minimum Maximum rmse_reversed\n",
       "1 2.3     5       1.136724     "
      ]
     },
     "metadata": {},
     "output_type": "display_data"
    }
   ],
   "source": [
    "# Model assesement\n",
    "\n",
    "RSS_log_transformed_select <-\n",
    "RSS_calc_fun(reg_model_evals_log_transformed_select_all_variables)\n",
    "\n",
    "\n",
    "R_squared_log_transformed_select <-\n",
    "R_squared_calc(regression_model=reg_model_evals_log_transformed_select_all_variables, \n",
    "               dependent_variable=evals_log_transformed_select$log10_score)\n",
    "\n",
    "\n",
    "rmse_evals_log_transformed_select <- \n",
    "rmse(evals_log_transformed_select$log10_score, predict(reg_model_evals_log_transformed_select_all_variables))\n",
    "\n",
    "\n",
    "\n",
    "# RSS_finding_for_many_models(Reg_models_log_transformed, Reg_models_names_log_transformed)\n",
    "# Does not work why?\n",
    "# for (i in 1:length(reg_models)), reg_models is a specific list of models and not a variable\n",
    "# Forrected: for (i in 1:length(regression_models))\n",
    "\n",
    "Reg_models_evals_log_transformed <-\n",
    "list(reg_model_evals_log_transformed_select_all_variables)\n",
    "\n",
    "Reg_models_evals_log_transformed_names <-\n",
    "list(\"reg_model_evals_log_transformed_select_all_variables\")\n",
    "\n",
    "RSS_evals_log_transformed_select <-\n",
    "RSS_finding_for_many_models(Reg_models_evals_log_transformed , Reg_models_evals_log_transformed_names )\n",
    "\n",
    "paste(\"RSS_log_transformed: \", RSS_evals_log_transformed_select)\n",
    "paste(\"R_squared_log_transformed: \", R_squared_log_transformed_select)\n",
    "paste(\"rmse_evals_log_transformed: \", rmse_evals_log_transformed_select)\n",
    "\n",
    "# Conclusion:\n",
    "# rmse_evals_log_transformed:  0.0556551904827319 compared with 0.496810538127208 of the  best not transformed model\n",
    "# The data tranformation resulted in significant improvement in model performance or quality\n",
    "# rmse is on the same scale as the response variable\n",
    "# rmse has the same unit as the dependent variable\n",
    "# R_squared_log_transformed:  0.156161609055826 compared 0.163765841959724 of the  best not transformed model\n",
    "# R_squared not tranformed is a slightly better fit\n",
    "# The RSS is not useful to compare between transformed and not transformed data\n",
    "# The scale is different\n",
    "# It could be useful comparing within transformed data\n",
    "\n",
    "rmse_reverse_transformation <-\n",
    "10^(0.0556551904827319)\n",
    "\n",
    "\n",
    "evals %>% summarize(Minimum=min(score),\n",
    "                    Maximum=max(score),\n",
    "                    rmse_reversed=rmse_reverse_transformation)\n"
   ]
  },
  {
   "cell_type": "code",
   "execution_count": 269,
   "metadata": {},
   "outputs": [
    {
     "name": "stdout",
     "output_type": "stream",
     "text": [
      "Observations: 463\n",
      "Variables: 13\n",
      "$ ID           <int> 1, 2, 3, 4, 5, 6, 7, 8, 9, 10, 11, 12, 13, 14, 15, 16,...\n",
      "$ score        <dbl> 4.7, 4.1, 3.9, 4.8, 4.6, 4.3, 2.8, 4.1, 3.4, 4.5, 3.8,...\n",
      "$ age          <int> 36, 36, 36, 36, 59, 59, 59, 51, 51, 40, 40, 40, 40, 40...\n",
      "$ bty_avg      <dbl> 5.000, 5.000, 5.000, 5.000, 3.000, 3.000, 3.000, 3.333...\n",
      "$ gender       <fct> female, female, female, female, male, male, male, male...\n",
      "$ ethnicity    <fct> minority, minority, minority, minority, not minority, ...\n",
      "$ language     <fct> english, english, english, english, english, english, ...\n",
      "$ rank         <fct> tenure track, tenure track, tenure track, tenure track...\n",
      "$ pic_outfit   <fct> not formal, not formal, not formal, not formal, not fo...\n",
      "$ pic_color    <fct> color, color, color, color, color, color, color, color...\n",
      "$ cls_did_eval <int> 24, 86, 76, 77, 17, 35, 39, 55, 111, 40, 24, 24, 17, 1...\n",
      "$ cls_students <int> 43, 125, 125, 123, 20, 40, 44, 55, 195, 46, 27, 25, 20...\n",
      "$ cls_level    <fct> upper, upper, upper, upper, upper, upper, upper, upper...\n"
     ]
    },
    {
     "data": {
      "image/png": "[encoded data removed]",
      "text/plain": [
       "plot without title"
      ]
     },
     "metadata": {},
     "output_type": "display_data"
    }
   ],
   "source": [
    "# correlation plot over the numeric variables of evals - evaluations\n",
    "glimpse(evals)\n",
    "\n",
    "evals_age_other <- dplyr::select(evals , age, score, bty_avg, cls_did_eval, cls_students)\n",
    "\n",
    "cor_matrix_evals <- round(cor(evals_age_other), 4)\n",
    "ggcorrplot(cor_matrix_evals)"
   ]
  },
  {
   "cell_type": "code",
   "execution_count": null,
   "metadata": {},
   "outputs": [],
   "source": []
  }
 ],
 "metadata": {
  "kernelspec": {
   "display_name": "R",
   "language": "R",
   "name": "ir"
  },
  "language_info": {
   "codemirror_mode": "r",
   "file_extension": ".r",
   "mimetype": "text/x-r-source",
   "name": "R",
   "pygments_lexer": "r",
   "version": "3.5.1"
  }
 },
 "nbformat": 4,
 "nbformat_minor": 2
}
